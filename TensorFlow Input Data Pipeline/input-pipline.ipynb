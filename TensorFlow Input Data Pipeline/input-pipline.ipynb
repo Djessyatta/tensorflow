{
 "cells": [
  {
   "cell_type": "markdown",
   "metadata": {},
   "source": [
    "### Charger les bibliothèques"
   ]
  },
  {
   "cell_type": "code",
   "execution_count": 44,
   "metadata": {},
   "outputs": [],
   "source": [
    "import pandas as pd\n",
    "from sklearn.model_selection import train_test_split\n",
    "import tensorflow as tf\n",
    "from tensorflow.keras import layers\n",
    "import matplotlib.pyplot as plt\n",
    "from tensorflow import feature_column\n",
    "import numpy as np"
   ]
  },
  {
   "cell_type": "markdown",
   "metadata": {},
   "source": [
    "### Charger un fichier dans un dataframe pandas "
   ]
  },
  {
   "cell_type": "code",
   "execution_count": 58,
   "metadata": {},
   "outputs": [
    {
     "data": {
      "text/html": [
       "<div>\n",
       "<style scoped>\n",
       "    .dataframe tbody tr th:only-of-type {\n",
       "        vertical-align: middle;\n",
       "    }\n",
       "\n",
       "    .dataframe tbody tr th {\n",
       "        vertical-align: top;\n",
       "    }\n",
       "\n",
       "    .dataframe thead th {\n",
       "        text-align: right;\n",
       "    }\n",
       "</style>\n",
       "<table border=\"1\" class=\"dataframe\">\n",
       "  <thead>\n",
       "    <tr style=\"text-align: right;\">\n",
       "      <th></th>\n",
       "      <th>id_zone</th>\n",
       "      <th>id_quartier</th>\n",
       "      <th>nom_quartier</th>\n",
       "      <th>piece</th>\n",
       "      <th>epoque</th>\n",
       "      <th>meuble_txt</th>\n",
       "      <th>ref</th>\n",
       "      <th>max</th>\n",
       "      <th>min</th>\n",
       "      <th>annee</th>\n",
       "      <th>ville</th>\n",
       "      <th>code_grand_quartier</th>\n",
       "      <th>geo_shape</th>\n",
       "      <th>geo_point_2d</th>\n",
       "    </tr>\n",
       "  </thead>\n",
       "  <tbody>\n",
       "    <tr>\n",
       "      <th>0</th>\n",
       "      <td>11</td>\n",
       "      <td>77</td>\n",
       "      <td>Belleville</td>\n",
       "      <td>4</td>\n",
       "      <td>Avant 1946</td>\n",
       "      <td>non meublé</td>\n",
       "      <td>21.4</td>\n",
       "      <td>25.68</td>\n",
       "      <td>14.98</td>\n",
       "      <td>2020</td>\n",
       "      <td>PARIS</td>\n",
       "      <td>7512077</td>\n",
       "      <td>{\"type\": \"Polygon\", \"coordinates\": [[[2.383226...</td>\n",
       "      <td>48.8715312006,2.38754923985</td>\n",
       "    </tr>\n",
       "    <tr>\n",
       "      <th>1</th>\n",
       "      <td>13</td>\n",
       "      <td>75</td>\n",
       "      <td>Amérique</td>\n",
       "      <td>3</td>\n",
       "      <td>1971-1990</td>\n",
       "      <td>non meublé</td>\n",
       "      <td>16.7</td>\n",
       "      <td>20.04</td>\n",
       "      <td>11.69</td>\n",
       "      <td>2020</td>\n",
       "      <td>PARIS</td>\n",
       "      <td>7511975</td>\n",
       "      <td>{\"type\": \"Polygon\", \"coordinates\": [[[2.409402...</td>\n",
       "      <td>48.8816381673,2.39544016662</td>\n",
       "    </tr>\n",
       "    <tr>\n",
       "      <th>2</th>\n",
       "      <td>13</td>\n",
       "      <td>74</td>\n",
       "      <td>Pont-de-Flandre</td>\n",
       "      <td>2</td>\n",
       "      <td>1971-1990</td>\n",
       "      <td>meublé</td>\n",
       "      <td>20.2</td>\n",
       "      <td>24.24</td>\n",
       "      <td>14.14</td>\n",
       "      <td>2020</td>\n",
       "      <td>PARIS</td>\n",
       "      <td>7511974</td>\n",
       "      <td>{\"type\": \"Polygon\", \"coordinates\": [[[2.384878...</td>\n",
       "      <td>48.8955557746,2.38477722927</td>\n",
       "    </tr>\n",
       "    <tr>\n",
       "      <th>3</th>\n",
       "      <td>13</td>\n",
       "      <td>75</td>\n",
       "      <td>Amérique</td>\n",
       "      <td>1</td>\n",
       "      <td>1971-1990</td>\n",
       "      <td>meublé</td>\n",
       "      <td>24.0</td>\n",
       "      <td>28.80</td>\n",
       "      <td>16.80</td>\n",
       "      <td>2020</td>\n",
       "      <td>PARIS</td>\n",
       "      <td>7511975</td>\n",
       "      <td>{\"type\": \"Polygon\", \"coordinates\": [[[2.409402...</td>\n",
       "      <td>48.8816381673,2.39544016662</td>\n",
       "    </tr>\n",
       "    <tr>\n",
       "      <th>4</th>\n",
       "      <td>13</td>\n",
       "      <td>78</td>\n",
       "      <td>Saint-Fargeau</td>\n",
       "      <td>1</td>\n",
       "      <td>Avant 1946</td>\n",
       "      <td>meublé</td>\n",
       "      <td>29.4</td>\n",
       "      <td>35.28</td>\n",
       "      <td>20.58</td>\n",
       "      <td>2020</td>\n",
       "      <td>PARIS</td>\n",
       "      <td>7512078</td>\n",
       "      <td>{\"type\": \"Polygon\", \"coordinates\": [[[2.413813...</td>\n",
       "      <td>48.8710347391,2.40617153015</td>\n",
       "    </tr>\n",
       "  </tbody>\n",
       "</table>\n",
       "</div>"
      ],
      "text/plain": [
       "   id_zone  id_quartier     nom_quartier  piece      epoque  meuble_txt   ref  \\\n",
       "0       11           77       Belleville      4  Avant 1946  non meublé  21.4   \n",
       "1       13           75         Amérique      3   1971-1990  non meublé  16.7   \n",
       "2       13           74  Pont-de-Flandre      2   1971-1990      meublé  20.2   \n",
       "3       13           75         Amérique      1   1971-1990      meublé  24.0   \n",
       "4       13           78    Saint-Fargeau      1  Avant 1946      meublé  29.4   \n",
       "\n",
       "     max    min  annee  ville  code_grand_quartier  \\\n",
       "0  25.68  14.98   2020  PARIS              7512077   \n",
       "1  20.04  11.69   2020  PARIS              7511975   \n",
       "2  24.24  14.14   2020  PARIS              7511974   \n",
       "3  28.80  16.80   2020  PARIS              7511975   \n",
       "4  35.28  20.58   2020  PARIS              7512078   \n",
       "\n",
       "                                           geo_shape  \\\n",
       "0  {\"type\": \"Polygon\", \"coordinates\": [[[2.383226...   \n",
       "1  {\"type\": \"Polygon\", \"coordinates\": [[[2.409402...   \n",
       "2  {\"type\": \"Polygon\", \"coordinates\": [[[2.384878...   \n",
       "3  {\"type\": \"Polygon\", \"coordinates\": [[[2.409402...   \n",
       "4  {\"type\": \"Polygon\", \"coordinates\": [[[2.413813...   \n",
       "\n",
       "                  geo_point_2d  \n",
       "0  48.8715312006,2.38754923985  \n",
       "1  48.8816381673,2.39544016662  \n",
       "2  48.8955557746,2.38477722927  \n",
       "3  48.8816381673,2.39544016662  \n",
       "4  48.8710347391,2.40617153015  "
      ]
     },
     "execution_count": 58,
     "metadata": {},
     "output_type": "execute_result"
    }
   ],
   "source": [
    "df_logement = pd.read_csv('./data/logement-encadrement-des-loyers.csv', sep=';')\n",
    "df_logement.head()"
   ]
  },
  {
   "cell_type": "markdown",
   "metadata": {},
   "source": [
    "Créer des colonnes séparé pour la latitude et la longitude"
   ]
  },
  {
   "cell_type": "code",
   "execution_count": 59,
   "metadata": {},
   "outputs": [
    {
     "data": {
      "text/html": [
       "<div>\n",
       "<style scoped>\n",
       "    .dataframe tbody tr th:only-of-type {\n",
       "        vertical-align: middle;\n",
       "    }\n",
       "\n",
       "    .dataframe tbody tr th {\n",
       "        vertical-align: top;\n",
       "    }\n",
       "\n",
       "    .dataframe thead th {\n",
       "        text-align: right;\n",
       "    }\n",
       "</style>\n",
       "<table border=\"1\" class=\"dataframe\">\n",
       "  <thead>\n",
       "    <tr style=\"text-align: right;\">\n",
       "      <th></th>\n",
       "      <th>id_zone</th>\n",
       "      <th>id_quartier</th>\n",
       "      <th>nom_quartier</th>\n",
       "      <th>piece</th>\n",
       "      <th>epoque</th>\n",
       "      <th>meuble_txt</th>\n",
       "      <th>ref</th>\n",
       "      <th>max</th>\n",
       "      <th>min</th>\n",
       "      <th>annee</th>\n",
       "      <th>ville</th>\n",
       "      <th>code_grand_quartier</th>\n",
       "      <th>lat</th>\n",
       "      <th>lon</th>\n",
       "    </tr>\n",
       "  </thead>\n",
       "  <tbody>\n",
       "    <tr>\n",
       "      <th>0</th>\n",
       "      <td>11</td>\n",
       "      <td>77</td>\n",
       "      <td>Belleville</td>\n",
       "      <td>4</td>\n",
       "      <td>Avant 1946</td>\n",
       "      <td>non meublé</td>\n",
       "      <td>21.4</td>\n",
       "      <td>25.68</td>\n",
       "      <td>14.98</td>\n",
       "      <td>2020</td>\n",
       "      <td>PARIS</td>\n",
       "      <td>7512077</td>\n",
       "      <td>48.871531</td>\n",
       "      <td>2.387549</td>\n",
       "    </tr>\n",
       "    <tr>\n",
       "      <th>1</th>\n",
       "      <td>13</td>\n",
       "      <td>75</td>\n",
       "      <td>Amérique</td>\n",
       "      <td>3</td>\n",
       "      <td>1971-1990</td>\n",
       "      <td>non meublé</td>\n",
       "      <td>16.7</td>\n",
       "      <td>20.04</td>\n",
       "      <td>11.69</td>\n",
       "      <td>2020</td>\n",
       "      <td>PARIS</td>\n",
       "      <td>7511975</td>\n",
       "      <td>48.881638</td>\n",
       "      <td>2.395440</td>\n",
       "    </tr>\n",
       "    <tr>\n",
       "      <th>2</th>\n",
       "      <td>13</td>\n",
       "      <td>74</td>\n",
       "      <td>Pont-de-Flandre</td>\n",
       "      <td>2</td>\n",
       "      <td>1971-1990</td>\n",
       "      <td>meublé</td>\n",
       "      <td>20.2</td>\n",
       "      <td>24.24</td>\n",
       "      <td>14.14</td>\n",
       "      <td>2020</td>\n",
       "      <td>PARIS</td>\n",
       "      <td>7511974</td>\n",
       "      <td>48.895556</td>\n",
       "      <td>2.384777</td>\n",
       "    </tr>\n",
       "    <tr>\n",
       "      <th>3</th>\n",
       "      <td>13</td>\n",
       "      <td>75</td>\n",
       "      <td>Amérique</td>\n",
       "      <td>1</td>\n",
       "      <td>1971-1990</td>\n",
       "      <td>meublé</td>\n",
       "      <td>24.0</td>\n",
       "      <td>28.80</td>\n",
       "      <td>16.80</td>\n",
       "      <td>2020</td>\n",
       "      <td>PARIS</td>\n",
       "      <td>7511975</td>\n",
       "      <td>48.881638</td>\n",
       "      <td>2.395440</td>\n",
       "    </tr>\n",
       "    <tr>\n",
       "      <th>4</th>\n",
       "      <td>13</td>\n",
       "      <td>78</td>\n",
       "      <td>Saint-Fargeau</td>\n",
       "      <td>1</td>\n",
       "      <td>Avant 1946</td>\n",
       "      <td>meublé</td>\n",
       "      <td>29.4</td>\n",
       "      <td>35.28</td>\n",
       "      <td>20.58</td>\n",
       "      <td>2020</td>\n",
       "      <td>PARIS</td>\n",
       "      <td>7512078</td>\n",
       "      <td>48.871035</td>\n",
       "      <td>2.406172</td>\n",
       "    </tr>\n",
       "  </tbody>\n",
       "</table>\n",
       "</div>"
      ],
      "text/plain": [
       "   id_zone  id_quartier     nom_quartier  piece      epoque  meuble_txt   ref  \\\n",
       "0       11           77       Belleville      4  Avant 1946  non meublé  21.4   \n",
       "1       13           75         Amérique      3   1971-1990  non meublé  16.7   \n",
       "2       13           74  Pont-de-Flandre      2   1971-1990      meublé  20.2   \n",
       "3       13           75         Amérique      1   1971-1990      meublé  24.0   \n",
       "4       13           78    Saint-Fargeau      1  Avant 1946      meublé  29.4   \n",
       "\n",
       "     max    min  annee  ville  code_grand_quartier        lat       lon  \n",
       "0  25.68  14.98   2020  PARIS              7512077  48.871531  2.387549  \n",
       "1  20.04  11.69   2020  PARIS              7511975  48.881638  2.395440  \n",
       "2  24.24  14.14   2020  PARIS              7511974  48.895556  2.384777  \n",
       "3  28.80  16.80   2020  PARIS              7511975  48.881638  2.395440  \n",
       "4  35.28  20.58   2020  PARIS              7512078  48.871035  2.406172  "
      ]
     },
     "execution_count": 59,
     "metadata": {},
     "output_type": "execute_result"
    }
   ],
   "source": [
    "# Créer deux colonnes pour la latitute et la longitude\n",
    "lat_lon = df_logement['geo_point_2d'].str.split(',', expand = True)\n",
    "# Ajouter les colonnes au dataframe\n",
    "df_logement['lat'] = lat_lon[0].astype(float)\n",
    "df_logement['lon'] = lat_lon[1].astype(float)\n",
    "# Supprimer les colonnes colonnes \n",
    "df_logement = df_logement.drop(['geo_shape', 'geo_point_2d'], axis=1)\n",
    "\n",
    "df_logement.head()"
   ]
  },
  {
   "cell_type": "code",
   "execution_count": 60,
   "metadata": {},
   "outputs": [
    {
     "name": "stdout",
     "output_type": "stream",
     "text": [
      "<class 'pandas.core.frame.DataFrame'>\n",
      "RangeIndex: 2560 entries, 0 to 2559\n",
      "Data columns (total 14 columns):\n",
      " #   Column               Non-Null Count  Dtype  \n",
      "---  ------               --------------  -----  \n",
      " 0   id_zone              2560 non-null   int64  \n",
      " 1   id_quartier          2560 non-null   int64  \n",
      " 2   nom_quartier         2560 non-null   object \n",
      " 3   piece                2560 non-null   int64  \n",
      " 4   epoque               2560 non-null   object \n",
      " 5   meuble_txt           2560 non-null   object \n",
      " 6   ref                  2560 non-null   float64\n",
      " 7   max                  2560 non-null   float64\n",
      " 8   min                  2560 non-null   float64\n",
      " 9   annee                2560 non-null   int64  \n",
      " 10  ville                2560 non-null   object \n",
      " 11  code_grand_quartier  2560 non-null   int64  \n",
      " 12  lat                  2560 non-null   float64\n",
      " 13  lon                  2560 non-null   float64\n",
      "dtypes: float64(5), int64(5), object(4)\n",
      "memory usage: 280.1+ KB\n"
     ]
    }
   ],
   "source": [
    "df_logement.info()"
   ]
  },
  {
   "cell_type": "code",
   "execution_count": 61,
   "metadata": {},
   "outputs": [
    {
     "data": {
      "text/html": [
       "<div>\n",
       "<style scoped>\n",
       "    .dataframe tbody tr th:only-of-type {\n",
       "        vertical-align: middle;\n",
       "    }\n",
       "\n",
       "    .dataframe tbody tr th {\n",
       "        vertical-align: top;\n",
       "    }\n",
       "\n",
       "    .dataframe thead th {\n",
       "        text-align: right;\n",
       "    }\n",
       "</style>\n",
       "<table border=\"1\" class=\"dataframe\">\n",
       "  <thead>\n",
       "    <tr style=\"text-align: right;\">\n",
       "      <th></th>\n",
       "      <th>count</th>\n",
       "      <th>mean</th>\n",
       "      <th>std</th>\n",
       "      <th>min</th>\n",
       "      <th>25%</th>\n",
       "      <th>50%</th>\n",
       "      <th>75%</th>\n",
       "      <th>max</th>\n",
       "    </tr>\n",
       "  </thead>\n",
       "  <tbody>\n",
       "    <tr>\n",
       "      <th>id_zone</th>\n",
       "      <td>2560.00000</td>\n",
       "      <td>6.66250</td>\n",
       "      <td>4.22558</td>\n",
       "      <td>1.00000</td>\n",
       "      <td>3.00000</td>\n",
       "      <td>5.00000</td>\n",
       "      <td>11.00000</td>\n",
       "      <td>14.00000</td>\n",
       "    </tr>\n",
       "    <tr>\n",
       "      <th>id_quartier</th>\n",
       "      <td>2560.00000</td>\n",
       "      <td>40.50000</td>\n",
       "      <td>23.09672</td>\n",
       "      <td>1.00000</td>\n",
       "      <td>20.75000</td>\n",
       "      <td>40.50000</td>\n",
       "      <td>60.25000</td>\n",
       "      <td>80.00000</td>\n",
       "    </tr>\n",
       "    <tr>\n",
       "      <th>piece</th>\n",
       "      <td>2560.00000</td>\n",
       "      <td>2.50000</td>\n",
       "      <td>1.11825</td>\n",
       "      <td>1.00000</td>\n",
       "      <td>1.75000</td>\n",
       "      <td>2.50000</td>\n",
       "      <td>3.25000</td>\n",
       "      <td>4.00000</td>\n",
       "    </tr>\n",
       "    <tr>\n",
       "      <th>ref</th>\n",
       "      <td>2560.00000</td>\n",
       "      <td>25.72723</td>\n",
       "      <td>4.18195</td>\n",
       "      <td>14.60000</td>\n",
       "      <td>22.90000</td>\n",
       "      <td>25.30000</td>\n",
       "      <td>28.30000</td>\n",
       "      <td>39.60000</td>\n",
       "    </tr>\n",
       "    <tr>\n",
       "      <th>max</th>\n",
       "      <td>2560.00000</td>\n",
       "      <td>30.87267</td>\n",
       "      <td>5.01834</td>\n",
       "      <td>17.52000</td>\n",
       "      <td>27.48000</td>\n",
       "      <td>30.36000</td>\n",
       "      <td>33.96000</td>\n",
       "      <td>47.52000</td>\n",
       "    </tr>\n",
       "    <tr>\n",
       "      <th>min</th>\n",
       "      <td>2560.00000</td>\n",
       "      <td>18.00906</td>\n",
       "      <td>2.92737</td>\n",
       "      <td>10.22000</td>\n",
       "      <td>16.03000</td>\n",
       "      <td>17.71000</td>\n",
       "      <td>19.81000</td>\n",
       "      <td>27.72000</td>\n",
       "    </tr>\n",
       "    <tr>\n",
       "      <th>annee</th>\n",
       "      <td>2560.00000</td>\n",
       "      <td>2020.00000</td>\n",
       "      <td>0.00000</td>\n",
       "      <td>2020.00000</td>\n",
       "      <td>2020.00000</td>\n",
       "      <td>2020.00000</td>\n",
       "      <td>2020.00000</td>\n",
       "      <td>2020.00000</td>\n",
       "    </tr>\n",
       "    <tr>\n",
       "      <th>code_grand_quartier</th>\n",
       "      <td>2560.00000</td>\n",
       "      <td>7511090.50000</td>\n",
       "      <td>599.81146</td>\n",
       "      <td>7510101.00000</td>\n",
       "      <td>7510595.75000</td>\n",
       "      <td>7511090.50000</td>\n",
       "      <td>7511585.25000</td>\n",
       "      <td>7512080.00000</td>\n",
       "    </tr>\n",
       "    <tr>\n",
       "      <th>lat</th>\n",
       "      <td>2560.00000</td>\n",
       "      <td>48.86099</td>\n",
       "      <td>0.01832</td>\n",
       "      <td>48.82313</td>\n",
       "      <td>48.84873</td>\n",
       "      <td>48.86245</td>\n",
       "      <td>48.87356</td>\n",
       "      <td>48.89556</td>\n",
       "    </tr>\n",
       "    <tr>\n",
       "      <th>lon</th>\n",
       "      <td>2560.00000</td>\n",
       "      <td>2.34392</td>\n",
       "      <td>0.03495</td>\n",
       "      <td>2.25228</td>\n",
       "      <td>2.32447</td>\n",
       "      <td>2.34488</td>\n",
       "      <td>2.36359</td>\n",
       "      <td>2.43318</td>\n",
       "    </tr>\n",
       "  </tbody>\n",
       "</table>\n",
       "</div>"
      ],
      "text/plain": [
       "                          count           mean        std            min  \\\n",
       "id_zone              2560.00000        6.66250    4.22558        1.00000   \n",
       "id_quartier          2560.00000       40.50000   23.09672        1.00000   \n",
       "piece                2560.00000        2.50000    1.11825        1.00000   \n",
       "ref                  2560.00000       25.72723    4.18195       14.60000   \n",
       "max                  2560.00000       30.87267    5.01834       17.52000   \n",
       "min                  2560.00000       18.00906    2.92737       10.22000   \n",
       "annee                2560.00000     2020.00000    0.00000     2020.00000   \n",
       "code_grand_quartier  2560.00000  7511090.50000  599.81146  7510101.00000   \n",
       "lat                  2560.00000       48.86099    0.01832       48.82313   \n",
       "lon                  2560.00000        2.34392    0.03495        2.25228   \n",
       "\n",
       "                               25%            50%            75%  \\\n",
       "id_zone                    3.00000        5.00000       11.00000   \n",
       "id_quartier               20.75000       40.50000       60.25000   \n",
       "piece                      1.75000        2.50000        3.25000   \n",
       "ref                       22.90000       25.30000       28.30000   \n",
       "max                       27.48000       30.36000       33.96000   \n",
       "min                       16.03000       17.71000       19.81000   \n",
       "annee                   2020.00000     2020.00000     2020.00000   \n",
       "code_grand_quartier  7510595.75000  7511090.50000  7511585.25000   \n",
       "lat                       48.84873       48.86245       48.87356   \n",
       "lon                        2.32447        2.34488        2.36359   \n",
       "\n",
       "                               max  \n",
       "id_zone                   14.00000  \n",
       "id_quartier               80.00000  \n",
       "piece                      4.00000  \n",
       "ref                       39.60000  \n",
       "max                       47.52000  \n",
       "min                       27.72000  \n",
       "annee                   2020.00000  \n",
       "code_grand_quartier  7512080.00000  \n",
       "lat                       48.89556  \n",
       "lon                        2.43318  "
      ]
     },
     "execution_count": 61,
     "metadata": {},
     "output_type": "execute_result"
    }
   ],
   "source": [
    "df_logement.describe().T.apply(lambda s: s.apply('{0:.5f}'.format))"
   ]
  },
  {
   "cell_type": "markdown",
   "metadata": {},
   "source": [
    "### Séparer les données dans un lot d'entrainement, de validation et de test "
   ]
  },
  {
   "cell_type": "code",
   "execution_count": 62,
   "metadata": {},
   "outputs": [
    {
     "name": "stdout",
     "output_type": "stream",
     "text": [
      "2048 Examples pour l'Entrainement & Validation\n",
      "512 Examples pour les Tests\n",
      "\n",
      "1638 Exemples pour l'entrainement\n",
      "410 Exemples pour la validation\n"
     ]
    }
   ],
   "source": [
    "train_val, test = train_test_split(df_logement, test_size=0.2)\n",
    "train, val = train_test_split(train_val, test_size=0.2)\n",
    "\n",
    "print(len(train_val), \"Examples pour l'Entrainement & Validation\")\n",
    "print(len(test), 'Examples pour les Tests')\n",
    "print()\n",
    "print(len(train), \"Exemples pour l'entrainement\")\n",
    "print(len(val), 'Exemples pour la validation')"
   ]
  },
  {
   "cell_type": "markdown",
   "metadata": {},
   "source": [
    "### Charger le fichier en mémoire "
   ]
  },
  {
   "cell_type": "code",
   "execution_count": 63,
   "metadata": {},
   "outputs": [],
   "source": [
    "def df_to_dataset(dataframe, label, shuffle=True, batch_size=32):\n",
    "    \n",
    "    df = dataframe.copy()\n",
    "    labels = dataframe.pop(label)\n",
    "    \n",
    "    dataset = tf.data.Dataset.from_tensor_slices((dict(df), labels)) \n",
    "    \n",
    "    if shuffle:\n",
    "        dataset = dataset.shuffle(buffer_size=len(df), seed=23)\n",
    "        \n",
    "    dataset = dataset.batch(batch_size)\n",
    "    \n",
    "    return dataset   "
   ]
  },
  {
   "cell_type": "code",
   "execution_count": 64,
   "metadata": {},
   "outputs": [],
   "source": [
    "train_dataset = df_to_dataset(train, label='ref', batch_size=5)\n",
    "val_dataset = df_to_dataset(val, label='ref', batch_size=5)\n",
    "test_dataset = df_to_dataset(test, label='ref', batch_size=5)"
   ]
  },
  {
   "cell_type": "markdown",
   "metadata": {},
   "source": [
    "### Afficher les exemples"
   ]
  },
  {
   "cell_type": "code",
   "execution_count": 65,
   "metadata": {},
   "outputs": [],
   "source": [
    "def show_data(dataset):\n",
    "    \n",
    "    for batch, labels in dataset.take(1):\n",
    "        print('Labels:', labels.numpy())\n",
    "        print()\n",
    "        print('Features:\\n')\n",
    "        for key, value in batch.items():\n",
    "            print('{}: {}'.format(key, value.numpy()))"
   ]
  },
  {
   "cell_type": "code",
   "execution_count": 66,
   "metadata": {},
   "outputs": [
    {
     "name": "stdout",
     "output_type": "stream",
     "text": [
      "Labels: [25.3 22.9 28.7 27.7 22.7]\n",
      "\n",
      "Features:\n",
      "\n",
      "id_zone: [ 3 13  4  2  7]\n",
      "id_quartier: [64 74 10  1 60]\n",
      "nom_quartier: [b'Chaillot' b'Pont-de-Flandre' b'Enfants-Rouges'\n",
      " b\"St-Germain-l'Auxerrois\" b'Javel 15Art']\n",
      "piece: [3 1 2 3 3]\n",
      "epoque: [b'1946-1970' b'1946-1970' b'Apres 1990' b'Apres 1990' b'1946-1970']\n",
      "meuble_txt: [b'non meubl\\xc3\\xa9' b'non meubl\\xc3\\xa9' b'meubl\\xc3\\xa9'\n",
      " b'meubl\\xc3\\xa9' b'non meubl\\xc3\\xa9']\n",
      "ref: [25.3 22.9 28.7 27.7 22.7]\n",
      "max: [30.36 27.48 34.44 33.24 27.24]\n",
      "min: [17.71 16.03 20.09 19.39 15.89]\n",
      "annee: [2020 2020 2020 2020 2020]\n",
      "ville: [b'PARIS' b'PARIS' b'PARIS' b'PARIS' b'PARIS']\n",
      "code_grand_quartier: [7511664 7511974 7510310 7510101 7511560]\n",
      "lat: [48.868435 48.895557 48.863888 48.86065  48.83906 ]\n",
      "lon: [2.2916791 2.3847773 2.3631234 2.3349104 2.2780764]\n"
     ]
    }
   ],
   "source": [
    "show_data(train_dataset)"
   ]
  },
  {
   "cell_type": "markdown",
   "metadata": {},
   "source": [
    "# Traitement des différentes type de colonnes"
   ]
  },
  {
   "cell_type": "code",
   "execution_count": 67,
   "metadata": {},
   "outputs": [],
   "source": [
    "example_batch = next(iter(train_dataset))[0]"
   ]
  },
  {
   "cell_type": "code",
   "execution_count": 68,
   "metadata": {},
   "outputs": [],
   "source": [
    "def demo(feature_column):\n",
    "    feature_layer = layers.DenseFeatures(feature_column)\n",
    "    print(feature_layer(example_batch).numpy())"
   ]
  },
  {
   "cell_type": "markdown",
   "metadata": {},
   "source": [
    "### Numerique colonnes"
   ]
  },
  {
   "cell_type": "markdown",
   "metadata": {},
   "source": [
    "La sortie d'une colonne de caractéristiques devient l'entrée du modèle. Une [colonne numérique](https://www.tensorflow.org/api_docs/python/tf/feature_column/numeric_column) est le type de colonne le plus simple. Elle est utilisée pour représenter des caractéristiques ayant une valeur réelle. Lorsque vous utilisez cette colonne, votre modèle reçoit la valeur de la colonne de la base de données inchangée."
   ]
  },
  {
   "cell_type": "code",
   "execution_count": 69,
   "metadata": {},
   "outputs": [
    {
     "name": "stdout",
     "output_type": "stream",
     "text": [
      "NumericColumn(key='id_quartier', shape=(1,), default_value=None, dtype=tf.float32, normalizer_fn=None)\n"
     ]
    }
   ],
   "source": [
    "id_zone = feature_column.numeric_column('id_zone')\n",
    "id_quartier = feature_column.numeric_column('id_quartier')\n",
    "print(id_quartier)"
   ]
  },
  {
   "cell_type": "code",
   "execution_count": 70,
   "metadata": {},
   "outputs": [
    {
     "name": "stdout",
     "output_type": "stream",
     "text": [
      "[[56.]\n",
      " [50.]\n",
      " [32.]\n",
      " [19.]\n",
      " [17.]]\n"
     ]
    }
   ],
   "source": [
    "demo(id_quartier)"
   ]
  },
  {
   "cell_type": "markdown",
   "metadata": {},
   "source": [
    "### Bucketized Colonnes"
   ]
  },
  {
   "cell_type": "markdown",
   "metadata": {},
   "source": [
    "Souvent, vous ne voulez pas introduire un nombre directement dans le modèle, mais plutôt diviser sa valeur en différentes catégories basées sur des plages numériques. Considérez les données brutes qui représentent les pieces. Au lieu de représenter les piseces sous la forme d'une colonne numérique, nous pourrions diviser les piece en plusieurs groupes en utilisant une [colonne divisée en groupes](https://www.tensorflow.org/api_docs/python/tf/feature_column/bucketized_column). Remarquez que les valeurs d'un seul coup ci-dessous décrivent la tranche de piece à laquelle chaque ligne correspond."
   ]
  },
  {
   "cell_type": "code",
   "execution_count": 71,
   "metadata": {},
   "outputs": [
    {
     "name": "stdout",
     "output_type": "stream",
     "text": [
      "[[0. 0. 1. 0. 0. 0.]\n",
      " [0. 0. 0. 1. 0. 0.]\n",
      " [0. 1. 0. 0. 0. 0.]\n",
      " [0. 0. 1. 0. 0. 0.]\n",
      " [0. 1. 0. 0. 0. 0.]]\n"
     ]
    }
   ],
   "source": [
    "piece = feature_column.numeric_column('piece')\n",
    "piece_buckets = feature_column.bucketized_column(piece, boundaries=[1, 3, 4, 6, 8])\n",
    "demo(piece_buckets)"
   ]
  },
  {
   "cell_type": "markdown",
   "metadata": {},
   "source": [
    "### Colonne avec des données de type catégoriel"
   ]
  },
  {
   "cell_type": "markdown",
   "metadata": {},
   "source": [
    "Dans cet ensemble de données, epoque est représenté par une chaîne de caractères (par exemple \"Avant 1946\", \"Apres 1990\" ou \"1971-1990\"). Nous ne pouvons pas alimenter directement un modèle avec des chaînes de caractères. Nous devons d'abord les faire correspondre à des valeurs numériques. Les colonnes de vocabulaire catégoriel permettent de représenter les chaînes de caractères sous forme de vecteur à un seul point (comme vous l'avez vu ci-dessus avec id_quartier). Le vocabulaire peut être transmis sous forme de liste en utilisant [categorical_column_with_vocabulary_list](https://www.tensorflow.org/api_docs/python/tf/feature_column/categorical_column_with_vocabulary_list), ou chargé à partir d'un fichier en utilisant [categorical_column_with_vocabulary_file](https://www.tensorflow.org/api_docs/python/tf/feature_column/categorical_column_with_vocabulary_file)."
   ]
  },
  {
   "cell_type": "code",
   "execution_count": 72,
   "metadata": {},
   "outputs": [
    {
     "name": "stdout",
     "output_type": "stream",
     "text": [
      "[[0. 0. 0. 1.]\n",
      " [0. 1. 0. 0.]\n",
      " [0. 0. 1. 0.]\n",
      " [1. 0. 0. 0.]\n",
      " [0. 0. 1. 0.]]\n"
     ]
    }
   ],
   "source": [
    "epoques_ctg = df_logement['epoque'].unique().tolist()\n",
    "\n",
    "epoques = feature_column.categorical_column_with_vocabulary_list(\n",
    "      'epoque', epoques_ctg)\n",
    "\n",
    "epoque_one_hot = feature_column.indicator_column(epoques)\n",
    "demo(epoque_one_hot)"
   ]
  },
  {
   "cell_type": "markdown",
   "metadata": {},
   "source": [
    "### Encastrement des colonnes¶"
   ]
  },
  {
   "cell_type": "markdown",
   "metadata": {},
   "source": [
    "Supposons qu'au lieu d'avoir seulement quelques chaînes de caractères possibles, nous ayons des milliers (ou plus) de valeurs par catégorie. Pour plusieurs raisons, à mesure que le nombre de catégories augmente, il devient impossible de former un réseau de neurones à l'aide de codages à chaud. Nous pouvons utiliser une colonne d'encastrement pour surmonter cette limitation. Au lieu de représenter les données sous la forme d'un vecteur monodimensionnel à plusieurs dimensions, une [colonne d'intégration](https://www.tensorflow.org/api_docs/python/tf/feature_column/embedding_column) représente ces données sous la forme d'un vecteur dense à plus faible dimension, dans lequel chaque cellule peut contenir n'importe quel nombre, et pas seulement 0 ou 1. La taille de l'encastrement (8, dans l'exemple ci-dessous) est un paramètre qui doit être ajusté.\n",
    "\n",
    "Point clé : l'utilisation d'une colonne d'encastrement est optimale lorsqu'une colonne catégorielle comporte de nombreuses valeurs possibles. Nous en utilisons une ici à des fins de démonstration, vous avez donc un exemple complet que vous pouvez modifier pour un ensemble de données différent à l'avenir."
   ]
  },
  {
   "cell_type": "code",
   "execution_count": 73,
   "metadata": {},
   "outputs": [
    {
     "name": "stdout",
     "output_type": "stream",
     "text": [
      "[[ 0.31198922  0.35518125 -0.71335083 -0.4082997 ]\n",
      " [ 0.41574216  0.21741985  0.08727659  0.1034406 ]\n",
      " [-0.0903829   0.8001104   0.4557351   0.28932282]\n",
      " [-0.43755737  0.19586706  0.73687744 -0.9873109 ]\n",
      " [-0.0903829   0.8001104   0.4557351   0.28932282]]\n"
     ]
    }
   ],
   "source": [
    "epoque_embedding = feature_column.embedding_column(epoques, dimension=4)\n",
    "demo(epoque_embedding)"
   ]
  },
  {
   "cell_type": "markdown",
   "metadata": {},
   "source": [
    "### Colonnes Hashed"
   ]
  },
  {
   "cell_type": "markdown",
   "metadata": {},
   "source": [
    "Une autre façon de représenter une colonne catégorielle avec un grand nombre de valeurs est d'utiliser [categorical_column_with_hash_bucket](https://www.tensorflow.org/api_docs/python/tf/feature_column/categorical_column_with_hash_bucket). Cette colonne de caractéristiques calcule une valeur de hachage de l'entrée, puis sélectionne un des lots de la taille du \"hash_bucket\" pour coder une chaîne. Lorsque vous utilisez cette colonne, vous n'avez pas besoin de fournir le vocabulaire, et vous pouvez choisir de rendre le nombre de hash_buckets significativement plus petit que le nombre de catégories réelles pour gagner de la place.\n",
    "\n",
    "Point clé : Un inconvénient important de cette technique est qu'il peut y avoir des collisions dans lesquelles différentes chaînes sont associées au même lot. Dans la pratique, cela peut fonctionner correctement pour certains ensembles de données malgré tout."
   ]
  },
  {
   "cell_type": "code",
   "execution_count": 74,
   "metadata": {},
   "outputs": [
    {
     "name": "stdout",
     "output_type": "stream",
     "text": [
      "[[0. 0. 0. ... 0. 0. 0.]\n",
      " [0. 0. 0. ... 0. 0. 0.]\n",
      " [0. 0. 0. ... 0. 0. 0.]\n",
      " [0. 0. 0. ... 0. 0. 0.]\n",
      " [0. 0. 0. ... 0. 0. 0.]]\n"
     ]
    }
   ],
   "source": [
    "epoque_hashed = feature_column.categorical_column_with_hash_bucket(\n",
    "      'epoque', hash_bucket_size=1000)\n",
    "demo(feature_column.indicator_column(epoque_hashed))"
   ]
  },
  {
   "cell_type": "markdown",
   "metadata": {},
   "source": [
    "### Colonnes de caractéristiques croisées"
   ]
  },
  {
   "cell_type": "markdown",
   "metadata": {},
   "source": [
    "La combinaison de caractéristiques en une seule, mieux connue sous le nom de [caractéristiques croisées](https://developers.google.com/machine-learning/glossary/#feature_cross), permet à un modèle d'apprendre des poids distincts pour chaque combinaison de caractéristiques. Ici, nous allons créer une nouvelle caractéristique qui est le croisement de `piece` et du `id_zone`. Notez que `crossed_column` ne construit pas la table complète de toutes les combinaisons possibles (qui pourraient être très grandes). Elle est plutôt soutenue par une `colonne hachée`, ce qui vous permet de choisir la taille de la table."
   ]
  },
  {
   "cell_type": "code",
   "execution_count": 75,
   "metadata": {},
   "outputs": [
    {
     "name": "stdout",
     "output_type": "stream",
     "text": [
      "[[0. 0. 0. ... 0. 0. 0.]\n",
      " [0. 0. 0. ... 0. 0. 0.]\n",
      " [0. 0. 0. ... 0. 0. 0.]\n",
      " [0. 0. 0. ... 0. 0. 0.]\n",
      " [0. 0. 0. ... 0. 0. 0.]]\n"
     ]
    }
   ],
   "source": [
    "crossed_feature = feature_column.crossed_column([piece_buckets, epoques], hash_bucket_size=1000)\n",
    "demo(feature_column.indicator_column(crossed_feature))"
   ]
  },
  {
   "cell_type": "markdown",
   "metadata": {},
   "source": [
    "### Traitement de données géographique"
   ]
  },
  {
   "cell_type": "markdown",
   "metadata": {},
   "source": [
    "De la même manière que les lignes divisent l'espace sur la carte quadrillée pour faciliter l'orientation et l'analyse géospatiale pour les humains, les colonnes bucketisées divisent la valeur continue des coordonnées en bacs pour faciliter l'apprentissage machine."
   ]
  },
  {
   "cell_type": "code",
   "execution_count": 82,
   "metadata": {},
   "outputs": [
    {
     "name": "stdout",
     "output_type": "stream",
     "text": [
      "[[0. 0. 0. 0. 0. 0. 0. 0. 1. 0. 0. 0. 0. 0. 0. 0. 0. 0. 0. 0. 0. 0. 0. 0.\n",
      "  0. 0. 0. 0. 0. 0. 0. 0. 0. 0. 0. 0. 0. 0. 0. 0. 0. 0. 0. 0. 0. 0. 0. 0.\n",
      "  0. 0. 0. 0. 0. 0. 0. 0. 0. 0. 0. 0. 0. 0. 0. 0. 0. 0. 0. 0. 0. 0. 0. 0.\n",
      "  0. 0. 0. 0. 0. 0. 0. 0. 0.]\n",
      " [0. 0. 0. 0. 0. 1. 0. 0. 0. 0. 0. 0. 0. 0. 0. 0. 0. 0. 0. 0. 0. 0. 0. 0.\n",
      "  0. 0. 0. 0. 0. 0. 0. 0. 0. 0. 0. 0. 0. 0. 0. 0. 0. 0. 0. 0. 0. 0. 0. 0.\n",
      "  0. 0. 0. 0. 0. 0. 0. 0. 0. 0. 0. 0. 0. 0. 0. 0. 0. 0. 0. 0. 0. 0. 0. 0.\n",
      "  0. 0. 0. 0. 0. 0. 0. 0. 0.]\n",
      " [0. 0. 0. 0. 0. 0. 0. 0. 0. 0. 0. 0. 0. 0. 0. 0. 0. 0. 0. 0. 0. 0. 0. 0.\n",
      "  0. 0. 0. 0. 0. 0. 0. 0. 0. 0. 0. 0. 0. 0. 0. 0. 0. 0. 0. 0. 0. 0. 0. 0.\n",
      "  0. 0. 0. 0. 0. 0. 0. 0. 0. 0. 0. 0. 0. 1. 0. 0. 0. 0. 0. 0. 0. 0. 0. 0.\n",
      "  0. 0. 0. 0. 0. 0. 0. 0. 0.]\n",
      " [0. 0. 0. 0. 0. 0. 0. 0. 0. 0. 0. 0. 0. 0. 0. 0. 0. 0. 0. 0. 0. 1. 0. 0.\n",
      "  0. 0. 0. 0. 0. 0. 0. 0. 0. 0. 0. 0. 0. 0. 0. 0. 0. 0. 0. 0. 0. 0. 0. 0.\n",
      "  0. 0. 0. 0. 0. 0. 0. 0. 0. 0. 0. 0. 0. 0. 0. 0. 0. 0. 0. 0. 0. 0. 0. 0.\n",
      "  0. 0. 0. 0. 0. 0. 0. 0. 0.]\n",
      " [0. 0. 0. 0. 0. 0. 0. 0. 0. 0. 0. 0. 0. 0. 0. 0. 0. 0. 0. 0. 0. 0. 0. 0.\n",
      "  0. 0. 0. 1. 0. 0. 0. 0. 0. 0. 0. 0. 0. 0. 0. 0. 0. 0. 0. 0. 0. 0. 0. 0.\n",
      "  0. 0. 0. 0. 0. 0. 0. 0. 0. 0. 0. 0. 0. 0. 0. 0. 0. 0. 0. 0. 0. 0. 0. 0.\n",
      "  0. 0. 0. 0. 0. 0. 0. 0. 0.]]\n"
     ]
    }
   ],
   "source": [
    "lat = feature_column.numeric_column('lat')\n",
    "lon = feature_column.numeric_column('lon')\n",
    "\n",
    "# Nombre de quartier à Paris\n",
    "nb_bucket = len(df_logement['nom_quartier'].unique().tolist())\n",
    "\n",
    "latbucket = list(np.linspace(start=48.82313, stop=48.89556, num=nb_bucket))\n",
    "lonbucket = list(np.linspace(start=2.25228, stop= 2.406172, num=nb_bucket))\n",
    "\n",
    "bucketized_lat = feature_column.bucketized_column(lat, boundaries=latbucket)\n",
    "bucketized_lon = feature_column.bucketized_column(lon, boundaries=lonbucket)\n",
    "\n",
    "demo(bucketized_lat)"
   ]
  },
  {
   "cell_type": "markdown",
   "metadata": {},
   "source": [
    "Le modèle n'a toujours pas compris que la position géographique est en fait une concaténation des deux coordonnées.\n",
    "Le croisement des coordonnées permet au modèle de \"voir\" l'image 2D de la carte, ce qui rend la formation beaucoup plus efficace"
   ]
  },
  {
   "cell_type": "code",
   "execution_count": 81,
   "metadata": {},
   "outputs": [
    {
     "name": "stdout",
     "output_type": "stream",
     "text": [
      "[[0. 0. 0. ... 0. 0. 0.]\n",
      " [0. 0. 0. ... 0. 0. 0.]\n",
      " [0. 0. 0. ... 0. 0. 0.]\n",
      " [0. 0. 0. ... 0. 0. 0.]\n",
      " [0. 0. 0. ... 0. 0. 0.]]\n"
     ]
    }
   ],
   "source": [
    "crossed_geo_2D = feature_column.crossed_column([bucketized_lat, bucketized_lon], hash_bucket_size=1000)\n",
    "geo_2D_feature = feature_column.indicator_column(crossed_geo_2D)\n",
    "\n",
    "demo(geo_2D_feature)"
   ]
  },
  {
   "cell_type": "markdown",
   "metadata": {},
   "source": [
    "### Choisir les caratéristiques à utiliser pour l'entrainement du model"
   ]
  },
  {
   "cell_type": "code",
   "execution_count": 77,
   "metadata": {},
   "outputs": [],
   "source": [
    "# Caratéristique de type numerique\n",
    "feature_columns = []\n",
    "\n",
    "for header in ['id_zone', 'id_quartier', 'piece']:\n",
    "    feature_columns.append(feature_column.numeric_column(header))\n",
    "    \n",
    "# Caratéristique de type numerique catégoriel\n",
    "epoques_ctg = df_logement['epoque'].unique().tolist()\n",
    "epoques = feature_column.categorical_column_with_vocabulary_list(\n",
    "      'epoque', epoques_ctg)\n",
    "\n",
    "feature_columns.append(feature_column.indicator_column(epoques))"
   ]
  },
  {
   "cell_type": "markdown",
   "metadata": {},
   "source": [
    "### Ajouter les caractéristiques dans le modèle Keras"
   ]
  },
  {
   "cell_type": "code",
   "execution_count": 78,
   "metadata": {},
   "outputs": [],
   "source": [
    "feature_layer = tf.keras.layers.DenseFeatures(feature_columns)"
   ]
  },
  {
   "cell_type": "markdown",
   "metadata": {},
   "source": [
    "### Créer, compiler et entrainer le model"
   ]
  },
  {
   "cell_type": "code",
   "execution_count": 83,
   "metadata": {},
   "outputs": [
    {
     "ename": "AttributeError",
     "evalue": "module 'tensorflow_core.keras' has no attribute 'mean_squared_error'",
     "output_type": "error",
     "traceback": [
      "\u001b[0;31m---------------------------------------------------------------------------\u001b[0m",
      "\u001b[0;31mAttributeError\u001b[0m                            Traceback (most recent call last)",
      "\u001b[0;32m<ipython-input-83-6c20b83a7b34>\u001b[0m in \u001b[0;36m<module>\u001b[0;34m\u001b[0m\n\u001b[1;32m      8\u001b[0m \u001b[0;34m\u001b[0m\u001b[0m\n\u001b[1;32m      9\u001b[0m model.compile(optimizer='adam',\n\u001b[0;32m---> 10\u001b[0;31m               \u001b[0mloss\u001b[0m\u001b[0;34m=\u001b[0m\u001b[0mtf\u001b[0m\u001b[0;34m.\u001b[0m\u001b[0mkeras\u001b[0m\u001b[0;34m.\u001b[0m\u001b[0mmean_squared_error\u001b[0m\u001b[0;34m(\u001b[0m\u001b[0mfrom_logits\u001b[0m\u001b[0;34m=\u001b[0m\u001b[0;32mTrue\u001b[0m\u001b[0;34m)\u001b[0m\u001b[0;34m,\u001b[0m\u001b[0;34m\u001b[0m\u001b[0;34m\u001b[0m\u001b[0m\n\u001b[0m\u001b[1;32m     11\u001b[0m               metrics=['accuracy'])\n\u001b[1;32m     12\u001b[0m \u001b[0;34m\u001b[0m\u001b[0m\n",
      "\u001b[0;31mAttributeError\u001b[0m: module 'tensorflow_core.keras' has no attribute 'mean_squared_error'"
     ]
    }
   ],
   "source": [
    "model = tf.keras.Sequential([\n",
    "  feature_layer,\n",
    "  layers.Dense(128, activation='relu'),\n",
    "  layers.Dense(128, activation='relu'),\n",
    "  layers.Dense(1)\n",
    "])\n",
    "\n",
    "\n",
    "model.compile(optimizer='adam',\n",
    "              loss=tf.keras.mean_squared_error(from_logits=True),\n",
    "              metrics=['accuracy'])\n",
    "\n",
    "\n",
    "history = model.fit(train_dataset,\n",
    "          validation_data=val_dataset,\n",
    "          epochs=5)"
   ]
  },
  {
   "cell_type": "code",
   "execution_count": 84,
   "metadata": {},
   "outputs": [
    {
     "name": "stdout",
     "output_type": "stream",
     "text": [
      "103/103 [==============================] - 0s 1ms/step - loss: -201541701.1262 - accuracy: 0.0000e+00\n",
      "Accuracy 0.0\n"
     ]
    }
   ],
   "source": [
    "loss, accuracy = model.evaluate(test_dataset)\n",
    "print(\"Accuracy\", accuracy)"
   ]
  },
  {
   "cell_type": "markdown",
   "metadata": {},
   "source": [
    "### Visualiser la courbe de la fonction de perte "
   ]
  },
  {
   "cell_type": "code",
   "execution_count": 88,
   "metadata": {},
   "outputs": [
    {
     "data": {
      "image/png": "[encoded data removed]",
      "text/plain": [
       "<Figure size 720x360 with 2 Axes>"
      ]
     },
     "metadata": {
      "needs_background": "light"
     },
     "output_type": "display_data"
    }
   ],
   "source": [
    "def plot_curves(history, metrics):\n",
    "    nrows = 1\n",
    "    ncols = 2\n",
    "    fig = plt.figure(figsize=(10, 5))\n",
    "\n",
    "    for idx, key in enumerate(metrics):  \n",
    "        ax = fig.add_subplot(nrows, ncols, idx+1)\n",
    "        plt.plot(history.history[key])\n",
    "        plt.plot(history.history['val_{}'.format(key)])\n",
    "        plt.title('model {}'.format(key))\n",
    "        plt.ylabel(key)\n",
    "        plt.xlabel('epoch')\n",
    "        plt.legend(['train', 'validation'], loc='upper left');    \n",
    "    \n",
    "    \n",
    "plot_curves(history, ['loss', 'accuracy'])"
   ]
  },
  {
   "cell_type": "markdown",
   "metadata": {},
   "source": [
    "### Sources:\n",
    "\n",
    "Traitement des données géographiques: [Codage des coordonnées géographiques à l'aide de colonnes de caractéristiques TensorFlow](https://medium.com/riga-data-science-club/geographic-coordinate-encoding-with-tensorflow-feature-columns-e750ae338b7c)"
   ]
  },
  {
   "cell_type": "code",
   "execution_count": 85,
   "metadata": {},
   "outputs": [
    {
     "data": {
      "text/plain": [
       "array([ True,  True, False, ...,  True,  True,  True])"
      ]
     },
     "execution_count": 85,
     "metadata": {},
     "output_type": "execute_result"
    }
   ],
   "source": [
    "int(1e4)\n",
    "np.random.choice([False, True], int(1e4))"
   ]
  },
  {
   "cell_type": "code",
   "execution_count": null,
   "metadata": {},
   "outputs": [],
   "source": []
  }
 ],
 "metadata": {
  "kernelspec": {
   "display_name": "Python 3",
   "language": "python",
   "name": "python3"
  },
  "language_info": {
   "codemirror_mode": {
    "name": "ipython",
    "version": 3
   },
   "file_extension": ".py",
   "mimetype": "text/x-python",
   "name": "python",
   "nbconvert_exporter": "python",
   "pygments_lexer": "ipython3",
   "version": "3.7.4"
  }
 },
 "nbformat": 4,
 "nbformat_minor": 4
}
