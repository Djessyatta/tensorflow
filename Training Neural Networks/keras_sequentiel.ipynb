{
 "cells": [
  {
   "cell_type": "markdown",
   "metadata": {},
   "source": [
    "# Introduction\n",
    "\n",
    "The [Keras sequential API](https://keras.io/models/sequential/) allows you to create Tensorflow models layer-by-layer. This is useful for building most kinds of machine learning models but it does not allow you to create models that share layers, re-use layers or have multiple inputs or outputs. "
   ]
  },
  {
   "cell_type": "markdown",
   "metadata": {},
   "source": [
    "## Import Library"
   ]
  },
  {
   "cell_type": "code",
   "execution_count": 1,
   "metadata": {},
   "outputs": [],
   "source": [
    "import pandas as pd\n",
    "import tensorflow_data_validation as tfdv\n",
    "from witwidget.notebook.visualization import WitConfigBuilder\n",
    "from witwidget.notebook.visualization import WitWidget\n",
    "from sklearn.model_selection import train_test_split\n",
    "import tensorflow as tf\n",
    "from tensorflow.keras import layers\n",
    "import numpy as np\n",
    "from tensorflow import feature_column as fc\n",
    "from tensorflow.keras.callbacks import TensorBoard\n",
    "from functools import partial"
   ]
  },
  {
   "cell_type": "markdown",
   "metadata": {},
   "source": [
    "## Import file in a DataFrame pandas"
   ]
  },
  {
   "cell_type": "code",
   "execution_count": 3,
   "metadata": {},
   "outputs": [
    {
     "data": {
      "text/html": [
       "<div>\n",
       "<style scoped>\n",
       "    .dataframe tbody tr th:only-of-type {\n",
       "        vertical-align: middle;\n",
       "    }\n",
       "\n",
       "    .dataframe tbody tr th {\n",
       "        vertical-align: top;\n",
       "    }\n",
       "\n",
       "    .dataframe thead th {\n",
       "        text-align: right;\n",
       "    }\n",
       "</style>\n",
       "<table border=\"1\" class=\"dataframe\">\n",
       "  <thead>\n",
       "    <tr style=\"text-align: right;\">\n",
       "      <th></th>\n",
       "      <th>id_zone</th>\n",
       "      <th>id_quartier</th>\n",
       "      <th>nom_quartier</th>\n",
       "      <th>piece</th>\n",
       "      <th>epoque</th>\n",
       "      <th>meuble_txt</th>\n",
       "      <th>ref</th>\n",
       "      <th>max</th>\n",
       "      <th>min</th>\n",
       "      <th>annee</th>\n",
       "      <th>ville</th>\n",
       "      <th>code_grand_quartier</th>\n",
       "      <th>geo_shape</th>\n",
       "      <th>geo_point_2d</th>\n",
       "    </tr>\n",
       "  </thead>\n",
       "  <tbody>\n",
       "    <tr>\n",
       "      <th>0</th>\n",
       "      <td>11</td>\n",
       "      <td>77</td>\n",
       "      <td>Belleville</td>\n",
       "      <td>4</td>\n",
       "      <td>Avant 1946</td>\n",
       "      <td>non meublé</td>\n",
       "      <td>21.4</td>\n",
       "      <td>25.68</td>\n",
       "      <td>14.98</td>\n",
       "      <td>2020</td>\n",
       "      <td>PARIS</td>\n",
       "      <td>7512077</td>\n",
       "      <td>{\"type\": \"Polygon\", \"coordinates\": [[[2.383226...</td>\n",
       "      <td>48.8715312006,2.38754923985</td>\n",
       "    </tr>\n",
       "    <tr>\n",
       "      <th>1</th>\n",
       "      <td>13</td>\n",
       "      <td>75</td>\n",
       "      <td>Amérique</td>\n",
       "      <td>3</td>\n",
       "      <td>1971-1990</td>\n",
       "      <td>non meublé</td>\n",
       "      <td>16.7</td>\n",
       "      <td>20.04</td>\n",
       "      <td>11.69</td>\n",
       "      <td>2020</td>\n",
       "      <td>PARIS</td>\n",
       "      <td>7511975</td>\n",
       "      <td>{\"type\": \"Polygon\", \"coordinates\": [[[2.409402...</td>\n",
       "      <td>48.8816381673,2.39544016662</td>\n",
       "    </tr>\n",
       "  </tbody>\n",
       "</table>\n",
       "</div>"
      ],
      "text/plain": [
       "   id_zone  id_quartier nom_quartier  piece      epoque  meuble_txt   ref  \\\n",
       "0       11           77   Belleville      4  Avant 1946  non meublé  21.4   \n",
       "1       13           75     Amérique      3   1971-1990  non meublé  16.7   \n",
       "\n",
       "     max    min  annee  ville  code_grand_quartier  \\\n",
       "0  25.68  14.98   2020  PARIS              7512077   \n",
       "1  20.04  11.69   2020  PARIS              7511975   \n",
       "\n",
       "                                           geo_shape  \\\n",
       "0  {\"type\": \"Polygon\", \"coordinates\": [[[2.383226...   \n",
       "1  {\"type\": \"Polygon\", \"coordinates\": [[[2.409402...   \n",
       "\n",
       "                  geo_point_2d  \n",
       "0  48.8715312006,2.38754923985  \n",
       "1  48.8816381673,2.39544016662  "
      ]
     },
     "execution_count": 3,
     "metadata": {},
     "output_type": "execute_result"
    }
   ],
   "source": [
    "df = pd.read_csv('./data/logement-encadrement-des-loyers.csv', sep=';')\n",
    "df.head(2)"
   ]
  },
  {
   "cell_type": "markdown",
   "metadata": {},
   "source": [
    "## Processing the dataframe \n",
    "\n",
    "Remove the column `geo_shape`and create two columns for the `longitute` and `latitude`."
   ]
  },
  {
   "cell_type": "code",
   "execution_count": 4,
   "metadata": {},
   "outputs": [],
   "source": [
    "def df_processing(df):\n",
    "    \n",
    "    # Create the columns for the latitude and longitude\n",
    "    df_lat_lon = df['geo_point_2d'].str.split(',', expand=True)\n",
    "    df['lat'] = df_lat_lon[0].astype(float) \n",
    "    df['lon'] = df_lat_lon[1].astype(float)\n",
    "    \n",
    "    # Deleted the column 'geo_shape'\n",
    "    df = df.drop(['geo_shape','geo_point_2d'], axis=1)\n",
    "    \n",
    "    df_processed = df\n",
    "    \n",
    "    return df_processed"
   ]
  },
  {
   "cell_type": "code",
   "execution_count": 5,
   "metadata": {},
   "outputs": [
    {
     "data": {
      "text/html": [
       "<div>\n",
       "<style scoped>\n",
       "    .dataframe tbody tr th:only-of-type {\n",
       "        vertical-align: middle;\n",
       "    }\n",
       "\n",
       "    .dataframe tbody tr th {\n",
       "        vertical-align: top;\n",
       "    }\n",
       "\n",
       "    .dataframe thead th {\n",
       "        text-align: right;\n",
       "    }\n",
       "</style>\n",
       "<table border=\"1\" class=\"dataframe\">\n",
       "  <thead>\n",
       "    <tr style=\"text-align: right;\">\n",
       "      <th></th>\n",
       "      <th>id_zone</th>\n",
       "      <th>id_quartier</th>\n",
       "      <th>nom_quartier</th>\n",
       "      <th>piece</th>\n",
       "      <th>epoque</th>\n",
       "      <th>meuble_txt</th>\n",
       "      <th>ref</th>\n",
       "      <th>max</th>\n",
       "      <th>min</th>\n",
       "      <th>annee</th>\n",
       "      <th>ville</th>\n",
       "      <th>code_grand_quartier</th>\n",
       "      <th>lat</th>\n",
       "      <th>lon</th>\n",
       "    </tr>\n",
       "  </thead>\n",
       "  <tbody>\n",
       "    <tr>\n",
       "      <th>0</th>\n",
       "      <td>11</td>\n",
       "      <td>77</td>\n",
       "      <td>Belleville</td>\n",
       "      <td>4</td>\n",
       "      <td>Avant 1946</td>\n",
       "      <td>non meublé</td>\n",
       "      <td>21.4</td>\n",
       "      <td>25.68</td>\n",
       "      <td>14.98</td>\n",
       "      <td>2020</td>\n",
       "      <td>PARIS</td>\n",
       "      <td>7512077</td>\n",
       "      <td>48.871531</td>\n",
       "      <td>2.387549</td>\n",
       "    </tr>\n",
       "    <tr>\n",
       "      <th>1</th>\n",
       "      <td>13</td>\n",
       "      <td>75</td>\n",
       "      <td>Amérique</td>\n",
       "      <td>3</td>\n",
       "      <td>1971-1990</td>\n",
       "      <td>non meublé</td>\n",
       "      <td>16.7</td>\n",
       "      <td>20.04</td>\n",
       "      <td>11.69</td>\n",
       "      <td>2020</td>\n",
       "      <td>PARIS</td>\n",
       "      <td>7511975</td>\n",
       "      <td>48.881638</td>\n",
       "      <td>2.395440</td>\n",
       "    </tr>\n",
       "  </tbody>\n",
       "</table>\n",
       "</div>"
      ],
      "text/plain": [
       "   id_zone  id_quartier nom_quartier  piece      epoque  meuble_txt   ref  \\\n",
       "0       11           77   Belleville      4  Avant 1946  non meublé  21.4   \n",
       "1       13           75     Amérique      3   1971-1990  non meublé  16.7   \n",
       "\n",
       "     max    min  annee  ville  code_grand_quartier        lat       lon  \n",
       "0  25.68  14.98   2020  PARIS              7512077  48.871531  2.387549  \n",
       "1  20.04  11.69   2020  PARIS              7511975  48.881638  2.395440  "
      ]
     },
     "execution_count": 5,
     "metadata": {},
     "output_type": "execute_result"
    }
   ],
   "source": [
    "# Show the DataFrame\n",
    "df_logement = df_processing(df)\n",
    "df_logement.head(2)"
   ]
  },
  {
   "cell_type": "markdown",
   "metadata": {},
   "source": [
    "## Explorating Data Analysis (EDA)"
   ]
  },
  {
   "cell_type": "code",
   "execution_count": 6,
   "metadata": {},
   "outputs": [
    {
     "name": "stdout",
     "output_type": "stream",
     "text": [
      "<class 'pandas.core.frame.DataFrame'>\n",
      "RangeIndex: 2560 entries, 0 to 2559\n",
      "Data columns (total 14 columns):\n",
      " #   Column               Non-Null Count  Dtype  \n",
      "---  ------               --------------  -----  \n",
      " 0   id_zone              2560 non-null   int64  \n",
      " 1   id_quartier          2560 non-null   int64  \n",
      " 2   nom_quartier         2560 non-null   object \n",
      " 3   piece                2560 non-null   int64  \n",
      " 4   epoque               2560 non-null   object \n",
      " 5   meuble_txt           2560 non-null   object \n",
      " 6   ref                  2560 non-null   float64\n",
      " 7   max                  2560 non-null   float64\n",
      " 8   min                  2560 non-null   float64\n",
      " 9   annee                2560 non-null   int64  \n",
      " 10  ville                2560 non-null   object \n",
      " 11  code_grand_quartier  2560 non-null   int64  \n",
      " 12  lat                  2560 non-null   float64\n",
      " 13  lon                  2560 non-null   float64\n",
      "dtypes: float64(5), int64(5), object(4)\n",
      "memory usage: 280.1+ KB\n"
     ]
    }
   ],
   "source": [
    "df_logement.info()"
   ]
  },
  {
   "cell_type": "code",
   "execution_count": 7,
   "metadata": {},
   "outputs": [
    {
     "data": {
      "text/html": [
       "<div>\n",
       "<style scoped>\n",
       "    .dataframe tbody tr th:only-of-type {\n",
       "        vertical-align: middle;\n",
       "    }\n",
       "\n",
       "    .dataframe tbody tr th {\n",
       "        vertical-align: top;\n",
       "    }\n",
       "\n",
       "    .dataframe thead th {\n",
       "        text-align: right;\n",
       "    }\n",
       "</style>\n",
       "<table border=\"1\" class=\"dataframe\">\n",
       "  <thead>\n",
       "    <tr style=\"text-align: right;\">\n",
       "      <th></th>\n",
       "      <th>count</th>\n",
       "      <th>mean</th>\n",
       "      <th>std</th>\n",
       "      <th>min</th>\n",
       "      <th>25%</th>\n",
       "      <th>50%</th>\n",
       "      <th>75%</th>\n",
       "      <th>max</th>\n",
       "    </tr>\n",
       "  </thead>\n",
       "  <tbody>\n",
       "    <tr>\n",
       "      <th>id_zone</th>\n",
       "      <td>2560.000</td>\n",
       "      <td>6.662</td>\n",
       "      <td>4.226</td>\n",
       "      <td>1.000</td>\n",
       "      <td>3.000</td>\n",
       "      <td>5.000</td>\n",
       "      <td>11.000</td>\n",
       "      <td>14.000</td>\n",
       "    </tr>\n",
       "    <tr>\n",
       "      <th>id_quartier</th>\n",
       "      <td>2560.000</td>\n",
       "      <td>40.500</td>\n",
       "      <td>23.097</td>\n",
       "      <td>1.000</td>\n",
       "      <td>20.750</td>\n",
       "      <td>40.500</td>\n",
       "      <td>60.250</td>\n",
       "      <td>80.000</td>\n",
       "    </tr>\n",
       "    <tr>\n",
       "      <th>piece</th>\n",
       "      <td>2560.000</td>\n",
       "      <td>2.500</td>\n",
       "      <td>1.118</td>\n",
       "      <td>1.000</td>\n",
       "      <td>1.750</td>\n",
       "      <td>2.500</td>\n",
       "      <td>3.250</td>\n",
       "      <td>4.000</td>\n",
       "    </tr>\n",
       "    <tr>\n",
       "      <th>ref</th>\n",
       "      <td>2560.000</td>\n",
       "      <td>25.727</td>\n",
       "      <td>4.182</td>\n",
       "      <td>14.600</td>\n",
       "      <td>22.900</td>\n",
       "      <td>25.300</td>\n",
       "      <td>28.300</td>\n",
       "      <td>39.600</td>\n",
       "    </tr>\n",
       "    <tr>\n",
       "      <th>max</th>\n",
       "      <td>2560.000</td>\n",
       "      <td>30.873</td>\n",
       "      <td>5.018</td>\n",
       "      <td>17.520</td>\n",
       "      <td>27.480</td>\n",
       "      <td>30.360</td>\n",
       "      <td>33.960</td>\n",
       "      <td>47.520</td>\n",
       "    </tr>\n",
       "    <tr>\n",
       "      <th>min</th>\n",
       "      <td>2560.000</td>\n",
       "      <td>18.009</td>\n",
       "      <td>2.927</td>\n",
       "      <td>10.220</td>\n",
       "      <td>16.030</td>\n",
       "      <td>17.710</td>\n",
       "      <td>19.810</td>\n",
       "      <td>27.720</td>\n",
       "    </tr>\n",
       "    <tr>\n",
       "      <th>annee</th>\n",
       "      <td>2560.000</td>\n",
       "      <td>2020.000</td>\n",
       "      <td>0.000</td>\n",
       "      <td>2020.000</td>\n",
       "      <td>2020.000</td>\n",
       "      <td>2020.000</td>\n",
       "      <td>2020.000</td>\n",
       "      <td>2020.000</td>\n",
       "    </tr>\n",
       "    <tr>\n",
       "      <th>code_grand_quartier</th>\n",
       "      <td>2560.000</td>\n",
       "      <td>7511090.500</td>\n",
       "      <td>599.811</td>\n",
       "      <td>7510101.000</td>\n",
       "      <td>7510595.750</td>\n",
       "      <td>7511090.500</td>\n",
       "      <td>7511585.250</td>\n",
       "      <td>7512080.000</td>\n",
       "    </tr>\n",
       "    <tr>\n",
       "      <th>lat</th>\n",
       "      <td>2560.000</td>\n",
       "      <td>48.861</td>\n",
       "      <td>0.018</td>\n",
       "      <td>48.823</td>\n",
       "      <td>48.849</td>\n",
       "      <td>48.862</td>\n",
       "      <td>48.874</td>\n",
       "      <td>48.896</td>\n",
       "    </tr>\n",
       "    <tr>\n",
       "      <th>lon</th>\n",
       "      <td>2560.000</td>\n",
       "      <td>2.344</td>\n",
       "      <td>0.035</td>\n",
       "      <td>2.252</td>\n",
       "      <td>2.324</td>\n",
       "      <td>2.345</td>\n",
       "      <td>2.364</td>\n",
       "      <td>2.433</td>\n",
       "    </tr>\n",
       "  </tbody>\n",
       "</table>\n",
       "</div>"
      ],
      "text/plain": [
       "                        count         mean      std          min          25%  \\\n",
       "id_zone              2560.000        6.662    4.226        1.000        3.000   \n",
       "id_quartier          2560.000       40.500   23.097        1.000       20.750   \n",
       "piece                2560.000        2.500    1.118        1.000        1.750   \n",
       "ref                  2560.000       25.727    4.182       14.600       22.900   \n",
       "max                  2560.000       30.873    5.018       17.520       27.480   \n",
       "min                  2560.000       18.009    2.927       10.220       16.030   \n",
       "annee                2560.000     2020.000    0.000     2020.000     2020.000   \n",
       "code_grand_quartier  2560.000  7511090.500  599.811  7510101.000  7510595.750   \n",
       "lat                  2560.000       48.861    0.018       48.823       48.849   \n",
       "lon                  2560.000        2.344    0.035        2.252        2.324   \n",
       "\n",
       "                             50%          75%          max  \n",
       "id_zone                    5.000       11.000       14.000  \n",
       "id_quartier               40.500       60.250       80.000  \n",
       "piece                      2.500        3.250        4.000  \n",
       "ref                       25.300       28.300       39.600  \n",
       "max                       30.360       33.960       47.520  \n",
       "min                       17.710       19.810       27.720  \n",
       "annee                   2020.000     2020.000     2020.000  \n",
       "code_grand_quartier  7511090.500  7511585.250  7512080.000  \n",
       "lat                       48.862       48.874       48.896  \n",
       "lon                        2.345        2.364        2.433  "
      ]
     },
     "execution_count": 7,
     "metadata": {},
     "output_type": "execute_result"
    }
   ],
   "source": [
    "# .apply for remoce the scientist notation\n",
    "df_logement.describe().T.apply(lambda s: s.apply('{0:.3f}'.format))"
   ]
  },
  {
   "cell_type": "code",
   "execution_count": 8,
   "metadata": {},
   "outputs": [
    {
     "data": {
      "text/html": [
       "<iframe id='facets-iframe' width=\"100%\" height=\"500px\"></iframe>\n",
       "        <script>\n",
       "        facets_iframe = document.getElementById('facets-iframe');\n",
       "        facets_html = '<script src=\"https://cdnjs.cloudflare.com/ajax/libs/webcomponentsjs/1.3.3/webcomponents-lite.js\"><\\/script><link rel=\"import\" href=\"https://raw.githubusercontent.com/PAIR-code/facets/master/facets-dist/facets-jupyter.html\"><facets-overview proto-input=\"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\"></facets-overview>';\n",
       "        facets_iframe.srcdoc = facets_html;\n",
       "         facets_iframe.id = \"\";\n",
       "         setTimeout(() => {\n",
       "           facets_iframe.setAttribute('height', facets_iframe.contentWindow.document.body.offsetHeight + 'px')\n",
       "         }, 1500)\n",
       "         </script>"
      ],
      "text/plain": [
       "<IPython.core.display.HTML object>"
      ]
     },
     "metadata": {},
     "output_type": "display_data"
    }
   ],
   "source": [
    "stats = tfdv.generate_statistics_from_dataframe(df_logement)\n",
    "tfdv.visualize_statistics(stats)"
   ]
  },
  {
   "cell_type": "markdown",
   "metadata": {},
   "source": [
    "## Create batch data for Training, Evaluation and Test"
   ]
  },
  {
   "cell_type": "code",
   "execution_count": 9,
   "metadata": {},
   "outputs": [
    {
     "name": "stdout",
     "output_type": "stream",
     "text": [
      "Training and Evaluation: 2304 examples\n",
      "Test: 256 examples\n",
      "\n",
      "Training: 1843 examples\n",
      "Evaluation: 461 examples\n"
     ]
    }
   ],
   "source": [
    "# 90% of the data for the training and evaluation,  10% for the test.\n",
    "df_train_eval, df_test = train_test_split(df_logement, test_size=0.1, random_state=21) # andom_state is used for keep the same random state\n",
    "\n",
    "# 80% of the 90% for training et 20% of the 90% for the evaluation\n",
    "df_train, df_eval = train_test_split(df_train_eval, test_size=0.2, shuffle=False) # shuffle to false because the data had already be shuffle in the first split\n",
    "\n",
    "print(\"Training and Evaluation: {} examples\".format(len(df_train_eval)))\n",
    "print(\"Test: {} examples\".format(len(df_test)))\n",
    "print()\n",
    "print(\"Training: {} examples\".format(len(df_train)))\n",
    "print(\"Evaluation: {} examples\".format(len(df_eval)))"
   ]
  },
  {
   "cell_type": "markdown",
   "metadata": {},
   "source": [
    "## Save the DataFrames"
   ]
  },
  {
   "cell_type": "code",
   "execution_count": 10,
   "metadata": {},
   "outputs": [],
   "source": [
    "df_train.to_csv('./data/logement-train.csv', sep=',', index=False)\n",
    "df_eval.to_csv('./data/logement-eval.csv', sep=',', index=False)\n",
    "df_test.to_csv('./data/logement-test.csv', sep=',', index=False)"
   ]
  },
  {
   "cell_type": "markdown",
   "metadata": {},
   "source": [
    "## Read the CSV files with `pandas` and `Dataset.from_tensor_slices`\n",
    "\n",
    "Methode for load the data into tensorflow with a DataFrame Pandas."
   ]
  },
  {
   "cell_type": "code",
   "execution_count": 11,
   "metadata": {},
   "outputs": [],
   "source": [
    "LABEL_COLUMN = 'ref'\n",
    "MINI_BATCH_SIZE = 50\n",
    "UNWANTED_COLS = ['code_grand_quartier', 'ville','annee','min', 'max']\n",
    "\n",
    "def df_to_tf_dataset(dataframe, shuffle=True):\n",
    "    '''Function for load a DataFrame pandas into tensorflow dataset'''\n",
    "    \n",
    "    df = dataframe.copy()\n",
    "    label = df.pop(LABEL_COLUMN)\n",
    "    # Remove the unwanted columns\n",
    "    df = df[[column_name for column_name in df.columns.tolist() if column_name not in UNWANTED_COLS]]\n",
    "    \n",
    "    # Create the tensorflow dataset\n",
    "    dataset = tf.data.Dataset.from_tensor_slices((dict(df), label)) \n",
    "    \n",
    "    if shuffle:\n",
    "        dataset = dataset.shuffle(buffer_size=len(df), seed=21)\n",
    "        \n",
    "    # Create the mini batches of exemples\n",
    "    dataset = dataset.batch(MINI_BATCH_SIZE)\n",
    "    \n",
    "    return dataset \n",
    "\n",
    "def show_data(dataset):\n",
    "    '''Function for display the data of a tensorflow dataset'''\n",
    "    \n",
    "    for batch, labels in dataset.take(1):\n",
    "        print('Labels:', labels.numpy())\n",
    "        print()\n",
    "        print('Features:\\n')\n",
    "        for key, value in batch.items():\n",
    "            print('{}: {}'.format(key, value.numpy()))"
   ]
  },
  {
   "cell_type": "markdown",
   "metadata": {},
   "source": [
    "Create the tensorflow dataset for Train, Eval and Test the model"
   ]
  },
  {
   "cell_type": "code",
   "execution_count": 12,
   "metadata": {},
   "outputs": [],
   "source": [
    "df_train = pd.read_csv('./data/logement-train.csv')\n",
    "df_eval = pd.read_csv('./data/logement-eval.csv')\n",
    "df_test = pd.read_csv('./data/logement-eval.csv')\n",
    "\n",
    "train = df_to_tf_dataset(df_train, shuffle=False)\n",
    "eval_ = df_to_tf_dataset(df_eval, shuffle=False)\n",
    "test = df_to_tf_dataset(df_test, shuffle=False)"
   ]
  },
  {
   "cell_type": "code",
   "execution_count": 13,
   "metadata": {},
   "outputs": [],
   "source": [
    "#show_data(train)"
   ]
  },
  {
   "cell_type": "markdown",
   "metadata": {},
   "source": [
    "## Read the CSV files with `tf.data`\n",
    "\n",
    "An other methode for load the data of file in a tensorflow dataset.\n",
    "The data is load directly from the csv file(s)."
   ]
  },
  {
   "cell_type": "code",
   "execution_count": 14,
   "metadata": {},
   "outputs": [],
   "source": [
    "CSV_COLUMNS = ['id_zone', 'id_quartier', 'nom_quartier', 'piece', 'epoque', 'meuble_txt', 'ref', 'max', 'min',\n",
    "               'annee', 'ville', 'code_grand_quartier', 'lat', 'lon']\n",
    "\n",
    "MINI_BATCH_SIZE = 50\n",
    "LABEL_COLUMN = 'ref'\n",
    "DEFAULTS = [[0.0], [0.0], ['na'], [0.0], ['na'], ['na'], [0.0], [0.0], [0.0], [0.0], ['na'], [0.0], [0.0] , [0.0]]\n",
    "UNWANTED_COLS = ['ville','annee','min', 'max']\n",
    "\n",
    "\n",
    "def features_and_labels(row_data):\n",
    "    '''This function separate the features and label from the dataset and remove the unwanted columns'''\n",
    "    \n",
    "    label = row_data.pop(LABEL_COLUMN)\n",
    "    features = row_data\n",
    "    \n",
    "    # Remove the unwanted columns\n",
    "    for unwanted_col in UNWANTED_COLS:\n",
    "        features.pop(unwanted_col)\n",
    "        \n",
    "    return features, label\n",
    "\n",
    "\n",
    "# Reading CSV files into a dataset\n",
    "def create_dataset(pattern, mini_batch_size=1, shuffle=True):\n",
    "    '''This function load the data from csv files into a tensorflow datasets'''\n",
    "    \n",
    "    dataset = tf.data.experimental.make_csv_dataset(pattern,\n",
    "                                                   MINI_BATCH_SIZE,\n",
    "                                                   CSV_COLUMNS,\n",
    "                                                   DEFAULTS,\n",
    "                                                   shuffle=False) # the dataset is shuffle after\n",
    "    \n",
    "    \n",
    "    dataset = dataset.map(features_and_labels)\n",
    "    \n",
    "    if shuffle:\n",
    "        dataset = dataset.shuffle(buffer_size=1000, seed=21).repeat()\n",
    "        \n",
    "    # take advantage of multi-threading; 1=AUTOTUNE\n",
    "    dataset= dataset.prefetch(1)\n",
    "    \n",
    "    return dataset\n",
    "\n",
    "\n",
    "def show_data(dataset):\n",
    "    '''Function for display the data of a tensorflow dataset'''\n",
    "    \n",
    "    for batch, labels in dataset.take(1):\n",
    "        print('Labels:', labels.numpy())\n",
    "        print()\n",
    "        print('Features:\\n')\n",
    "        for key, value in batch.items():\n",
    "            print('{}: {}'.format(key, value.numpy()))\n"
   ]
  },
  {
   "cell_type": "markdown",
   "metadata": {},
   "source": [
    "Load the datasets for Train, Eval and Test the model"
   ]
  },
  {
   "cell_type": "code",
   "execution_count": 15,
   "metadata": {},
   "outputs": [],
   "source": [
    "trainds = create_dataset(pattern='./data/logement-train.csv',\n",
    "                        mini_batch_size=MINI_BATCH_SIZE,\n",
    "                        shuffle=False)\n",
    "\n",
    "evalds = create_dataset(pattern='./data/logement-eval*',\n",
    "                        mini_batch_size=MINI_BATCH_SIZE,\n",
    "                        shuffle=False)\n",
    "\n",
    "testds = create_dataset(pattern='./data/logement-test*',\n",
    "                        mini_batch_size=MINI_BATCH_SIZE,\n",
    "                        shuffle=False)"
   ]
  },
  {
   "cell_type": "code",
   "execution_count": 16,
   "metadata": {},
   "outputs": [],
   "source": [
    "#show_data(trainds)"
   ]
  },
  {
   "cell_type": "markdown",
   "metadata": {},
   "source": [
    "## Scaling the numeric features"
   ]
  },
  {
   "cell_type": "code",
   "execution_count": 43,
   "metadata": {},
   "outputs": [
    {
     "data": {
      "text/html": [
       "<div>\n",
       "<style scoped>\n",
       "    .dataframe tbody tr th:only-of-type {\n",
       "        vertical-align: middle;\n",
       "    }\n",
       "\n",
       "    .dataframe tbody tr th {\n",
       "        vertical-align: top;\n",
       "    }\n",
       "\n",
       "    .dataframe thead th {\n",
       "        text-align: right;\n",
       "    }\n",
       "</style>\n",
       "<table border=\"1\" class=\"dataframe\">\n",
       "  <thead>\n",
       "    <tr style=\"text-align: right;\">\n",
       "      <th></th>\n",
       "      <th>id_quartier</th>\n",
       "      <th>piece</th>\n",
       "      <th>id_zone</th>\n",
       "    </tr>\n",
       "  </thead>\n",
       "  <tbody>\n",
       "    <tr>\n",
       "      <th>count</th>\n",
       "      <td>1843.000000</td>\n",
       "      <td>1843.000000</td>\n",
       "      <td>1843.000000</td>\n",
       "    </tr>\n",
       "    <tr>\n",
       "      <th>mean</th>\n",
       "      <td>40.360282</td>\n",
       "      <td>2.504069</td>\n",
       "      <td>6.627781</td>\n",
       "    </tr>\n",
       "    <tr>\n",
       "      <th>std</th>\n",
       "      <td>22.943858</td>\n",
       "      <td>1.110780</td>\n",
       "      <td>4.209798</td>\n",
       "    </tr>\n",
       "    <tr>\n",
       "      <th>min</th>\n",
       "      <td>1.000000</td>\n",
       "      <td>1.000000</td>\n",
       "      <td>1.000000</td>\n",
       "    </tr>\n",
       "    <tr>\n",
       "      <th>25%</th>\n",
       "      <td>21.000000</td>\n",
       "      <td>2.000000</td>\n",
       "      <td>3.000000</td>\n",
       "    </tr>\n",
       "    <tr>\n",
       "      <th>50%</th>\n",
       "      <td>40.000000</td>\n",
       "      <td>2.000000</td>\n",
       "      <td>5.000000</td>\n",
       "    </tr>\n",
       "    <tr>\n",
       "      <th>75%</th>\n",
       "      <td>60.000000</td>\n",
       "      <td>3.000000</td>\n",
       "      <td>11.000000</td>\n",
       "    </tr>\n",
       "    <tr>\n",
       "      <th>max</th>\n",
       "      <td>80.000000</td>\n",
       "      <td>4.000000</td>\n",
       "      <td>14.000000</td>\n",
       "    </tr>\n",
       "  </tbody>\n",
       "</table>\n",
       "</div>"
      ],
      "text/plain": [
       "       id_quartier        piece      id_zone\n",
       "count  1843.000000  1843.000000  1843.000000\n",
       "mean     40.360282     2.504069     6.627781\n",
       "std      22.943858     1.110780     4.209798\n",
       "min       1.000000     1.000000     1.000000\n",
       "25%      21.000000     2.000000     3.000000\n",
       "50%      40.000000     2.000000     5.000000\n",
       "75%      60.000000     3.000000    11.000000\n",
       "max      80.000000     4.000000    14.000000"
      ]
     },
     "execution_count": 43,
     "metadata": {},
     "output_type": "execute_result"
    }
   ],
   "source": [
    "# Display the statistics of the train data\n",
    "desc = df_train[numeric_columns].describe()\n",
    "desc"
   ]
  },
  {
   "cell_type": "markdown",
   "metadata": {},
   "source": [
    "Get the statistics values."
   ]
  },
  {
   "cell_type": "code",
   "execution_count": 44,
   "metadata": {},
   "outputs": [
    {
     "name": "stdout",
     "output_type": "stream",
     "text": [
      "Mean            :  [40.36028215  2.50406945  6.62778079]\n",
      "Ecart-Type (std):  [40.36028215  2.50406945  6.62778079]\n",
      "Max             :  [80.  4. 14.]\n",
      "Min             :  [1. 1. 1.]\n"
     ]
    }
   ],
   "source": [
    "MEAN = np.array(desc.T['mean'])\n",
    "STD = np.array(desc.T['mean'])\n",
    "MAX = np.array(desc.T['max'])\n",
    "MIN = np.array(desc.T['min'])\n",
    "\n",
    "print('Mean            : ', MEAN)\n",
    "print('Ecart-Type (std): ', STD)\n",
    "print('Max             : ', MAX)\n",
    "print('Min             : ', MIN)"
   ]
  },
  {
   "cell_type": "markdown",
   "metadata": {},
   "source": [
    "Set by default the MEAN and STD value for each numeric features of the scaler function."
   ]
  },
  {
   "cell_type": "code",
   "execution_count": 54,
   "metadata": {},
   "outputs": [],
   "source": [
    "numeric_columns = ['id_quartier', 'piece', 'id_zone']\n",
    "\n",
    "def standar_scaler(data, mean=MEAN, std=STD):\n",
    "    '''\n",
    "    This function allows to normalize the variables (data) so that they have a zero mean and a variance\n",
    "    equal to 1. For a variable, this corresponds to subtracting for each observation the mean (mean) of the variable and to dividing each observation\n",
    "    by the standard deviation (std).\n",
    "    '''\n",
    "    \n",
    "    \n",
    "    return (data-mean) / std"
   ]
  },
  {
   "cell_type": "markdown",
   "metadata": {},
   "source": [
    "## Pre-Processing the Input Features "
   ]
  },
  {
   "cell_type": "code",
   "execution_count": 55,
   "metadata": {},
   "outputs": [],
   "source": [
    "feature_columns = []\n",
    "\n",
    "# 1. Numeric coloumns\n",
    "\n",
    "# Add the feature to the list eature_columns\n",
    "for col_name in numeric_columns:\n",
    "    feature_columns.append(fc.numeric_column(col_name,\n",
    "                                            normalizer_fn=standar_scaler,\n",
    "                                            shape=[len(numeric_columns)]))\n",
    "    \n",
    "# 2. Categorical columns\n",
    "categorical_column = ['epoque','meuble_txt','nom_quartier']\n",
    "\n",
    "# Add the feature to the list eature_columns\n",
    "for col_name in categorical_column:\n",
    "    catg_val_list = df_train[col_name].unique().tolist()\n",
    "    feature = fc.categorical_column_with_vocabulary_list(col_name,\n",
    "                                                         catg_val_list)\n",
    "    feature_columns.append(fc.indicator_column(feature))\n",
    "    \n",
    "# 3. Crossed Columns\n",
    "lat = fc.numeric_column('lat')\n",
    "lon = fc.numeric_column('lon')\n",
    "\n",
    "# The number of bucket corresponds to the number of districts in Paris\n",
    "nb_bucket = len(df_train['nom_quartier'].unique().tolist())\n",
    "\n",
    "# Bucketize latitudes and longitudes\n",
    "latbucket = list(np.linspace(start=48.82313,\n",
    "                             stop=48.89556,\n",
    "                             num=nb_bucket))\n",
    "lonbucket = list(np.linspace(start=2.25228,\n",
    "                             stop= 2.406172,\n",
    "                             num=nb_bucket))\n",
    "\n",
    "bucketized_lat = fc.bucketized_column(lat,\n",
    "                                      boundaries=latbucket)\n",
    "bucketized_lon = fc.bucketized_column(lon,\n",
    "                                      boundaries=lonbucket)\n",
    "\n",
    "# Crossed features for locations\n",
    "loc = fc.crossed_column([bucketized_lat, bucketized_lon],\n",
    "                                   hash_bucket_size=nb_bucket) # No precise for the limited number of bucket\n",
    "\n",
    "# Add the feature to the list eature_columns\n",
    "feature_columns.append(fc.indicator_column(loc))\n"
   ]
  },
  {
   "cell_type": "code",
   "execution_count": 56,
   "metadata": {},
   "outputs": [],
   "source": [
    "# Create a vector of features\n",
    "feature_layer = tf.keras.layers.DenseFeatures(feature_columns)"
   ]
  },
  {
   "cell_type": "markdown",
   "metadata": {},
   "source": [
    "The Sequential model is a linear stack of layers and when building a model using the Sequential API, you configure each layer of the model in turn. Once all the layers have been added, you compile the model. "
   ]
  },
  {
   "cell_type": "code",
   "execution_count": 57,
   "metadata": {},
   "outputs": [],
   "source": [
    "model = tf.keras.Sequential([\n",
    "    feature_layer,\n",
    "    layers.Dense(units=32, activation=\"relu\", name=\"h1\"),\n",
    "    layers.Dense(units=8, activation=\"relu\", name=\"h2\"),\n",
    "    layers.Dense(units=1, activation=\"linear\", name=\"output\")\n",
    "    ])"
   ]
  },
  {
   "cell_type": "code",
   "execution_count": 58,
   "metadata": {},
   "outputs": [],
   "source": [
    "# Custum eval metric\n",
    "def rmse(y_true, y_pred):\n",
    "    return tf.sqrt(tf.reduce_mean(tf.square(y_pred - y_true)))"
   ]
  },
  {
   "cell_type": "markdown",
   "metadata": {},
   "source": [
    "Configure the learning process. This is done using the compile method. The compile method takes three arguments:\n",
    "\n",
    "* An optimizer. This could be the string identifier of an existing optimizer (such as `rmsprop` or `adagrad`), or an instance of the [Optimizer class](https://www.tensorflow.org/versions/r2.0/api_docs/python/tf/keras/optimizers).\n",
    "* A loss function. This is the objective that the model will try to minimize. It can be the string identifier of an existing loss function from the [Losses class](https://www.tensorflow.org/versions/r2.0/api_docs/python/tf/keras/losses) (such as categorical_crossentropy or mse), or it can be a custom objective function.\n",
    "* A list of metrics. For any machine learning problem you will want a set of metrics to evaluate your model. A metric could be the string identifier of an existing metric or a custom metric function.\n",
    "\n",
    "Used a custom metric `rmse` to our list of metrics which will return the root mean square error. "
   ]
  },
  {
   "cell_type": "code",
   "execution_count": 59,
   "metadata": {},
   "outputs": [
    {
     "name": "stdout",
     "output_type": "stream",
     "text": [
      "Epoch 1/30\n",
      "WARNING:tensorflow:Layers in a Sequential model should only have a single input tensor, but we receive a <class 'collections.OrderedDict'> input: OrderedDict([('id_zone', <tf.Tensor 'ExpandDims_3:0' shape=(50, 1) dtype=float32>), ('id_quartier', <tf.Tensor 'ExpandDims_2:0' shape=(50, 1) dtype=float32>), ('nom_quartier', <tf.Tensor 'ExpandDims_7:0' shape=(50, 1) dtype=string>), ('piece', <tf.Tensor 'ExpandDims_8:0' shape=(50, 1) dtype=float32>), ('epoque', <tf.Tensor 'ExpandDims_1:0' shape=(50, 1) dtype=string>), ('meuble_txt', <tf.Tensor 'ExpandDims_6:0' shape=(50, 1) dtype=string>), ('code_grand_quartier', <tf.Tensor 'ExpandDims:0' shape=(50, 1) dtype=float32>), ('lat', <tf.Tensor 'ExpandDims_4:0' shape=(50, 1) dtype=float32>), ('lon', <tf.Tensor 'ExpandDims_5:0' shape=(50, 1) dtype=float32>)])\n",
      "Consider rewriting this model with the Functional API.\n",
      "WARNING:tensorflow:Layers in a Sequential model should only have a single input tensor, but we receive a <class 'collections.OrderedDict'> input: OrderedDict([('id_zone', <tf.Tensor 'ExpandDims_3:0' shape=(50, 1) dtype=float32>), ('id_quartier', <tf.Tensor 'ExpandDims_2:0' shape=(50, 1) dtype=float32>), ('nom_quartier', <tf.Tensor 'ExpandDims_7:0' shape=(50, 1) dtype=string>), ('piece', <tf.Tensor 'ExpandDims_8:0' shape=(50, 1) dtype=float32>), ('epoque', <tf.Tensor 'ExpandDims_1:0' shape=(50, 1) dtype=string>), ('meuble_txt', <tf.Tensor 'ExpandDims_6:0' shape=(50, 1) dtype=string>), ('code_grand_quartier', <tf.Tensor 'ExpandDims:0' shape=(50, 1) dtype=float32>), ('lat', <tf.Tensor 'ExpandDims_4:0' shape=(50, 1) dtype=float32>), ('lon', <tf.Tensor 'ExpandDims_5:0' shape=(50, 1) dtype=float32>)])\n",
      "Consider rewriting this model with the Functional API.\n",
      "28/36 [======================>.......] - ETA: 0s - loss: 642.6464 - rmse: 25.3374 - mse: 642.6464WARNING:tensorflow:Layers in a Sequential model should only have a single input tensor, but we receive a <class 'collections.OrderedDict'> input: OrderedDict([('id_zone', <tf.Tensor 'ExpandDims_3:0' shape=(50, 1) dtype=float32>), ('id_quartier', <tf.Tensor 'ExpandDims_2:0' shape=(50, 1) dtype=float32>), ('nom_quartier', <tf.Tensor 'ExpandDims_7:0' shape=(50, 1) dtype=string>), ('piece', <tf.Tensor 'ExpandDims_8:0' shape=(50, 1) dtype=float32>), ('epoque', <tf.Tensor 'ExpandDims_1:0' shape=(50, 1) dtype=string>), ('meuble_txt', <tf.Tensor 'ExpandDims_6:0' shape=(50, 1) dtype=string>), ('code_grand_quartier', <tf.Tensor 'ExpandDims:0' shape=(50, 1) dtype=float32>), ('lat', <tf.Tensor 'ExpandDims_4:0' shape=(50, 1) dtype=float32>), ('lon', <tf.Tensor 'ExpandDims_5:0' shape=(50, 1) dtype=float32>)])\n",
      "Consider rewriting this model with the Functional API.\n",
      "36/36 [==============================] - 0s 10ms/step - loss: 624.9608 - rmse: 24.9794 - mse: 624.9608 - val_loss: 505.9177 - val_rmse: 22.4855 - val_mse: 505.9177\n",
      "Epoch 2/30\n",
      "36/36 [==============================] - 0s 4ms/step - loss: 363.3203 - rmse: 18.8786 - mse: 363.3203 - val_loss: 209.8447 - val_rmse: 14.4512 - val_mse: 209.8447\n",
      "Epoch 3/30\n",
      "36/36 [==============================] - 0s 4ms/step - loss: 171.1405 - rmse: 13.0004 - mse: 171.1405 - val_loss: 135.7244 - val_rmse: 11.6113 - val_mse: 135.7244\n",
      "Epoch 4/30\n",
      "36/36 [==============================] - 0s 5ms/step - loss: 120.0861 - rmse: 10.8957 - mse: 120.0861 - val_loss: 92.6240 - val_rmse: 9.5882 - val_mse: 92.6240\n",
      "Epoch 5/30\n",
      "36/36 [==============================] - 0s 5ms/step - loss: 77.1189 - rmse: 8.7100 - mse: 77.1189 - val_loss: 51.2620 - val_rmse: 7.1290 - val_mse: 51.2620\n",
      "Epoch 6/30\n",
      "36/36 [==============================] - 0s 5ms/step - loss: 37.7104 - rmse: 6.0487 - mse: 37.7104 - val_loss: 21.1165 - val_rmse: 4.5692 - val_mse: 21.1165\n",
      "Epoch 7/30\n",
      "36/36 [==============================] - 0s 4ms/step - loss: 15.0418 - rmse: 3.8083 - mse: 15.0418 - val_loss: 8.0912 - val_rmse: 2.8246 - val_mse: 8.0912\n",
      "Epoch 8/30\n",
      "36/36 [==============================] - 0s 4ms/step - loss: 6.9696 - rmse: 2.6202 - mse: 6.9696 - val_loss: 5.1022 - val_rmse: 2.2435 - val_mse: 5.1022\n",
      "Epoch 9/30\n",
      "36/36 [==============================] - 0s 5ms/step - loss: 4.8656 - rmse: 2.1974 - mse: 4.8656 - val_loss: 4.0298 - val_rmse: 1.9934 - val_mse: 4.0298\n",
      "Epoch 10/30\n",
      "36/36 [==============================] - 0s 4ms/step - loss: 3.9311 - rmse: 1.9766 - mse: 3.9311 - val_loss: 3.4114 - val_rmse: 1.8342 - val_mse: 3.4114\n",
      "Epoch 11/30\n",
      "36/36 [==============================] - 0s 4ms/step - loss: 3.3362 - rmse: 1.8187 - mse: 3.3362 - val_loss: 3.0535 - val_rmse: 1.7357 - val_mse: 3.0535\n",
      "Epoch 12/30\n",
      "36/36 [==============================] - 0s 5ms/step - loss: 3.0074 - rmse: 1.7258 - mse: 3.0074 - val_loss: 2.8493 - val_rmse: 1.6774 - val_mse: 2.8493\n",
      "Epoch 13/30\n",
      "36/36 [==============================] - 0s 4ms/step - loss: 2.7991 - rmse: 1.6652 - mse: 2.7991 - val_loss: 2.7295 - val_rmse: 1.6423 - val_mse: 2.7295\n",
      "Epoch 14/30\n",
      "36/36 [==============================] - 0s 4ms/step - loss: 2.6778 - rmse: 1.6308 - mse: 2.6778 - val_loss: 2.6617 - val_rmse: 1.6224 - val_mse: 2.6617\n",
      "Epoch 15/30\n",
      "36/36 [==============================] - 0s 5ms/step - loss: 2.6214 - rmse: 1.6136 - mse: 2.6214 - val_loss: 2.6209 - val_rmse: 1.6102 - val_mse: 2.6209\n",
      "Epoch 16/30\n",
      "36/36 [==============================] - 0s 5ms/step - loss: 2.5664 - rmse: 1.5975 - mse: 2.5664 - val_loss: 2.5999 - val_rmse: 1.6040 - val_mse: 2.5999\n",
      "Epoch 17/30\n",
      "36/36 [==============================] - 0s 5ms/step - loss: 2.5380 - rmse: 1.5869 - mse: 2.5380 - val_loss: 2.5913 - val_rmse: 1.6014 - val_mse: 2.5913\n",
      "Epoch 18/30\n",
      "36/36 [==============================] - 0s 4ms/step - loss: 2.5034 - rmse: 1.5755 - mse: 2.5034 - val_loss: 2.5848 - val_rmse: 1.5995 - val_mse: 2.5848\n",
      "Epoch 19/30\n",
      "36/36 [==============================] - 0s 4ms/step - loss: 2.4561 - rmse: 1.5607 - mse: 2.4561 - val_loss: 2.5965 - val_rmse: 1.6029 - val_mse: 2.5965\n",
      "Epoch 20/30\n",
      "36/36 [==============================] - 0s 5ms/step - loss: 2.4801 - rmse: 1.5666 - mse: 2.4801 - val_loss: 2.5872 - val_rmse: 1.6001 - val_mse: 2.5872\n",
      "Epoch 21/30\n",
      "36/36 [==============================] - 0s 5ms/step - loss: 2.4778 - rmse: 1.5683 - mse: 2.4778 - val_loss: 2.5764 - val_rmse: 1.5967 - val_mse: 2.5764\n",
      "Epoch 22/30\n",
      "36/36 [==============================] - 0s 4ms/step - loss: 2.4390 - rmse: 1.5561 - mse: 2.4390 - val_loss: 2.5717 - val_rmse: 1.5953 - val_mse: 2.5717\n",
      "Epoch 23/30\n",
      "36/36 [==============================] - 0s 4ms/step - loss: 2.4453 - rmse: 1.5587 - mse: 2.4453 - val_loss: 2.5615 - val_rmse: 1.5922 - val_mse: 2.5615\n",
      "Epoch 24/30\n",
      "36/36 [==============================] - 0s 4ms/step - loss: 2.4357 - rmse: 1.5546 - mse: 2.4357 - val_loss: 2.5582 - val_rmse: 1.5912 - val_mse: 2.5582\n",
      "Epoch 25/30\n",
      "36/36 [==============================] - 0s 5ms/step - loss: 2.4324 - rmse: 1.5529 - mse: 2.4324 - val_loss: 2.5377 - val_rmse: 1.5849 - val_mse: 2.5377\n",
      "Epoch 26/30\n",
      "36/36 [==============================] - 0s 4ms/step - loss: 2.4016 - rmse: 1.5423 - mse: 2.4016 - val_loss: 2.5394 - val_rmse: 1.5854 - val_mse: 2.5394\n",
      "Epoch 27/30\n",
      "36/36 [==============================] - 0s 6ms/step - loss: 2.4072 - rmse: 1.5431 - mse: 2.4072 - val_loss: 2.5164 - val_rmse: 1.5784 - val_mse: 2.5164\n",
      "Epoch 28/30\n",
      "36/36 [==============================] - 0s 5ms/step - loss: 2.4040 - rmse: 1.5444 - mse: 2.4040 - val_loss: 2.4953 - val_rmse: 1.5719 - val_mse: 2.4953\n",
      "Epoch 29/30\n",
      "36/36 [==============================] - 0s 4ms/step - loss: 2.3976 - rmse: 1.5437 - mse: 2.3976 - val_loss: 2.4676 - val_rmse: 1.5635 - val_mse: 2.4676\n",
      "Epoch 30/30\n",
      "36/36 [==============================] - 0s 6ms/step - loss: 2.4050 - rmse: 1.5470 - mse: 2.4050 - val_loss: 2.4571 - val_rmse: 1.5604 - val_mse: 2.4571\n"
     ]
    }
   ],
   "source": [
    "# Compile the keras model\n",
    "\n",
    "# Number of exemples divided by the mini batch size\n",
    "STEPS_PER_EPOCH = len(df_train) // MINI_BATCH_SIZE\n",
    "\n",
    "model.compile(optimizer=\"adam\",\n",
    "              loss=\"mse\",\n",
    "              metrics=[rmse, \"mse\"])\n",
    "\n",
    "history = model.fit(trainds,\n",
    "          steps_per_epoch=STEPS_PER_EPOCH, \n",
    "          epochs=30,\n",
    "          validation_steps=STEPS_PER_EPOCH,          \n",
    "          validation_data=evalds)"
   ]
  },
  {
   "cell_type": "markdown",
   "metadata": {},
   "source": [
    "### High-level model evaluation\n",
    "\n",
    "Once we've run data through the model, we can call `.summary()` on the model to get a high-level summary of our network. We can also plot the training and evaluation curves for the metrics we computed above. "
   ]
  },
  {
   "cell_type": "code",
   "execution_count": 60,
   "metadata": {},
   "outputs": [
    {
     "name": "stdout",
     "output_type": "stream",
     "text": [
      "Model: \"sequential_3\"\n",
      "_________________________________________________________________\n",
      "Layer (type)                 Output Shape              Param #   \n",
      "=================================================================\n",
      "dense_features_5 (DenseFeatu multiple                  0         \n",
      "_________________________________________________________________\n",
      "h1 (Dense)                   multiple                  5632      \n",
      "_________________________________________________________________\n",
      "h2 (Dense)                   multiple                  264       \n",
      "_________________________________________________________________\n",
      "output (Dense)               multiple                  9         \n",
      "=================================================================\n",
      "Total params: 5,905\n",
      "Trainable params: 5,905\n",
      "Non-trainable params: 0\n",
      "_________________________________________________________________\n"
     ]
    }
   ],
   "source": [
    "# The summary() is a generic function used to produce result summaries of the results of various model fitting functions.\n",
    "model.summary()"
   ]
  },
  {
   "cell_type": "code",
   "execution_count": 61,
   "metadata": {},
   "outputs": [
    {
     "data": {
      "text/plain": [
       "<matplotlib.axes._subplots.AxesSubplot at 0x15a69cd10>"
      ]
     },
     "execution_count": 61,
     "metadata": {},
     "output_type": "execute_result"
    },
    {
     "data": {
      "image/png": "[encoded data removed]",
      "text/plain": [
       "<Figure size 432x288 with 1 Axes>"
      ]
     },
     "metadata": {
      "needs_background": "light"
     },
     "output_type": "display_data"
    }
   ],
   "source": [
    "RMSE_COLS = ['rmse', 'val_rmse']\n",
    "\n",
    "# The history object is returned from calls to the fit() function used to train the model.\n",
    "# Metrics are stored in a dictionary in the history member of the object returned.\n",
    "pd.DataFrame(history.history)[RMSE_COLS].plot()"
   ]
  },
  {
   "cell_type": "code",
   "execution_count": 62,
   "metadata": {},
   "outputs": [
    {
     "data": {
      "text/plain": [
       "<matplotlib.axes._subplots.AxesSubplot at 0x1568c2b90>"
      ]
     },
     "execution_count": 62,
     "metadata": {},
     "output_type": "execute_result"
    },
    {
     "data": {
      "image/png": "[encoded data removed]",
      "text/plain": [
       "<Figure size 432x288 with 1 Axes>"
      ]
     },
     "metadata": {
      "needs_background": "light"
     },
     "output_type": "display_data"
    }
   ],
   "source": [
    "LOSS_COLS = ['loss', 'val_loss']\n",
    "\n",
    "# The history object is returned from calls to the fit() function used to train the model.\n",
    "# Metrics are stored in a dictionary in the history member of the object returned.\n",
    "pd.DataFrame(history.history)[LOSS_COLS].plot()"
   ]
  },
  {
   "cell_type": "code",
   "execution_count": 63,
   "metadata": {},
   "outputs": [
    {
     "name": "stdout",
     "output_type": "stream",
     "text": [
      "36/36 [==============================] - 0s 2ms/step - loss: 2.5785 - rmse: 1.6031 - mse: 2.5785\n"
     ]
    }
   ],
   "source": [
    "# Evaluation with data never seen by the model\n",
    "eval_model = model.evaluate(testds, steps=STEPS_PER_EPOCH)"
   ]
  },
  {
   "cell_type": "markdown",
   "metadata": {},
   "source": [
    "## Making predictions with our model\n",
    "\n",
    "To make predictions with our trained model, we can call the [predict method](https://www.tensorflow.org/api_docs/python/tf/keras/Model#predict), passing to it a dictionary of values. The `steps` parameter determines the total number of steps before declaring the prediction round finished. Here since we have just one example, we set `steps=1` (setting `steps=None` would also work). Note, however, that if x is a `tf.data` dataset or a dataset iterator, and steps is set to None, predict will run until the input dataset is exhausted."
   ]
  },
  {
   "cell_type": "code",
   "execution_count": 64,
   "metadata": {},
   "outputs": [
    {
     "name": "stdout",
     "output_type": "stream",
     "text": [
      "WARNING:tensorflow:Layers in a Sequential model should only have a single input tensor, but we receive a <class 'dict'> input: {'epoque': <tf.Tensor 'ExpandDims_2:0' shape=(1, 1) dtype=string>, 'piece': <tf.Tensor 'ExpandDims_11:0' shape=(1, 1) dtype=int32>, 'id_quartier': <tf.Tensor 'ExpandDims_3:0' shape=(1, 1) dtype=int32>, 'id_zone': <tf.Tensor 'ExpandDims_4:0' shape=(1, 1) dtype=int32>, 'meuble_txt': <tf.Tensor 'ExpandDims_8:0' shape=(1, 1) dtype=string>, 'lat': <tf.Tensor 'ExpandDims_5:0' shape=(1, 1) dtype=float32>, 'lon': <tf.Tensor 'ExpandDims_6:0' shape=(1, 1) dtype=float32>, 'annee': <tf.Tensor 'ExpandDims:0' shape=(1, 1) dtype=int32>, 'code_grand_quartier': <tf.Tensor 'ExpandDims_1:0' shape=(1, 1) dtype=int32>, 'max': <tf.Tensor 'ExpandDims_7:0' shape=(1, 1) dtype=float32>, 'min': <tf.Tensor 'ExpandDims_9:0' shape=(1, 1) dtype=float32>, 'nom_quartier': <tf.Tensor 'ExpandDims_10:0' shape=(1, 1) dtype=string>, 'ville': <tf.Tensor 'ExpandDims_12:0' shape=(1, 1) dtype=string>}\n",
      "Consider rewriting this model with the Functional API.\n"
     ]
    },
    {
     "data": {
      "text/plain": [
       "array([[27.566711]], dtype=float32)"
      ]
     },
     "execution_count": 64,
     "metadata": {},
     "output_type": "execute_result"
    }
   ],
   "source": [
    "# The predict() method will predict the response for model. \n",
    "# Using tf.convert_to_tensor() we will convert the given value to a Tensor. \n",
    "\n",
    "model.predict(x={\"epoque\": tf.convert_to_tensor(['Avant 1946']),\n",
    "                 \"piece\": tf.convert_to_tensor([2]),\n",
    "                 \"id_quartier\": tf.convert_to_tensor([77]),\n",
    "                 \"id_zone\": tf.convert_to_tensor([11]),\n",
    "                 \"meuble_txt\": tf.convert_to_tensor(['non meublé']),\n",
    "                 \"lat\": tf.convert_to_tensor([48.8715312006]),\n",
    "                 \"lon\": tf.convert_to_tensor([2.38754923985]),\n",
    "                 \"annee\": tf.convert_to_tensor([2020]),\n",
    "                 \"code_grand_quartier\": tf.convert_to_tensor([7512077]),\n",
    "                 \"max\": tf.convert_to_tensor([25.68]),\n",
    "                 \"min\": tf.convert_to_tensor([14.98]),\n",
    "                 \"nom_quartier\": tf.convert_to_tensor(['Belleville']),\n",
    "                 \"ville\": tf.convert_to_tensor(['PARIS'])}, \n",
    "              steps=1)"
   ]
  },
  {
   "cell_type": "markdown",
   "metadata": {},
   "source": [
    "# Export and deploy our model\n",
    "\n",
    "Of course, making individual predictions is not realistic, because we can't expect client code to have a model object in memory. For others to use our trained model, we'll have to export our model to a file, and expect client code to instantiate the model from that exported file. \n",
    "\n",
    "We'll export the model to a TensorFlow SavedModel format. Once we have a model in this format, we have lots of ways to \"serve\" the model, from a web application, from JavaScript, from mobile applications, etc."
   ]
  },
  {
   "cell_type": "code",
   "execution_count": 68,
   "metadata": {},
   "outputs": [],
   "source": [
    "import os\n",
    "import shutil\n",
    "import datetime as dt\n",
    "\n",
    "OUTPUT_DIR = \"./savedmodel\"\n",
    "\n",
    "# shutil.rmtree(OUTPUT_DIR, ignore_errors=True)\n",
    "\n",
    "# The join() method takes all items in an iterable and joins them into one string.\n",
    "EXPORT_PATH = os.path.join(OUTPUT_DIR,\n",
    "                           dt.datetime.now().strftime(\"%Y%m%d%H%M%S\"))\n",
    "\n",
    "tf.saved_model.save(model, EXPORT_PATH)  # with default serving function"
   ]
  },
  {
   "cell_type": "code",
   "execution_count": 67,
   "metadata": {},
   "outputs": [
    {
     "name": "stdout",
     "output_type": "stream",
     "text": [
      "The given SavedModel SignatureDef contains the following input(s):\n",
      "  inputs['code_grand_quartier'] tensor_info:\n",
      "      dtype: DT_FLOAT\n",
      "      shape: (-1, 1)\n",
      "      name: serving_default_code_grand_quartier:0\n",
      "  inputs['epoque'] tensor_info:\n",
      "      dtype: DT_STRING\n",
      "      shape: (-1, 1)\n",
      "      name: serving_default_epoque:0\n",
      "  inputs['id_quartier'] tensor_info:\n",
      "      dtype: DT_FLOAT\n",
      "      shape: (-1, 1)\n",
      "      name: serving_default_id_quartier:0\n",
      "  inputs['id_zone'] tensor_info:\n",
      "      dtype: DT_FLOAT\n",
      "      shape: (-1, 1)\n",
      "      name: serving_default_id_zone:0\n",
      "  inputs['lat'] tensor_info:\n",
      "      dtype: DT_FLOAT\n",
      "      shape: (-1, 1)\n",
      "      name: serving_default_lat:0\n",
      "  inputs['lon'] tensor_info:\n",
      "      dtype: DT_FLOAT\n",
      "      shape: (-1, 1)\n",
      "      name: serving_default_lon:0\n",
      "  inputs['meuble_txt'] tensor_info:\n",
      "      dtype: DT_STRING\n",
      "      shape: (-1, 1)\n",
      "      name: serving_default_meuble_txt:0\n",
      "  inputs['nom_quartier'] tensor_info:\n",
      "      dtype: DT_STRING\n",
      "      shape: (-1, 1)\n",
      "      name: serving_default_nom_quartier:0\n",
      "  inputs['piece'] tensor_info:\n",
      "      dtype: DT_FLOAT\n",
      "      shape: (-1, 1)\n",
      "      name: serving_default_piece:0\n",
      "The given SavedModel SignatureDef contains the following output(s):\n",
      "  outputs['output_1'] tensor_info:\n",
      "      dtype: DT_FLOAT\n",
      "      shape: (-1, 1)\n",
      "      name: StatefulPartitionedCall_3:0\n",
      "Method name is: tensorflow/serving/predict\n",
      "./savedmodel/20201227181224\n",
      "./savedmodel/20201227181224/variables\n",
      "./savedmodel/20201227181224/variables/variables.data-00000-of-00001\n",
      "./savedmodel/20201227181224/variables/variables.index\n",
      "./savedmodel/20201227181224/saved_model.pb\n",
      "./savedmodel/20201227181224/assets\n"
     ]
    }
   ],
   "source": [
    "!saved_model_cli show \\\n",
    " --tag_set serve \\\n",
    " --signature_def serving_default \\\n",
    " --dir {EXPORT_PATH}\n",
    "!find {EXPORT_PATH}\n",
    "os.environ['EXPORT_PATH'] = EXPORT_PATH"
   ]
  },
  {
   "cell_type": "markdown",
   "metadata": {},
   "source": [
    "# End"
   ]
  }
 ],
 "metadata": {
  "kernelspec": {
   "display_name": "Python 3",
   "language": "python",
   "name": "python3"
  },
  "language_info": {
   "codemirror_mode": {
    "name": "ipython",
    "version": 3
   },
   "file_extension": ".py",
   "mimetype": "text/x-python",
   "name": "python",
   "nbconvert_exporter": "python",
   "pygments_lexer": "ipython3",
   "version": "3.7.4"
  }
 },
 "nbformat": 4,
 "nbformat_minor": 4
}
