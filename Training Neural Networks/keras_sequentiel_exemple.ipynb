{
 "cells": [
  {
   "cell_type": "markdown",
   "metadata": {},
   "source": [
    "# Introduction\n",
    "\n",
    "The [Keras sequential API](https://keras.io/models/sequential/) allows you to create Tensorflow models layer-by-layer. This is useful for building most kinds of machine learning models but it does not allow you to create models that share layers, re-use layers or have multiple inputs or outputs. "
   ]
  },
  {
   "cell_type": "markdown",
   "metadata": {},
   "source": [
    "## Import Library"
   ]
  },
  {
   "cell_type": "code",
   "execution_count": 1,
   "metadata": {},
   "outputs": [],
   "source": [
    "import pandas as pd\n",
    "import tensorflow_data_validation as tfdv\n",
    "from witwidget.notebook.visualization import WitConfigBuilder\n",
    "from witwidget.notebook.visualization import WitWidget\n",
    "from sklearn.model_selection import train_test_split\n",
    "import tensorflow as tf\n",
    "from tensorflow.keras import layers\n",
    "import numpy as np"
   ]
  },
  {
   "cell_type": "markdown",
   "metadata": {},
   "source": [
    "## Import file in dataframe pandas"
   ]
  },
  {
   "cell_type": "code",
   "execution_count": 28,
   "metadata": {},
   "outputs": [
    {
     "data": {
      "text/html": [
       "<div>\n",
       "<style scoped>\n",
       "    .dataframe tbody tr th:only-of-type {\n",
       "        vertical-align: middle;\n",
       "    }\n",
       "\n",
       "    .dataframe tbody tr th {\n",
       "        vertical-align: top;\n",
       "    }\n",
       "\n",
       "    .dataframe thead th {\n",
       "        text-align: right;\n",
       "    }\n",
       "</style>\n",
       "<table border=\"1\" class=\"dataframe\">\n",
       "  <thead>\n",
       "    <tr style=\"text-align: right;\">\n",
       "      <th></th>\n",
       "      <th>id_zone</th>\n",
       "      <th>id_quartier</th>\n",
       "      <th>nom_quartier</th>\n",
       "      <th>piece</th>\n",
       "      <th>epoque</th>\n",
       "      <th>meuble_txt</th>\n",
       "      <th>ref</th>\n",
       "      <th>max</th>\n",
       "      <th>min</th>\n",
       "      <th>annee</th>\n",
       "      <th>ville</th>\n",
       "      <th>code_grand_quartier</th>\n",
       "      <th>geo_shape</th>\n",
       "      <th>geo_point_2d</th>\n",
       "    </tr>\n",
       "  </thead>\n",
       "  <tbody>\n",
       "    <tr>\n",
       "      <th>0</th>\n",
       "      <td>11</td>\n",
       "      <td>77</td>\n",
       "      <td>Belleville</td>\n",
       "      <td>4</td>\n",
       "      <td>Avant 1946</td>\n",
       "      <td>non meublé</td>\n",
       "      <td>21.4</td>\n",
       "      <td>25.68</td>\n",
       "      <td>14.98</td>\n",
       "      <td>2020</td>\n",
       "      <td>PARIS</td>\n",
       "      <td>7512077</td>\n",
       "      <td>{\"type\": \"Polygon\", \"coordinates\": [[[2.383226...</td>\n",
       "      <td>48.8715312006,2.38754923985</td>\n",
       "    </tr>\n",
       "    <tr>\n",
       "      <th>1</th>\n",
       "      <td>13</td>\n",
       "      <td>75</td>\n",
       "      <td>Amérique</td>\n",
       "      <td>3</td>\n",
       "      <td>1971-1990</td>\n",
       "      <td>non meublé</td>\n",
       "      <td>16.7</td>\n",
       "      <td>20.04</td>\n",
       "      <td>11.69</td>\n",
       "      <td>2020</td>\n",
       "      <td>PARIS</td>\n",
       "      <td>7511975</td>\n",
       "      <td>{\"type\": \"Polygon\", \"coordinates\": [[[2.409402...</td>\n",
       "      <td>48.8816381673,2.39544016662</td>\n",
       "    </tr>\n",
       "  </tbody>\n",
       "</table>\n",
       "</div>"
      ],
      "text/plain": [
       "   id_zone  id_quartier nom_quartier  piece      epoque  meuble_txt   ref  \\\n",
       "0       11           77   Belleville      4  Avant 1946  non meublé  21.4   \n",
       "1       13           75     Amérique      3   1971-1990  non meublé  16.7   \n",
       "\n",
       "     max    min  annee  ville  code_grand_quartier  \\\n",
       "0  25.68  14.98   2020  PARIS              7512077   \n",
       "1  20.04  11.69   2020  PARIS              7511975   \n",
       "\n",
       "                                           geo_shape  \\\n",
       "0  {\"type\": \"Polygon\", \"coordinates\": [[[2.383226...   \n",
       "1  {\"type\": \"Polygon\", \"coordinates\": [[[2.409402...   \n",
       "\n",
       "                  geo_point_2d  \n",
       "0  48.8715312006,2.38754923985  \n",
       "1  48.8816381673,2.39544016662  "
      ]
     },
     "execution_count": 28,
     "metadata": {},
     "output_type": "execute_result"
    }
   ],
   "source": [
    "df = pd.read_csv('../Data/logement-encadrement-des-loyers.csv', sep=';')\n",
    "df.head(2)"
   ]
  },
  {
   "cell_type": "markdown",
   "metadata": {},
   "source": [
    "## Processing the dataframe "
   ]
  },
  {
   "cell_type": "code",
   "execution_count": 30,
   "metadata": {},
   "outputs": [],
   "source": [
    "def df_processing(df):\n",
    "    \n",
    "    # Create the columns for the latitude and longitude\n",
    "    df_lat_lon = df['geo_point_2d'].str.split(',', expand=True)\n",
    "    df['lat'] = df_lat_lon[0].astype(float) \n",
    "    df['lon'] = df_lat_lon[1].astype(float)\n",
    "    \n",
    "    # Deleted the column 'geo_shape'\n",
    "    df = df.drop(['geo_shape','geo_point_2d'], axis=1)\n",
    "    \n",
    "    df_processed = df\n",
    "    \n",
    "    return df_processed"
   ]
  },
  {
   "cell_type": "code",
   "execution_count": 32,
   "metadata": {},
   "outputs": [
    {
     "data": {
      "text/html": [
       "<div>\n",
       "<style scoped>\n",
       "    .dataframe tbody tr th:only-of-type {\n",
       "        vertical-align: middle;\n",
       "    }\n",
       "\n",
       "    .dataframe tbody tr th {\n",
       "        vertical-align: top;\n",
       "    }\n",
       "\n",
       "    .dataframe thead th {\n",
       "        text-align: right;\n",
       "    }\n",
       "</style>\n",
       "<table border=\"1\" class=\"dataframe\">\n",
       "  <thead>\n",
       "    <tr style=\"text-align: right;\">\n",
       "      <th></th>\n",
       "      <th>id_zone</th>\n",
       "      <th>id_quartier</th>\n",
       "      <th>nom_quartier</th>\n",
       "      <th>piece</th>\n",
       "      <th>epoque</th>\n",
       "      <th>meuble_txt</th>\n",
       "      <th>ref</th>\n",
       "      <th>max</th>\n",
       "      <th>min</th>\n",
       "      <th>annee</th>\n",
       "      <th>ville</th>\n",
       "      <th>code_grand_quartier</th>\n",
       "      <th>lat</th>\n",
       "      <th>lon</th>\n",
       "    </tr>\n",
       "  </thead>\n",
       "  <tbody>\n",
       "    <tr>\n",
       "      <th>0</th>\n",
       "      <td>11</td>\n",
       "      <td>77</td>\n",
       "      <td>Belleville</td>\n",
       "      <td>4</td>\n",
       "      <td>Avant 1946</td>\n",
       "      <td>non meublé</td>\n",
       "      <td>21.4</td>\n",
       "      <td>25.68</td>\n",
       "      <td>14.98</td>\n",
       "      <td>2020</td>\n",
       "      <td>PARIS</td>\n",
       "      <td>7512077</td>\n",
       "      <td>48.871531</td>\n",
       "      <td>2.387549</td>\n",
       "    </tr>\n",
       "    <tr>\n",
       "      <th>1</th>\n",
       "      <td>13</td>\n",
       "      <td>75</td>\n",
       "      <td>Amérique</td>\n",
       "      <td>3</td>\n",
       "      <td>1971-1990</td>\n",
       "      <td>non meublé</td>\n",
       "      <td>16.7</td>\n",
       "      <td>20.04</td>\n",
       "      <td>11.69</td>\n",
       "      <td>2020</td>\n",
       "      <td>PARIS</td>\n",
       "      <td>7511975</td>\n",
       "      <td>48.881638</td>\n",
       "      <td>2.395440</td>\n",
       "    </tr>\n",
       "  </tbody>\n",
       "</table>\n",
       "</div>"
      ],
      "text/plain": [
       "   id_zone  id_quartier nom_quartier  piece      epoque  meuble_txt   ref  \\\n",
       "0       11           77   Belleville      4  Avant 1946  non meublé  21.4   \n",
       "1       13           75     Amérique      3   1971-1990  non meublé  16.7   \n",
       "\n",
       "     max    min  annee  ville  code_grand_quartier        lat       lon  \n",
       "0  25.68  14.98   2020  PARIS              7512077  48.871531  2.387549  \n",
       "1  20.04  11.69   2020  PARIS              7511975  48.881638  2.395440  "
      ]
     },
     "execution_count": 32,
     "metadata": {},
     "output_type": "execute_result"
    }
   ],
   "source": [
    "df_logement = df_processing(df)\n",
    "df_logement.head(2)"
   ]
  },
  {
   "cell_type": "markdown",
   "metadata": {},
   "source": [
    "## Explorating Data Analysis (EDA)"
   ]
  },
  {
   "cell_type": "code",
   "execution_count": 5,
   "metadata": {},
   "outputs": [
    {
     "name": "stdout",
     "output_type": "stream",
     "text": [
      "<class 'pandas.core.frame.DataFrame'>\n",
      "RangeIndex: 2560 entries, 0 to 2559\n",
      "Data columns (total 14 columns):\n",
      " #   Column               Non-Null Count  Dtype  \n",
      "---  ------               --------------  -----  \n",
      " 0   id_zone              2560 non-null   int64  \n",
      " 1   id_quartier          2560 non-null   int64  \n",
      " 2   nom_quartier         2560 non-null   object \n",
      " 3   piece                2560 non-null   int64  \n",
      " 4   epoque               2560 non-null   object \n",
      " 5   meuble_txt           2560 non-null   object \n",
      " 6   ref                  2560 non-null   float64\n",
      " 7   max                  2560 non-null   float64\n",
      " 8   min                  2560 non-null   float64\n",
      " 9   annee                2560 non-null   int64  \n",
      " 10  ville                2560 non-null   object \n",
      " 11  code_grand_quartier  2560 non-null   int64  \n",
      " 12  lat                  2560 non-null   float64\n",
      " 13  lon                  2560 non-null   float64\n",
      "dtypes: float64(5), int64(5), object(4)\n",
      "memory usage: 280.1+ KB\n"
     ]
    }
   ],
   "source": [
    "df_logement.info()"
   ]
  },
  {
   "cell_type": "code",
   "execution_count": 6,
   "metadata": {},
   "outputs": [
    {
     "data": {
      "text/html": [
       "<div>\n",
       "<style scoped>\n",
       "    .dataframe tbody tr th:only-of-type {\n",
       "        vertical-align: middle;\n",
       "    }\n",
       "\n",
       "    .dataframe tbody tr th {\n",
       "        vertical-align: top;\n",
       "    }\n",
       "\n",
       "    .dataframe thead th {\n",
       "        text-align: right;\n",
       "    }\n",
       "</style>\n",
       "<table border=\"1\" class=\"dataframe\">\n",
       "  <thead>\n",
       "    <tr style=\"text-align: right;\">\n",
       "      <th></th>\n",
       "      <th>count</th>\n",
       "      <th>mean</th>\n",
       "      <th>std</th>\n",
       "      <th>min</th>\n",
       "      <th>25%</th>\n",
       "      <th>50%</th>\n",
       "      <th>75%</th>\n",
       "      <th>max</th>\n",
       "    </tr>\n",
       "  </thead>\n",
       "  <tbody>\n",
       "    <tr>\n",
       "      <th>id_zone</th>\n",
       "      <td>2560.000</td>\n",
       "      <td>6.662</td>\n",
       "      <td>4.226</td>\n",
       "      <td>1.000</td>\n",
       "      <td>3.000</td>\n",
       "      <td>5.000</td>\n",
       "      <td>11.000</td>\n",
       "      <td>14.000</td>\n",
       "    </tr>\n",
       "    <tr>\n",
       "      <th>id_quartier</th>\n",
       "      <td>2560.000</td>\n",
       "      <td>40.500</td>\n",
       "      <td>23.097</td>\n",
       "      <td>1.000</td>\n",
       "      <td>20.750</td>\n",
       "      <td>40.500</td>\n",
       "      <td>60.250</td>\n",
       "      <td>80.000</td>\n",
       "    </tr>\n",
       "    <tr>\n",
       "      <th>piece</th>\n",
       "      <td>2560.000</td>\n",
       "      <td>2.500</td>\n",
       "      <td>1.118</td>\n",
       "      <td>1.000</td>\n",
       "      <td>1.750</td>\n",
       "      <td>2.500</td>\n",
       "      <td>3.250</td>\n",
       "      <td>4.000</td>\n",
       "    </tr>\n",
       "    <tr>\n",
       "      <th>ref</th>\n",
       "      <td>2560.000</td>\n",
       "      <td>25.727</td>\n",
       "      <td>4.182</td>\n",
       "      <td>14.600</td>\n",
       "      <td>22.900</td>\n",
       "      <td>25.300</td>\n",
       "      <td>28.300</td>\n",
       "      <td>39.600</td>\n",
       "    </tr>\n",
       "    <tr>\n",
       "      <th>max</th>\n",
       "      <td>2560.000</td>\n",
       "      <td>30.873</td>\n",
       "      <td>5.018</td>\n",
       "      <td>17.520</td>\n",
       "      <td>27.480</td>\n",
       "      <td>30.360</td>\n",
       "      <td>33.960</td>\n",
       "      <td>47.520</td>\n",
       "    </tr>\n",
       "    <tr>\n",
       "      <th>min</th>\n",
       "      <td>2560.000</td>\n",
       "      <td>18.009</td>\n",
       "      <td>2.927</td>\n",
       "      <td>10.220</td>\n",
       "      <td>16.030</td>\n",
       "      <td>17.710</td>\n",
       "      <td>19.810</td>\n",
       "      <td>27.720</td>\n",
       "    </tr>\n",
       "    <tr>\n",
       "      <th>annee</th>\n",
       "      <td>2560.000</td>\n",
       "      <td>2020.000</td>\n",
       "      <td>0.000</td>\n",
       "      <td>2020.000</td>\n",
       "      <td>2020.000</td>\n",
       "      <td>2020.000</td>\n",
       "      <td>2020.000</td>\n",
       "      <td>2020.000</td>\n",
       "    </tr>\n",
       "    <tr>\n",
       "      <th>code_grand_quartier</th>\n",
       "      <td>2560.000</td>\n",
       "      <td>7511090.500</td>\n",
       "      <td>599.811</td>\n",
       "      <td>7510101.000</td>\n",
       "      <td>7510595.750</td>\n",
       "      <td>7511090.500</td>\n",
       "      <td>7511585.250</td>\n",
       "      <td>7512080.000</td>\n",
       "    </tr>\n",
       "    <tr>\n",
       "      <th>lat</th>\n",
       "      <td>2560.000</td>\n",
       "      <td>48.861</td>\n",
       "      <td>0.018</td>\n",
       "      <td>48.823</td>\n",
       "      <td>48.849</td>\n",
       "      <td>48.862</td>\n",
       "      <td>48.874</td>\n",
       "      <td>48.896</td>\n",
       "    </tr>\n",
       "    <tr>\n",
       "      <th>lon</th>\n",
       "      <td>2560.000</td>\n",
       "      <td>2.344</td>\n",
       "      <td>0.035</td>\n",
       "      <td>2.252</td>\n",
       "      <td>2.324</td>\n",
       "      <td>2.345</td>\n",
       "      <td>2.364</td>\n",
       "      <td>2.433</td>\n",
       "    </tr>\n",
       "  </tbody>\n",
       "</table>\n",
       "</div>"
      ],
      "text/plain": [
       "                        count         mean      std          min          25%  \\\n",
       "id_zone              2560.000        6.662    4.226        1.000        3.000   \n",
       "id_quartier          2560.000       40.500   23.097        1.000       20.750   \n",
       "piece                2560.000        2.500    1.118        1.000        1.750   \n",
       "ref                  2560.000       25.727    4.182       14.600       22.900   \n",
       "max                  2560.000       30.873    5.018       17.520       27.480   \n",
       "min                  2560.000       18.009    2.927       10.220       16.030   \n",
       "annee                2560.000     2020.000    0.000     2020.000     2020.000   \n",
       "code_grand_quartier  2560.000  7511090.500  599.811  7510101.000  7510595.750   \n",
       "lat                  2560.000       48.861    0.018       48.823       48.849   \n",
       "lon                  2560.000        2.344    0.035        2.252        2.324   \n",
       "\n",
       "                             50%          75%          max  \n",
       "id_zone                    5.000       11.000       14.000  \n",
       "id_quartier               40.500       60.250       80.000  \n",
       "piece                      2.500        3.250        4.000  \n",
       "ref                       25.300       28.300       39.600  \n",
       "max                       30.360       33.960       47.520  \n",
       "min                       17.710       19.810       27.720  \n",
       "annee                   2020.000     2020.000     2020.000  \n",
       "code_grand_quartier  7511090.500  7511585.250  7512080.000  \n",
       "lat                       48.862       48.874       48.896  \n",
       "lon                        2.345        2.364        2.433  "
      ]
     },
     "execution_count": 6,
     "metadata": {},
     "output_type": "execute_result"
    }
   ],
   "source": [
    "df_logement.describe().T.apply(lambda s: s.apply('{0:.3f}'.format))"
   ]
  },
  {
   "cell_type": "code",
   "execution_count": 7,
   "metadata": {},
   "outputs": [
    {
     "data": {
      "text/html": [
       "<iframe id='facets-iframe' width=\"100%\" height=\"500px\"></iframe>\n",
       "        <script>\n",
       "        facets_iframe = document.getElementById('facets-iframe');\n",
       "        facets_html = '<script src=\"https://cdnjs.cloudflare.com/ajax/libs/webcomponentsjs/1.3.3/webcomponents-lite.js\"><\\/script><link rel=\"import\" href=\"https://raw.githubusercontent.com/PAIR-code/facets/master/facets-dist/facets-jupyter.html\"><facets-overview proto-input=\"CtZsCg5saHNfc3RhdGlzdGljcxCAFBrABxqyBwq2AgiAFBgBIAEtAACAPzKkAhobCQAAAAAAAPA/EQAAAAAAAPA/IQAAAAAAAHBAGhsJAAAAAAAA8D8RAAAAAAAA8D8hAAAAAAAAcEAaGwkAAAAAAADwPxEAAAAAAADwPyEAAAAAAABwQBobCQAAAAAAAPA/EQAAAAAAAPA/IQAAAAAAAHBAGhsJAAAAAAAA8D8RAAAAAAAA8D8hAAAAAAAAcEAaGwkAAAAAAADwPxEAAAAAAADwPyEAAAAAAABwQBobCQAAAAAAAPA/EQAAAAAAAPA/IQAAAAAAAHBAGhsJAAAAAAAA8D8RAAAAAAAA8D8hAAAAAAAAcEAaGwkAAAAAAADwPxEAAAAAAADwPyEAAAAAAABwQBobCQAAAAAAAPA/EQAAAAAAAPA/IQAAAAAAAHBAIAFAgBQRZmZmZmamGkAZ7akAYifmEEApAAAAAAAA8D8xAAAAAAAAFEA5AAAAAAAALEBCogIaGwkAAAAAAADwPxFmZmZmZmYCQCGWQ4ts5/uCQBobCWZmZmZmZgJAEc3MzMzMzAxAIX9qvHSTGGBAGhsJzczMzMzMDEARmpmZmZmZE0AhK4cW2c73dUAaGwmamZmZmZkTQBHNzMzMzMwYQCErhxbZzvd1QBobCc3MzMzMzBhAEQAAAAAAAB5AIawcWmQ731dAGhsJAAAAAAAAHkARmpmZmZmZIUAhoBov3SQGQUAaGwmamZmZmZkhQBEzMzMzMzMkQCECK4cW2c5xQBobCTMzMzMzMyRAEc3MzMzMzCZAIVTjpZvEIHJAGhsJzczMzMzMJkARZ2ZmZmZmKUAh/tR46SYxUEAaGwlnZmZmZmYpQBEAAAAAAAAsQCErhxbZzvd1QEKkAhobCQAAAAAAAPA/EQAAAAAAAABAIQAAAAAAAHBAGhsJAAAAAAAAAEARAAAAAAAAAEAhAAAAAAAAcEAaGwkAAAAAAAAAQBEAAAAAAAAQQCEAAAAAAABwQBobCQAAAAAAABBAEQAAAAAAABBAIQAAAAAAAHBAGhsJAAAAAAAAEEARAAAAAAAAFEAhAAAAAAAAcEAaGwkAAAAAAAAUQBEAAAAAAAAgQCEAAAAAAABwQBobCQAAAAAAACBAEQAAAAAAACRAIQAAAAAAAHBAGhsJAAAAAAAAJEARAAAAAAAAJkAhAAAAAAAAcEAaGwkAAAAAAAAmQBEAAAAAAAAqQCEAAAAAAABwQBobCQAAAAAAACpAEQAAAAAAACxAIQAAAAAAAHBAIAFCCQoHaWRfem9uZRrEBxqyBwq2AgiAFBgBIAEtAACAPzKkAhobCQAAAAAAAPA/EQAAAAAAAPA/IQAAAAAAAHBAGhsJAAAAAAAA8D8RAAAAAAAA8D8hAAAAAAAAcEAaGwkAAAAAAADwPxEAAAAAAADwPyEAAAAAAABwQBobCQAAAAAAAPA/EQAAAAAAAPA/IQAAAAAAAHBAGhsJAAAAAAAA8D8RAAAAAAAA8D8hAAAAAAAAcEAaGwkAAAAAAADwPxEAAAAAAADwPyEAAAAAAABwQBobCQAAAAAAAPA/EQAAAAAAAPA/IQAAAAAAAHBAGhsJAAAAAAAA8D8RAAAAAAAA8D8hAAAAAAAAcEAaGwkAAAAAAADwPxEAAAAAAADwPyEAAAAAAABwQBobCQAAAAAAAPA/EQAAAAAAAPA/IQAAAAAAAHBAIAFAgBQRAAAAAABAREAZlmP915oXN0ApAAAAAAAA8D8xAAAAAACAREA5AAAAAAAAVEBCogIaGwkAAAAAAADwPxHNzMzMzMwhQCErhxbZzvdvQBobCc3MzMzMzCFAEc3MzMzMzDBAISuHFtnO929AGhsJzczMzMzMMEARNDMzMzOzOEAhK4cW2c73b0AaGwk0MzMzM7M4QBHNzMzMzExAQCErhxbZzvdvQBobCc3MzMzMTEBAEQAAAAAAQERAISuHFtnO929AGhsJAAAAAABAREARNDMzMzMzSEAhK4cW2c73b0AaGwk0MzMzMzNIQBFnZmZmZiZMQCEqhxbZzvdvQBobCWdmZmZmJkxAEc3MzMzMDFBAISuHFtnO929AGhsJzczMzMwMUEARZ2ZmZmYGUkAhLIcW2c73b0AaGwlnZmZmZgZSQBEAAAAAAABUQCG+nxov3SRwQEKkAhobCQAAAAAAAPA/EQAAAAAAACJAIQAAAAAAAHBAGhsJAAAAAAAAIkARAAAAAAAAMUAhAAAAAAAAcEAaGwkAAAAAAAAxQBEAAAAAAAA5QCEAAAAAAABwQBobCQAAAAAAADlAEQAAAAAAgEBAIQAAAAAAAHBAGhsJAAAAAACAQEARAAAAAACAREAhAAAAAAAAcEAaGwkAAAAAAIBEQBEAAAAAAIBIQCEAAAAAAABwQBobCQAAAAAAgEhAEQAAAAAAgExAIQAAAAAAAHBAGhsJAAAAAACATEARAAAAAABAUEAhAAAAAAAAcEAaGwkAAAAAAEBQQBEAAAAAAEBSQCEAAAAAAABwQBobCQAAAAAAQFJAEQAAAAAAAFRAIQAAAAAAAHBAIAFCDQoLaWRfcXVhcnRpZXIa8BgQAiLbGAq2AgiAFBgBIAEtAACAPzKkAhobCQAAAAAAAPA/EQAAAAAAAPA/IQAAAAAAAHBAGhsJAAAAAAAA8D8RAAAAAAAA8D8hAAAAAAAAcEAaGwkAAAAAAADwPxEAAAAAAADwPyEAAAAAAABwQBobCQAAAAAAAPA/EQAAAAAAAPA/IQAAAAAAAHBAGhsJAAAAAAAA8D8RAAAAAAAA8D8hAAAAAAAAcEAaGwkAAAAAAADwPxEAAAAAAADwPyEAAAAAAABwQBobCQAAAAAAAPA/EQAAAAAAAPA/IQAAAAAAAHBAGhsJAAAAAAAA8D8RAAAAAAAA8D8hAAAAAAAAcEAaGwkAAAAAAADwPxEAAAAAAADwPyEAAAAAAABwQBobCQAAAAAAAPA/EQAAAAAAAPA/IQAAAAAAAHBAIAFAgBQQUBoTEghWaXZpZW5uZRkAAAAAAABAQBoTEghWaWxsZXR0ZRkAAAAAAABAQBoXEgxWYWwtZGUtR3JhY2UZAAAAAAAAQEAaERIGVGVybmVzGQAAAAAAAEBAGiESFlN0LUdlcm1haW4tbCdBdXhlcnJvaXMZAAAAAAAAQEAaExIIU29yYm9ubmUZAAAAAAAAQEAaGBINU2FscMOqdHJpw6hyZRkAAAAAAABAQBocEhFTYWludGUtTWFyZ3Vlcml0ZRkAAAAAAABAQBoXEgxTYWludGUtQXZvaWUZAAAAAAAAQEAaIBIVU2FpbnQtVmluY2VudC1kZS1QYXVsGQAAAAAAAEBAGhcSDFNhaW50LVZpY3RvchkAAAAAAABAQBofEhRTYWludC1UaG9tYXMtZCdBcXVpbhkAAAAAAABAQBoWEgtTYWludC1NZXJyaRkAAAAAAABAQBoYEg1TYWludC1MYW1iZXJ0GQAAAAAAAEBAGhgSDVNhaW50LUdlcnZhaXMZAAAAAAAAQEAaIhIXU2FpbnQtR2VybWFpbi1kZXMtUHLDqXMZAAAAAAAAQEAaGBINU2FpbnQtR2VvcmdlcxkAAAAAAABAQBoYEg1TYWludC1GYXJnZWF1GQAAAAAAAEBAGhkSDlNhaW50LUFtYnJvaXNlGQAAAAAAAEBAGhMSCFJvcXVldHRlGQAAAAAAAEBAJWZmP0EqiRIKEyIIVml2aWVubmUpAAAAAAAAQEAKFwgBEAEiCFZpbGxldHRlKQAAAAAAAEBAChsIAhACIgxWYWwtZGUtR3JhY2UpAAAAAAAAQEAKFQgDEAMiBlRlcm5lcykAAAAAAABAQAolCAQQBCIWU3QtR2VybWFpbi1sJ0F1eGVycm9pcykAAAAAAABAQAoXCAUQBSIIU29yYm9ubmUpAAAAAAAAQEAKHAgGEAYiDVNhbHDDqnRyacOocmUpAAAAAAAAQEAKIAgHEAciEVNhaW50ZS1NYXJndWVyaXRlKQAAAAAAAEBAChsICBAIIgxTYWludGUtQXZvaWUpAAAAAAAAQEAKJAgJEAkiFVNhaW50LVZpbmNlbnQtZGUtUGF1bCkAAAAAAABAQAobCAoQCiIMU2FpbnQtVmljdG9yKQAAAAAAAEBACiMICxALIhRTYWludC1UaG9tYXMtZCdBcXVpbikAAAAAAABAQAoaCAwQDCILU2FpbnQtTWVycmkpAAAAAAAAQEAKHAgNEA0iDVNhaW50LUxhbWJlcnQpAAAAAAAAQEAKHAgOEA4iDVNhaW50LUdlcnZhaXMpAAAAAAAAQEAKJggPEA8iF1NhaW50LUdlcm1haW4tZGVzLVByw6lzKQAAAAAAAEBAChwIEBAQIg1TYWludC1HZW9yZ2VzKQAAAAAAAEBAChwIERARIg1TYWludC1GYXJnZWF1KQAAAAAAAEBACh0IEhASIg5TYWludC1BbWJyb2lzZSkAAAAAAABAQAoXCBMQEyIIUm9xdWV0dGUpAAAAAAAAQEAKGwgUEBQiDFJvY2hlY2hvdWFydCkAAAAAAABAQAocCBUQFSINUXVpbnplLVZpbmd0cykAAAAAAABAQAodCBYQFiIOUMOocmUtTGFjaGFpc2UpAAAAAAAAQEAKIQgXEBciElBvcnRlLVNhaW50LU1hcnRpbikAAAAAAABAQAogCBgQGCIRUG9ydGUtU2FpbnQtRGVuaXMpAAAAAAAAQEAKHQgZEBkiDlBvcnRlLURhdXBoaW5lKQAAAAAAAEBACh4IGhAaIg9Qb250LWRlLUZsYW5kcmUpAAAAAAAAQEAKGAgbEBsiCVBsYWlzYW5jZSkAAAAAAABAQAohCBwQHCISUGxhaW5lIGRlIE1vbmNlYXV4KQAAAAAAAEBACh0IHRAdIg5QbGFjZS1WZW5kw7RtZSkAAAAAAABAQAoVCB4QHiIGUGljcHVzKQAAAAAAAEBACh4IHxAfIg9QZXRpdC1Nb250cm91Z2UpAAAAAAAAQEAKIQggECAiElBhcmMtZGUtTW9udHNvdXJpcykAAAAAAABAQAobCCEQISIMUGFsYWlzLVJveWFsKQAAAAAAAEBAChQIIhAiIgVPZGVvbikAAAAAAABAQAokCCMQIyIVTm90cmUtRGFtZS1kZXMtQ2hhbXBzKQAAAAAAAEBAChkIJBAkIgpOb3RyZS1EYW1lKQAAAAAAAEBAChUIJRAlIgZOZWNrZXIpAAAAAAAAQEAKFQgmECYiBk11ZXR0ZSkAAAAAAABAQAobCCcQJyIMTW9udHBhcm5hc3NlKQAAAAAAAEBAChYIKBAoIgdNb25uYWllKQAAAAAAAEBACh0IKRApIg5NYWlzb24tQmxhbmNoZSkAAAAAAABAQAoTCCoQKiIETWFpbCkAAAAAAABAQAoYCCsQKyIJTWFkZWxlaW5lKQAAAAAAAEBAChoILBAsIgtMYSBDaGFwZWxsZSkAAAAAAABAQAoaCC0QLSILSmF2ZWwgMTVBcnQpAAAAAAAAQEAKIQguEC4iEkphcmRpbi1kZXMtUGxhbnRlcykAAAAAAABAQAoYCC8QLyIJSW52YWxpZGVzKQAAAAAAAEBACiMIMBAwIhRIw7RwaXRhbC1TYWludC1Mb3VpcykAAAAAAABAQAoVCDEQMSIGSGFsbGVzKQAAAAAAAEBAChsIMhAyIgxHcm9zLUNhaWxsb3UpAAAAAAAAQEAKFwgzEDMiCEdyZW5lbGxlKQAAAAAAAEBACiEINBA0IhJHcmFuZGVzLUNhcnJpw6hyZXMpAAAAAAAAQEAKGgg1EDUiC0dvdXR0ZS1kJ09yKQAAAAAAAEBAChMINhA2IgRHYXJlKQAAAAAAAEBAChYINxA3IgdHYWlsbG9uKQAAAAAAAEBACh8IOBA4IhBGb2xpZS1Nw6lyaWNvdXJ0KQAAAAAAAEBACiAIORA5IhFGYXVib3VyZy1kdS1Sb3VsZSkAAAAAAABAQAoiCDoQOiITRmF1Ym91cmctTW9udG1hcnRyZSkAAAAAAABAQAoVCDsQOyIGRXVyb3BlKQAAAAAAAEBAChgIPBA8IglFcGluZXR0ZXMpAAAAAAAAQEAKHQg9ED0iDkVuZmFudHMtUm91Z2VzKQAAAAAAAEBACh4IPhA+Ig9FY29sZS1NaWxpdGFpcmUpAAAAAAAAQEAKGgg/ED8iC0Nyb3VsZWJhcmJlKQAAAAAAAEBAChUIQBBAIgZDb21iYXQpAAAAAAAAQEAKGwhBEEEiDENsaWduYW5jb3VydCkAAAAAAABAQAogCEIQQiIRQ2hhdXNzw6llLWQnQW50aW4pAAAAAAAAQEAKFwhDEEMiCENoYXJvbm5lKQAAAAAAAEBACh4IRBBEIg9DaGFtcHMtRWx5c8OpZXMpAAAAAAAAQEAKFwhFEEUiCENoYWlsbG90KQAAAAAAAEBACh0IRhBGIg5Cb25uZS1Ob3V2ZWxsZSkAAAAAAABAQAoUCEcQRyIFQmVyY3kpAAAAAAAAQEAKGQhIEEgiCkJlbGxldmlsbGUpAAAAAAAAQEAKFghJEEkiB0JlbC1BaXIpAAAAAAAAQEAKGghKEEoiC0JhdGlnbm9sbGVzKQAAAAAAAEBAChYISxBLIgdBdXRldWlsKQAAAAAAAEBACh4ITBBMIg9BcnRzLWV0LU1ldGllcnMpAAAAAAAAQEAKFghNEE0iB0Fyc2VuYWwpAAAAAAAAQEAKFwhOEE4iCEFyY2hpdmVzKQAAAAAAAEBAChgITxBPIglBbcOpcmlxdWUpAAAAAAAAQEBCDgoMbm9tX3F1YXJ0aWVyGr4HGrIHCrYCCIAUGAEgAS0AAIA/MqQCGhsJAAAAAAAA8D8RAAAAAAAA8D8hAAAAAAAAcEAaGwkAAAAAAADwPxEAAAAAAADwPyEAAAAAAABwQBobCQAAAAAAAPA/EQAAAAAAAPA/IQAAAAAAAHBAGhsJAAAAAAAA8D8RAAAAAAAA8D8hAAAAAAAAcEAaGwkAAAAAAADwPxEAAAAAAADwPyEAAAAAAABwQBobCQAAAAAAAPA/EQAAAAAAAPA/IQAAAAAAAHBAGhsJAAAAAAAA8D8RAAAAAAAA8D8hAAAAAAAAcEAaGwkAAAAAAADwPxEAAAAAAADwPyEAAAAAAABwQBobCQAAAAAAAPA/EQAAAAAAAPA/IQAAAAAAAHBAGhsJAAAAAAAA8D8RAAAAAAAA8D8hAAAAAAAAcEAgAUCAFBEAAAAAAAAEQBmo9Jebd+PxPykAAAAAAADwPzEAAAAAAAAIQDkAAAAAAAAQQEKiAhobCQAAAAAAAPA/Ec3MzMzMzPQ/IYxs5/up8YNAGhsJzczMzMzM9D8RmpmZmZmZ+T8h+35qvHST6D8aGwmamZmZmZn5PxFmZmZmZmb+PyH2fmq8dJPoPxobCWZmZmZmZv4/EZqZmZmZmQFAIYxs5/up8YNAGhsJmpmZmZmZAUARAAAAAAAABEAh9n5qvHST6D8aGwkAAAAAAAAEQBFmZmZmZmYGQCH2fmq8dJPoPxobCWZmZmZmZgZAEc3MzMzMzAhAIYts5/up8YNAGhsJzczMzMzMCEARMzMzMzMzC0Ah9n5qvHST6D8aGwkzMzMzMzMLQBGZmZmZmZkNQCH2fmq8dJPoPxobCZmZmZmZmQ1AEQAAAAAAABBAIaEaL90kBoRAQqQCGhsJAAAAAAAA8D8RAAAAAAAA8D8hAAAAAAAAcEAaGwkAAAAAAADwPxEAAAAAAADwPyEAAAAAAABwQBobCQAAAAAAAPA/EQAAAAAAAABAIQAAAAAAAHBAGhsJAAAAAAAAAEARAAAAAAAAAEAhAAAAAAAAcEAaGwkAAAAAAAAAQBEAAAAAAAAIQCEAAAAAAABwQBobCQAAAAAAAAhAEQAAAAAAAAhAIQAAAAAAAHBAGhsJAAAAAAAACEARAAAAAAAACEAhAAAAAAAAcEAaGwkAAAAAAAAIQBEAAAAAAAAQQCEAAAAAAABwQBobCQAAAAAAABBAEQAAAAAAABBAIQAAAAAAAHBAGhsJAAAAAAAAEEARAAAAAAAAEEAhAAAAAAAAcEAgAUIHCgVwaWVjZRqRBBACIoIECrYCCIAUGAEgAS0AAIA/MqQCGhsJAAAAAAAA8D8RAAAAAAAA8D8hAAAAAAAAcEAaGwkAAAAAAADwPxEAAAAAAADwPyEAAAAAAABwQBobCQAAAAAAAPA/EQAAAAAAAPA/IQAAAAAAAHBAGhsJAAAAAAAA8D8RAAAAAAAA8D8hAAAAAAAAcEAaGwkAAAAAAADwPxEAAAAAAADwPyEAAAAAAABwQBobCQAAAAAAAPA/EQAAAAAAAPA/IQAAAAAAAHBAGhsJAAAAAAAA8D8RAAAAAAAA8D8hAAAAAAAAcEAaGwkAAAAAAADwPxEAAAAAAADwPyEAAAAAAABwQBobCQAAAAAAAPA/EQAAAAAAAPA/IQAAAAAAAHBAGhsJAAAAAAAA8D8RAAAAAAAA8D8hAAAAAAAAcEAgAUCAFBAEGhUSCkF2YW50IDE5NDYZAAAAAAAAhEAaFRIKQXByZXMgMTk5MBkAAAAAAACEQBoUEgkxOTcxLTE5OTAZAAAAAAAAhEAaFBIJMTk0Ni0xOTcwGQAAAAAAAIRAJQAAGEEqZgoVIgpBdmFudCAxOTQ2KQAAAAAAAIRAChkIARABIgpBcHJlcyAxOTkwKQAAAAAAAIRAChgIAhACIgkxOTcxLTE5OTApAAAAAAAAhEAKGAgDEAMiCTE5NDYtMTk3MCkAAAAAAACEQEIICgZlcG9xdWUasQMQAiKeAwq2AgiAFBgBIAEtAACAPzKkAhobCQAAAAAAAPA/EQAAAAAAAPA/IQAAAAAAAHBAGhsJAAAAAAAA8D8RAAAAAAAA8D8hAAAAAAAAcEAaGwkAAAAAAADwPxEAAAAAAADwPyEAAAAAAABwQBobCQAAAAAAAPA/EQAAAAAAAPA/IQAAAAAAAHBAGhsJAAAAAAAA8D8RAAAAAAAA8D8hAAAAAAAAcEAaGwkAAAAAAADwPxEAAAAAAADwPyEAAAAAAABwQBobCQAAAAAAAPA/EQAAAAAAAPA/IQAAAAAAAHBAGhsJAAAAAAAA8D8RAAAAAAAA8D8hAAAAAAAAcEAaGwkAAAAAAADwPxEAAAAAAADwPyEAAAAAAABwQBobCQAAAAAAAPA/EQAAAAAAAPA/IQAAAAAAAHBAIAFAgBQQAhoWEgtub24gbWV1YmzDqRkAAAAAAACUQBoSEgdtZXVibMOpGQAAAAAAAJRAJQAAEEEqMAoWIgtub24gbWV1YmzDqSkAAAAAAACUQAoWCAEQASIHbWV1YmzDqSkAAAAAAACUQEIMCgptZXVibGVfdHh0Gr4HEAEasgcKtgIIgBQYASABLQAAgD8ypAIaGwkAAAAAAADwPxEAAAAAAADwPyEAAAAAAABwQBobCQAAAAAAAPA/EQAAAAAAAPA/IQAAAAAAAHBAGhsJAAAAAAAA8D8RAAAAAAAA8D8hAAAAAAAAcEAaGwkAAAAAAADwPxEAAAAAAADwPyEAAAAAAABwQBobCQAAAAAAAPA/EQAAAAAAAPA/IQAAAAAAAHBAGhsJAAAAAAAA8D8RAAAAAAAA8D8hAAAAAAAAcEAaGwkAAAAAAADwPxEAAAAAAADwPyEAAAAAAABwQBobCQAAAAAAAPA/EQAAAAAAAPA/IQAAAAAAAHBAGhsJAAAAAAAA8D8RAAAAAAAA8D8hAAAAAAAAcEAaGwkAAAAAAADwPxEAAAAAAADwPyEAAAAAAABwQCABQIAUEVK4HoUrujlAGeBoLyN7uRBAKTMzMzMzMy1AMc3MzMzMTDlAOc3MzMzMzENAQqICGhsJMzMzMzMzLUARmpmZmZkZMUAhQ2Dl0CLbSUAaGwmamZmZmRkxQBGamZmZmZkzQCG28/3UeOlWQBobCZqZmZmZmTNAEZqZmZmZGTZAIdejcD0K13NAGhsJmpmZmZkZNkARmpmZmZmZOEAh9Shcj8L1gkAaGwmamZmZmZk4QBGamZmZmRk7QCHhehSuR+GCQBobCZqZmZmZGTtAEZqZmZmZmT1AIbkehetRuHpAGhsJmpmZmZmZPUARzczMzMwMQEAhw/UoXI/CcUAaGwnNzMzMzAxAQBHNzMzMzExBQCGkcD0K16NYQBobCc3MzMzMTEFAEc3MzMzMjEJAIQjxdtW9Q1JAGhsJzczMzMyMQkARzczMzMzMQ0AhxqevLQ4WFEBCpAIaGwkzMzMzMzMtQBEzMzMzM7M0QCEAAAAAAABwQBobCTMzMzMzszRAEc3MzMzMTDZAIQAAAAAAAHBAGhsJzczMzMxMNkARZmZmZmZmN0AhAAAAAAAAcEAaGwlmZmZmZmY3QBEAAAAAAIA4QCEAAAAAAABwQBobCQAAAAAAgDhAEc3MzMzMTDlAIQAAAAAAAHBAGhsJzczMzMxMOUARAAAAAACAOkAhAAAAAAAAcEAaGwkAAAAAAIA6QBEzMzMzM7M7QCEAAAAAAABwQBobCTMzMzMzsztAEWZmZmZm5jxAIQAAAAAAAHBAGhsJZmZmZmbmPEARAAAAAACAP0AhAAAAAAAAcEAaGwkAAAAAAIA/QBHNzMzMzMxDQCEAAAAAAABwQCABQgUKA3JlZhq+BxABGrIHCrYCCIAUGAEgAS0AAIA/MqQCGhsJAAAAAAAA8D8RAAAAAAAA8D8hAAAAAAAAcEAaGwkAAAAAAADwPxEAAAAAAADwPyEAAAAAAABwQBobCQAAAAAAAPA/EQAAAAAAAPA/IQAAAAAAAHBAGhsJAAAAAAAA8D8RAAAAAAAA8D8hAAAAAAAAcEAaGwkAAAAAAADwPxEAAAAAAADwPyEAAAAAAABwQBobCQAAAAAAAPA/EQAAAAAAAPA/IQAAAAAAAHBAGhsJAAAAAAAA8D8RAAAAAAAA8D8hAAAAAAAAcEAaGwkAAAAAAADwPxEAAAAAAADwPyEAAAAAAABwQBobCQAAAAAAAPA/EQAAAAAAAPA/IQAAAAAAAHBAGhsJAAAAAAAA8D8RAAAAAAAA8D8hAAAAAAAAcEAgAUCAFBGWQ4tsZ98+QBn8sAX3xhEUQCmF61G4HoUxQDFcj8L1KFw+QDnD9Shcj8JHQEKiAhobCYXrUbgehTFAEYXrUbgehTRAIUJg5dAi20lAGhsJhetRuB6FNEARhetRuB6FN0Aht/P91HjpVkAaGwmF61G4HoU3QBGG61G4HoU6QCH3KFyPwvV0QBobCYbrUbgehTpAEYbrUbgehT1AIfcoXI/C9YJAGhsJhutRuB6FPUARw/UoXI9CQEAhUrgehetRgkAaGwnD9Shcj0JAQBHD9Shcj8JBQCG5HoXrUbh6QBobCcP1KFyPwkFAEcP1KFyPQkNAIcP1KFyPwnFAGhsJw/UoXI9CQ0ARw/UoXI/CREAhpXA9CtejWEAaGwnD9Shcj8JEQBHD9Shcj0JGQCEH8XbVvUNSQBobCcP1KFyPQkZAEcP1KFyPwkdAIcOnry0OFhRAQqQCGhsJhetRuB6FMUAR16NwPQrXOEAhAAAAAAAAcEAaGwnXo3A9Ctc4QBHD9Shcj8I6QCEAAAAAAABwQBobCcP1KFyPwjpAERSuR+F6FDxAIQAAAAAAAHBAGhsJFK5H4XoUPEARZmZmZmZmPUAhAAAAAAAAcEAaGwlmZmZmZmY9QBFcj8L1KFw+QCEAAAAAAABwQBobCVyPwvUoXD5AEc3MzMzMzD9AIQAAAAAAAHBAGhsJzczMzMzMP0ARH4XrUbieQEAhAAAAAAAAcEAaGwkfhetRuJ5AQBHXo3A9CldBQCEAAAAAAABwQBobCdejcD0KV0FAEWZmZmZm5kJAIQAAAAAAAHBAGhsJZmZmZmbmQkARw/UoXI/CR0AhAAAAAAAAcEAgAUIFCgNtYXgavgcQARqyBwq2AgiAFBgBIAEtAACAPzKkAhobCQAAAAAAAPA/EQAAAAAAAPA/IQAAAAAAAHBAGhsJAAAAAAAA8D8RAAAAAAAA8D8hAAAAAAAAcEAaGwkAAAAAAADwPxEAAAAAAADwPyEAAAAAAABwQBobCQAAAAAAAPA/EQAAAAAAAPA/IQAAAAAAAHBAGhsJAAAAAAAA8D8RAAAAAAAA8D8hAAAAAAAAcEAaGwkAAAAAAADwPxEAAAAAAADwPyEAAAAAAABwQBobCQAAAAAAAPA/EQAAAAAAAPA/IQAAAAAAAHBAGhsJAAAAAAAA8D8RAAAAAAAA8D8hAAAAAAAAcEAaGwkAAAAAAADwPxEAAAAAAADwPyEAAAAAAABwQBobCQAAAAAAAPA/EQAAAAAAAPA/IQAAAAAAAHBAIAFAgBQRbef7qVECMkAZFvnbyhJqB0ApcT0K16NwJEAx9ihcj8K1MUA5uB6F61G4O0BCogIaGwlxPQrXo3AkQBFxPQrXo/AnQCFCYOXQIttJQBobCXE9Ctej8CdAEXE9CtejcCtAIbfz/dR46VZAGhsJcT0K16NwK0ARcT0K16PwLkAh16NwPQrXc0AaGwlxPQrXo/AuQBG4HoXrUTgxQCH1KFyPwvWCQBobCbgehetRODFAEbgehetR+DJAIeF6FK5H4YJAGhsJuB6F61H4MkARuB6F61G4NEAhuR6F61G4ekAaGwm4HoXrUbg0QBG4HoXrUXg2QCHD9Shcj8JxQBobCbgehetReDZAEbgehetRODhAIaNwPQrXo1hAGhsJuB6F61E4OEARuB6F61H4OUAhCPF21b1DUkAaGwm4HoXrUfg5QBG4HoXrUbg7QCHHp68tDhYUQEKkAhobCXE9CtejcCRAEXsUrkfh+ixAIQAAAAAAAHBAGhsJexSuR+H6LEARuB6F61E4L0AhAAAAAAAAcEAaGwm4HoXrUTgvQBHhehSuR2EwQCEAAAAAAABwQBobCeF6FK5HYTBAEWZmZmZmJjFAIQAAAAAAAHBAGhsJZmZmZmYmMUAR9ihcj8K1MUAhAAAAAAAAcEAaGwn2KFyPwrUxQBHNzMzMzIwyQCEAAAAAAABwQBobCc3MzMzMjDJAEaRwPQrXYzNAIQAAAAAAAHBAGhsJpHA9CtdjM0ARexSuR+E6NEAhAAAAAAAAcEAaGwl7FK5H4To0QBHNzMzMzAw2QCEAAAAAAABwQBobCc3MzMzMDDZAEbgehetRuDtAIQAAAAAAAHBAIAFCBQoDbWluGq8FGqMFCrYCCIAUGAEgAS0AAIA/MqQCGhsJAAAAAAAA8D8RAAAAAAAA8D8hAAAAAAAAcEAaGwkAAAAAAADwPxEAAAAAAADwPyEAAAAAAABwQBobCQAAAAAAAPA/EQAAAAAAAPA/IQAAAAAAAHBAGhsJAAAAAAAA8D8RAAAAAAAA8D8hAAAAAAAAcEAaGwkAAAAAAADwPxEAAAAAAADwPyEAAAAAAABwQBobCQAAAAAAAPA/EQAAAAAAAPA/IQAAAAAAAHBAGhsJAAAAAAAA8D8RAAAAAAAA8D8hAAAAAAAAcEAaGwkAAAAAAADwPxEAAAAAAADwPyEAAAAAAABwQBobCQAAAAAAAPA/EQAAAAAAAPA/IQAAAAAAAHBAGhsJAAAAAAAA8D8RAAAAAAAA8D8hAAAAAAAAcEAgAUCAFBEAAAAAAJCfQCkAAAAAAJCfQDEAAAAAAJCfQDkAAAAAAJCfQEIdGhsJAAAAAACQn0ARAAAAAACQn0AhAAAAAAAApEBCpAIaGwkAAAAAAJCfQBEAAAAAAJCfQCEAAAAAAABwQBobCQAAAAAAkJ9AEQAAAAAAkJ9AIQAAAAAAAHBAGhsJAAAAAACQn0ARAAAAAACQn0AhAAAAAAAAcEAaGwkAAAAAAJCfQBEAAAAAAJCfQCEAAAAAAABwQBobCQAAAAAAkJ9AEQAAAAAAkJ9AIQAAAAAAAHBAGhsJAAAAAACQn0ARAAAAAACQn0AhAAAAAAAAcEAaGwkAAAAAAJCfQBEAAAAAAJCfQCEAAAAAAABwQBobCQAAAAAAkJ9AEQAAAAAAkJ9AIQAAAAAAAHBAGhsJAAAAAACQn0ARAAAAAACQn0AhAAAAAAAAcEAaGwkAAAAAAJCfQBEAAAAAAJCfQCEAAAAAAABwQCABQgcKBWFubmVlGvQCEAIi5gIKtgIIgBQYASABLQAAgD8ypAIaGwkAAAAAAADwPxEAAAAAAADwPyEAAAAAAABwQBobCQAAAAAAAPA/EQAAAAAAAPA/IQAAAAAAAHBAGhsJAAAAAAAA8D8RAAAAAAAA8D8hAAAAAAAAcEAaGwkAAAAAAADwPxEAAAAAAADwPyEAAAAAAABwQBobCQAAAAAAAPA/EQAAAAAAAPA/IQAAAAAAAHBAGhsJAAAAAAAA8D8RAAAAAAAA8D8hAAAAAAAAcEAaGwkAAAAAAADwPxEAAAAAAADwPyEAAAAAAABwQBobCQAAAAAAAPA/EQAAAAAAAPA/IQAAAAAAAHBAGhsJAAAAAAAA8D8RAAAAAAAA8D8hAAAAAAAAcEAaGwkAAAAAAADwPxEAAAAAAADwPyEAAAAAAABwQCABQIAUEAEaEBIFUEFSSVMZAAAAAAAApEAlAACgQCoSChAiBVBBUklTKQAAAAAAAKRAQgcKBXZpbGxlGswHGrIHCrYCCIAUGAEgAS0AAIA/MqQCGhsJAAAAAAAA8D8RAAAAAAAA8D8hAAAAAAAAcEAaGwkAAAAAAADwPxEAAAAAAADwPyEAAAAAAABwQBobCQAAAAAAAPA/EQAAAAAAAPA/IQAAAAAAAHBAGhsJAAAAAAAA8D8RAAAAAAAA8D8hAAAAAAAAcEAaGwkAAAAAAADwPxEAAAAAAADwPyEAAAAAAABwQBobCQAAAAAAAPA/EQAAAAAAAPA/IQAAAAAAAHBAGhsJAAAAAAAA8D8RAAAAAAAA8D8hAAAAAAAAcEAaGwkAAAAAAADwPxEAAAAAAADwPyEAAAAAAABwQBobCQAAAAAAAPA/EQAAAAAAAPA/IQAAAAAAAHBAGhsJAAAAAAAA8D8RAAAAAAAA8D8hAAAAAAAAcEAgAUCAFBEAAACgDKdcQRn3Mqbrjb2CQCkAAABAFaZcQTEAAABAGadcQTkAAAAABKhcQUKiAhobCQAAAEAVplxBEZqZmblGplxBIXeIFtnO929AGhsJmpmZuUamXEERMzMzM3imXEEhOYUW2c73b0AaGwkzMzMzeKZcQRHNzMysqaZcQSF3iBbZzvdvQBobCc3MzKypplxBEWZmZibbplxBITmFFtnO929AGhsJZmZmJtumXEERAAAAoAynXEEhd4gW2c73b0AaGwkAAACgDKdcQRGamZkZPqdcQSF3iBbZzvdvQBobCZqZmRk+p1xBETMzM5Nvp1xBITmFFtnO929AGhsJMzMzk2+nXEERzczMDKGnXEEhd4gW2c73b0AaGwnNzMwMoadcQRFmZmaG0qdcQSE5hRbZzvdvQBobCWZmZobSp1xBEQAAAAAEqFxBIWWgGi/dJHBAQqQCGhsJAAAAQBWmXEERAAAAQEmmXEEhAAAAAAAAcEAaGwkAAABASaZcQREAAABAfaZcQSEAAAAAAABwQBobCQAAAEB9plxBEQAAAECxplxBIQAAAAAAAHBAGhsJAAAAQLGmXEERAAAAQOWmXEEhAAAAAAAAcEAaGwkAAABA5aZcQREAAABAGadcQSEAAAAAAABwQBobCQAAAEAZp1xBEQAAAEBNp1xBIQAAAAAAAHBAGhsJAAAAQE2nXEERAAAAQIGnXEEhAAAAAAAAcEAaGwkAAABAgadcQREAAABAtadcQSEAAAAAAABwQBobCQAAAEC1p1xBEQAAAEDpp1xBIQAAAAAAAHBAGhsJAAAAQOmnXEERAAAAAASoXEEhAAAAAAAAcEAgAUIVChNjb2RlX2dyYW5kX3F1YXJ0aWVyGr4HEAEasgcKtgIIgBQYASABLQAAgD8ypAIaGwkAAAAAAADwPxEAAAAAAADwPyEAAAAAAABwQBobCQAAAAAAAPA/EQAAAAAAAPA/IQAAAAAAAHBAGhsJAAAAAAAA8D8RAAAAAAAA8D8hAAAAAAAAcEAaGwkAAAAAAADwPxEAAAAAAADwPyEAAAAAAABwQBobCQAAAAAAAPA/EQAAAAAAAPA/IQAAAAAAAHBAGhsJAAAAAAAA8D8RAAAAAAAA8D8hAAAAAAAAcEAaGwkAAAAAAADwPxEAAAAAAADwPyEAAAAAAABwQBobCQAAAAAAAPA/EQAAAAAAAPA/IQAAAAAAAHBAGhsJAAAAAAAA8D8RAAAAAAAA8D8hAAAAAAAAcEAaGwkAAAAAAADwPxEAAAAAAADwPyEAAAAAAABwQCABQIAUETi1VfQ0bkhAGVqfyh3RwJI/KXL0fkBcaUhAMfcZm0ZobkhAOVLTVZKhckhAQqICGhsJcvR+QFxpSEARiNd6lUlqSEAho2LkFFuuZ0AaGwmI13qVSWpIQBGfunbqNmtIQCHCKUC6/E1gQBobCZ+6duo2a0hAEbWdcj8kbEhAIVGwbrYE4WdAGhsJtZ1yPyRsSEARzIBulBFtSEAhIRrFmnzoc0AaGwnMgG6UEW1IQBHiY2rp/m1IQCHq6X3DjBh2QBobCeJjaun+bUhAEfhGZj7sbkhAITm8inLc73FAGhsJ+EZmPuxuSEARDypik9lvSEAheK5pmwknfkAaGwkPKmKT2W9IQBElDV7oxnBIQCGKSVnT6wNwQBobCSUNXujGcEhAETzwWT20cUhAIT0FZ6gOA2BAGhsJPPBZPbRxSEARUtNVkqFySEAhg03kUt7na0BCpAIaGwly9H5AXGlIQBFmUlEh6GpIQCEAAAAAAABwQBobCWZSUSHoakhAEbtUSb1XbEhAIQAAAAAAAHBAGhsJu1RJvVdsSEARFDE2vgBtSEAhAAAAAAAAcEAaGwkUMTa+AG1IQBEk6ERGtG1IQCEAAAAAAABwQBobCSToREa0bUhAEfcZm0ZobkhAIQAAAAAAAHBAGhsJ9xmbRmhuSEARGGlrxv5uSEAhAAAAAAAAcEAaGwkYaWvG/m5IQBG/SK+ghW9IQCEAAAAAAABwQBobCb9Ir6CFb0hAEUOGniRncEhAIQAAAAAAAHBAGhsJQ4aeJGdwSEAR9Cnp4J5xSEAhAAAAAAAAcEAaGwn0KengnnFIQBFS01WSoXJIQCEAAAAAAABwQCABQgUKA2xhdBq+BxABGrIHCrYCCIAUGAEgAS0AAIA/MqQCGhsJAAAAAAAA8D8RAAAAAAAA8D8hAAAAAAAAcEAaGwkAAAAAAADwPxEAAAAAAADwPyEAAAAAAABwQBobCQAAAAAAAPA/EQAAAAAAAPA/IQAAAAAAAHBAGhsJAAAAAAAA8D8RAAAAAAAA8D8hAAAAAAAAcEAaGwkAAAAAAADwPxEAAAAAAADwPyEAAAAAAABwQBobCQAAAAAAAPA/EQAAAAAAAPA/IQAAAAAAAHBAGhsJAAAAAAAA8D8RAAAAAAAA8D8hAAAAAAAAcEAaGwkAAAAAAADwPxEAAAAAAADwPyEAAAAAAABwQBobCQAAAAAAAPA/EQAAAAAAAPA/IQAAAAAAAHBAGhsJAAAAAAAA8D8RAAAAAAAA8D8hAAAAAAAAcEAgAUCAFBG4aWDDVsACQBnpr+Tt/eOhPynPXFvBqQQCQDEZ9CZVWsICQDlKZ0xCJncDQEKiAhobCc9cW8GpBAJAEaiqpjS2KQJAIajP+ZiX1U9AGhsJqKqmNLYpAkARgfjxp8JOAkAhB8Q8o3AAUEAaGwmB+PGnwk4CQBFaRj0bz3MCQCGpddrWTw1sQBobCVpGPRvPcwJAETOUiI7bmAJAIYJHFprT9XFAGhsJM5SIjtuYAkARDOLTAei9AkAhpyPjRwMBgEAaGwkM4tMB6L0CQBHmLx919OICQCH3badHI/+DQBobCeYvH3X04gJAEb99augACANAIVD66Ufz+3dAGhsJv31q6AAIA0ARmMu1Ww0tA0AhtLG7CePSb0AaGwmYy7VbDS0DQBFxGQHPGVIDQCEzgJ952iJQQBobCXEZAc8ZUgNAEUpnTEImdwNAIQTxJFEzaVBAQqQCGhsJz1xbwakEAkARjpaAno5pAkAhAAAAAAAAcEAaGwmOloCejmkCQBEZAxYuFIgCQCEAAAAAAABwQBobCRkDFi4UiAJAETk85UZ+pwJAIQAAAAAAAHBAGhsJOTzlRn6nAkARBf5GadKwAkAhAAAAAAAAcEAaGwkF/kZp0rACQBEZ9CZVWsICQCEAAAAAAABwQBobCRn0JlVawgJAERM2n7R70gJAIQAAAAAAAHBAGhsJEzaftHvSAkARFAY2BlzkAkAhAAAAAAAAcEAaGwkUBjYGXOQCQBHND2371PsCQCEAAAAAAABwQBobCc0PbfvU+wJAEZn2dWqzGQNAIQAAAAAAAHBAGhsJmfZ1arMZA0ARSmdMQiZ3A0AhAAAAAAAAcEAgAUIFCgNsb24=\"></facets-overview>';\n",
       "        facets_iframe.srcdoc = facets_html;\n",
       "         facets_iframe.id = \"\";\n",
       "         setTimeout(() => {\n",
       "           facets_iframe.setAttribute('height', facets_iframe.contentWindow.document.body.offsetHeight + 'px')\n",
       "         }, 1500)\n",
       "         </script>"
      ],
      "text/plain": [
       "<IPython.core.display.HTML object>"
      ]
     },
     "metadata": {},
     "output_type": "display_data"
    }
   ],
   "source": [
    "stats = tfdv.generate_statistics_from_dataframe(df_logement)\n",
    "tfdv.visualize_statistics(stats)"
   ]
  },
  {
   "cell_type": "markdown",
   "metadata": {},
   "source": [
    "## Create batch data for Training, Evaluation and Test"
   ]
  },
  {
   "cell_type": "code",
   "execution_count": 8,
   "metadata": {},
   "outputs": [
    {
     "name": "stdout",
     "output_type": "stream",
     "text": [
      "Training and Evaluation: 2304 examples\n",
      "Test: 256 examples\n",
      "\n",
      "Training: 1843 examples\n",
      "Evaluation: 461 examples\n"
     ]
    }
   ],
   "source": [
    "# 90% of the data for the training and evaluation,  10% for the test.\n",
    "df_train_eval, df_test = train_test_split(df_logement, test_size=0.1, random_state=21)\n",
    "# 80% of the 90% for training et 20% of the 90% for l'évaluation the evaluation\n",
    "df_train, df_eval = train_test_split(df_train_eval, test_size=0.2, shuffle=False)\n",
    "\n",
    "print(\"Training and Evaluation: {} examples\".format(len(df_train_eval)))\n",
    "print(\"Test: {} examples\".format(len(df_test)))\n",
    "print()\n",
    "print(\"Training: {} examples\".format(len(df_train)))\n",
    "print(\"Evaluation: {} examples\".format(len(df_eval)))"
   ]
  },
  {
   "cell_type": "markdown",
   "metadata": {},
   "source": [
    "## Load the dataset pandas in tensorflow"
   ]
  },
  {
   "cell_type": "code",
   "execution_count": 9,
   "metadata": {},
   "outputs": [],
   "source": [
    "def df_to_dataset(dataframe, label, shuffle=True, mini_batch_size=32):\n",
    "    \n",
    "    df = dataframe.copy()\n",
    "    labels = df.pop(label)\n",
    "    \n",
    "    dataset = tf.data.Dataset.from_tensor_slices((dict(df), labels)) \n",
    "    \n",
    "    if shuffle:\n",
    "        dataset = dataset.shuffle(buffer_size=len(df), seed=21)\n",
    "        \n",
    "    dataset = dataset.batch(mini_batch_size)\n",
    "    \n",
    "    return dataset \n",
    "\n",
    "def show_data(dataset):\n",
    "    \n",
    "    for batch, labels in dataset.take(1):\n",
    "        print('Labels:', labels.numpy())\n",
    "        print()\n",
    "        print('Features:\\n')\n",
    "        for key, value in batch.items():\n",
    "            print('{}: {}'.format(key, value.numpy()))"
   ]
  },
  {
   "cell_type": "code",
   "execution_count": 10,
   "metadata": {},
   "outputs": [],
   "source": [
    "train = df_to_dataset(df_train, 'ref', shuffle=False)\n",
    "eval_ = df_to_dataset(df_eval, 'ref', shuffle=False)\n",
    "test = df_to_dataset(df_test, 'ref', shuffle=False)"
   ]
  },
  {
   "cell_type": "code",
   "execution_count": 11,
   "metadata": {},
   "outputs": [],
   "source": [
    "#show_data(test)"
   ]
  },
  {
   "cell_type": "markdown",
   "metadata": {},
   "source": [
    "## Input Pre-Processing"
   ]
  },
  {
   "cell_type": "code",
   "execution_count": 12,
   "metadata": {},
   "outputs": [],
   "source": [
    "feature_columns = []\n",
    "\n",
    "# Numeric coloumn \n",
    "numeric_columns = ['id_quartier', 'piece', 'id_zone']\n",
    "\n",
    "for col_name in numeric_columns:\n",
    "    feature_columns.append(tf.feature_column.numeric_column(col_name))\n",
    "    \n",
    "# Categorical column\n",
    "categorical_column = ['epoque','meuble_txt','nom_quartier']\n",
    "for col_name in categorical_column:\n",
    "    catg_val_list = df_logement[col_name].unique().tolist()\n",
    "    feature = tf.feature_column.categorical_column_with_vocabulary_list(col_name, catg_val_list)\n",
    "    feature_columns.append(tf.feature_column.indicator_column(feature))\n",
    "    \n",
    "# Processing the geo point\n",
    "lat = tf.feature_column.numeric_column('lat')\n",
    "lon = tf.feature_column.numeric_column('lon')\n",
    "\n",
    "# Bucketized\n",
    "\n",
    "# The number of bucket corresponds to the number of districts in Paris\n",
    "nb_bucket = len(df_logement['nom_quartier'].unique().tolist())\n",
    "\n",
    "latbucket = list(np.linspace(start=48.82313, stop=48.89556, num=nb_bucket))\n",
    "lonbucket = list(np.linspace(start=2.25228, stop= 2.406172, num=nb_bucket))\n",
    "\n",
    "bucketized_lat = tf.feature_column.bucketized_column(lat, boundaries=latbucket)\n",
    "bucketized_lon = tf.feature_column.bucketized_column(lon, boundaries=lonbucket)\n",
    "\n",
    "# Crossed the geo points lat et lon\n",
    "crossed_geo_2D = tf.feature_column.crossed_column([bucketized_lat, bucketized_lon], hash_bucket_size=1000)\n",
    "feature_columns.append(tf.feature_column.indicator_column(crossed_geo_2D))\n"
   ]
  },
  {
   "cell_type": "code",
   "execution_count": 13,
   "metadata": {},
   "outputs": [],
   "source": [
    "# Create a vector of features\n",
    "feature_layer = tf.keras.layers.DenseFeatures(feature_columns)"
   ]
  },
  {
   "cell_type": "markdown",
   "metadata": {},
   "source": [
    "The Sequential model is a linear stack of layers and when building a model using the Sequential API, you configure each layer of the model in turn. Once all the layers have been added, you compile the model. "
   ]
  },
  {
   "cell_type": "code",
   "execution_count": null,
   "metadata": {},
   "outputs": [],
   "source": [
    "model = tf.keras.Sequential([\n",
    "    feature_layer,\n",
    "    layers.Dense(units=32, activation=\"relu\", name=\"h1\"),\n",
    "    layers.Dense(units=8, activation=\"relu\", name=\"h2\"),\n",
    "    layers.Dense(units=1, activation=\"linear\", name=\"output\")\n",
    "    ])"
   ]
  },
  {
   "cell_type": "code",
   "execution_count": null,
   "metadata": {},
   "outputs": [],
   "source": [
    "# Custum eval metric\n",
    "def rmse(y_true, y_pred):\n",
    "    return tf.sqrt(tf.reduce_mean(tf.square(y_pred - y_true)))"
   ]
  },
  {
   "cell_type": "markdown",
   "metadata": {},
   "source": [
    "Configure the learning process. This is done using the compile method. The compile method takes three arguments:\n",
    "\n",
    "* An optimizer. This could be the string identifier of an existing optimizer (such as `rmsprop` or `adagrad`), or an instance of the [Optimizer class](https://www.tensorflow.org/versions/r2.0/api_docs/python/tf/keras/optimizers).\n",
    "* A loss function. This is the objective that the model will try to minimize. It can be the string identifier of an existing loss function from the [Losses class](https://www.tensorflow.org/versions/r2.0/api_docs/python/tf/keras/losses) (such as categorical_crossentropy or mse), or it can be a custom objective function.\n",
    "* A list of metrics. For any machine learning problem you will want a set of metrics to evaluate your model. A metric could be the string identifier of an existing metric or a custom metric function.\n",
    "\n",
    "Used a custom metric `rmse` to our list of metrics which will return the root mean square error. "
   ]
  },
  {
   "cell_type": "code",
   "execution_count": 14,
   "metadata": {},
   "outputs": [
    {
     "name": "stdout",
     "output_type": "stream",
     "text": [
      "WARNING:tensorflow:From /Library/Frameworks/Python.framework/Versions/3.7/lib/python3.7/site-packages/tensorflow_core/python/feature_column/feature_column_v2.py:4267: IndicatorColumn._variable_shape (from tensorflow.python.feature_column.feature_column_v2) is deprecated and will be removed in a future version.\n",
      "Instructions for updating:\n",
      "The old _FeatureColumn APIs are being deprecated. Please use the new FeatureColumn APIs instead.\n",
      "WARNING:tensorflow:From /Library/Frameworks/Python.framework/Versions/3.7/lib/python3.7/site-packages/tensorflow_core/python/feature_column/feature_column_v2.py:4322: VocabularyListCategoricalColumn._num_buckets (from tensorflow.python.feature_column.feature_column_v2) is deprecated and will be removed in a future version.\n",
      "Instructions for updating:\n",
      "The old _FeatureColumn APIs are being deprecated. Please use the new FeatureColumn APIs instead.\n",
      "WARNING:tensorflow:From /Library/Frameworks/Python.framework/Versions/3.7/lib/python3.7/site-packages/tensorflow_core/python/feature_column/feature_column_v2.py:4322: CrossedColumn._num_buckets (from tensorflow.python.feature_column.feature_column_v2) is deprecated and will be removed in a future version.\n",
      "Instructions for updating:\n",
      "The old _FeatureColumn APIs are being deprecated. Please use the new FeatureColumn APIs instead.\n",
      "Train for 58 steps, validate for 15 steps\n",
      "Epoch 1/30\n",
      "58/58 [==============================] - 1s 18ms/step - loss: 519.6474 - rmse: 22.6661 - mse: 520.4788 - val_loss: 298.6620 - val_rmse: 17.2373 - val_mse: 299.7380\n",
      "Epoch 2/30\n",
      "58/58 [==============================] - 0s 4ms/step - loss: 209.0845 - rmse: 14.3212 - mse: 209.1226 - val_loss: 166.2814 - val_rmse: 12.8226 - val_mse: 165.7397\n",
      "Epoch 3/30\n",
      "58/58 [==============================] - 0s 4ms/step - loss: 164.3210 - rmse: 12.7629 - mse: 164.1492 - val_loss: 149.1411 - val_rmse: 12.1349 - val_mse: 148.6302\n",
      "Epoch 4/30\n",
      "58/58 [==============================] - 0s 5ms/step - loss: 146.8872 - rmse: 12.0629 - mse: 146.7442 - val_loss: 131.3593 - val_rmse: 11.3797 - val_mse: 130.7415\n",
      "Epoch 5/30\n",
      "58/58 [==============================] - 0s 4ms/step - loss: 126.8740 - rmse: 11.2048 - mse: 126.7650 - val_loss: 110.8553 - val_rmse: 10.4402 - val_mse: 110.1367\n",
      "Epoch 6/30\n",
      "58/58 [==============================] - 0s 3ms/step - loss: 104.1829 - rmse: 10.1444 - mse: 104.1103 - val_loss: 88.5619 - val_rmse: 9.3111 - val_mse: 87.7634\n",
      "Epoch 7/30\n",
      "58/58 [==============================] - 0s 4ms/step - loss: 80.7965 - rmse: 8.9233 - mse: 80.7511 - val_loss: 67.7300 - val_rmse: 8.1181 - val_mse: 66.9284\n",
      "Epoch 8/30\n",
      "58/58 [==============================] - 0s 4ms/step - loss: 60.7055 - rmse: 7.7289 - mse: 60.6710 - val_loss: 51.5663 - val_rmse: 7.0655 - val_mse: 50.8848\n",
      "Epoch 9/30\n",
      "58/58 [==============================] - 0s 3ms/step - loss: 46.4773 - rmse: 6.7643 - mse: 46.4474 - val_loss: 41.5168 - val_rmse: 6.3397 - val_mse: 40.9979\n",
      "Epoch 10/30\n",
      "58/58 [==============================] - 0s 4ms/step - loss: 37.8273 - rmse: 6.1066 - mse: 37.8036 - val_loss: 35.2469 - val_rmse: 5.8494 - val_mse: 34.8921\n",
      "Epoch 11/30\n",
      "58/58 [==============================] - 0s 3ms/step - loss: 32.1036 - rmse: 5.6285 - mse: 32.0862 - val_loss: 30.7469 - val_rmse: 5.4697 - val_mse: 30.5163\n",
      "Epoch 12/30\n",
      "58/58 [==============================] - 0s 5ms/step - loss: 27.7220 - rmse: 5.2310 - mse: 27.7103 - val_loss: 26.7341 - val_rmse: 5.1004 - val_mse: 26.5857\n",
      "Epoch 13/30\n",
      "58/58 [==============================] - 0s 3ms/step - loss: 23.7378 - rmse: 4.8398 - mse: 23.7273 - val_loss: 23.0541 - val_rmse: 4.7348 - val_mse: 22.9689\n",
      "Epoch 14/30\n",
      "58/58 [==============================] - 0s 4ms/step - loss: 20.1592 - rmse: 4.4598 - mse: 20.1485 - val_loss: 19.6547 - val_rmse: 4.3693 - val_mse: 19.6058\n",
      "Epoch 15/30\n",
      "58/58 [==============================] - 0s 3ms/step - loss: 16.9167 - rmse: 4.0846 - mse: 16.9073 - val_loss: 16.5348 - val_rmse: 4.0043 - val_mse: 16.5015\n",
      "Epoch 16/30\n",
      "58/58 [==============================] - 0s 4ms/step - loss: 13.9855 - rmse: 3.7129 - mse: 13.9770 - val_loss: 13.6990 - val_rmse: 3.6407 - val_mse: 13.6771\n",
      "Epoch 17/30\n",
      "58/58 [==============================] - 0s 3ms/step - loss: 11.3866 - rmse: 3.3489 - mse: 11.3786 - val_loss: 11.1776 - val_rmse: 3.2839 - val_mse: 11.1618\n",
      "Epoch 18/30\n",
      "58/58 [==============================] - 0s 3ms/step - loss: 9.1282 - rmse: 2.9969 - mse: 9.1209 - val_loss: 9.0189 - val_rmse: 2.9460 - val_mse: 9.0068\n",
      "Epoch 19/30\n",
      "58/58 [==============================] - 0s 3ms/step - loss: 7.2471 - rmse: 2.6689 - mse: 7.2404 - val_loss: 7.2019 - val_rmse: 2.6290 - val_mse: 7.1971\n",
      "Epoch 20/30\n",
      "58/58 [==============================] - 0s 3ms/step - loss: 5.7469 - rmse: 2.3757 - mse: 5.7413 - val_loss: 5.7716 - val_rmse: 2.3515 - val_mse: 5.7756\n",
      "Epoch 21/30\n",
      "58/58 [==============================] - 0s 3ms/step - loss: 4.6291 - rmse: 2.1318 - mse: 4.6244 - val_loss: 4.7169 - val_rmse: 2.1255 - val_mse: 4.7281\n",
      "Epoch 22/30\n",
      "58/58 [==============================] - 0s 3ms/step - loss: 3.8403 - rmse: 1.9422 - mse: 3.8366 - val_loss: 3.9648 - val_rmse: 1.9502 - val_mse: 3.9821\n",
      "Epoch 23/30\n",
      "58/58 [==============================] - 0s 3ms/step - loss: 3.3098 - rmse: 1.8041 - mse: 3.3069 - val_loss: 3.4543 - val_rmse: 1.8230 - val_mse: 3.4763\n",
      "Epoch 24/30\n",
      "58/58 [==============================] - 0s 3ms/step - loss: 2.9706 - rmse: 1.7104 - mse: 2.9685 - val_loss: 3.1145 - val_rmse: 1.7342 - val_mse: 3.1397\n",
      "Epoch 25/30\n",
      "58/58 [==============================] - 0s 3ms/step - loss: 2.7620 - rmse: 1.6502 - mse: 2.7607 - val_loss: 2.8996 - val_rmse: 1.6766 - val_mse: 2.9270\n",
      "Epoch 26/30\n",
      "58/58 [==============================] - 0s 3ms/step - loss: 2.6381 - rmse: 1.6134 - mse: 2.6375 - val_loss: 2.7591 - val_rmse: 1.6380 - val_mse: 2.7876\n",
      "Epoch 27/30\n",
      "58/58 [==============================] - 0s 4ms/step - loss: 2.5667 - rmse: 1.5918 - mse: 2.5666 - val_loss: 2.6682 - val_rmse: 1.6129 - val_mse: 2.6969\n",
      "Epoch 28/30\n",
      "58/58 [==============================] - 0s 3ms/step - loss: 2.5249 - rmse: 1.5790 - mse: 2.5252 - val_loss: 2.6103 - val_rmse: 1.5968 - val_mse: 2.6390\n",
      "Epoch 29/30\n",
      "58/58 [==============================] - 0s 3ms/step - loss: 2.4992 - rmse: 1.5710 - mse: 2.4998 - val_loss: 2.5682 - val_rmse: 1.5851 - val_mse: 2.5965\n",
      "Epoch 30/30\n",
      "58/58 [==============================] - 0s 3ms/step - loss: 2.4852 - rmse: 1.5666 - mse: 2.4861 - val_loss: 2.5407 - val_rmse: 1.5775 - val_mse: 2.5685\n"
     ]
    }
   ],
   "source": [
    "# Compile the keras model\n",
    "model.compile(optimizer=\"adam\",\n",
    "              loss=\"mse\",\n",
    "              metrics=[rmse, \"mse\"])\n",
    "\n",
    "\n",
    "history = model.fit(train,\n",
    "          validation_data=eval_,\n",
    "          epochs=30)"
   ]
  },
  {
   "cell_type": "markdown",
   "metadata": {},
   "source": [
    "### High-level model evaluation\n",
    "\n",
    "Once we've run data through the model, we can call `.summary()` on the model to get a high-level summary of our network. We can also plot the training and evaluation curves for the metrics we computed above. "
   ]
  },
  {
   "cell_type": "code",
   "execution_count": 15,
   "metadata": {},
   "outputs": [
    {
     "name": "stdout",
     "output_type": "stream",
     "text": [
      "Model: \"sequential\"\n",
      "_________________________________________________________________\n",
      "Layer (type)                 Output Shape              Param #   \n",
      "=================================================================\n",
      "dense_features (DenseFeature multiple                  0         \n",
      "_________________________________________________________________\n",
      "h1 (Dense)                   multiple                  34880     \n",
      "_________________________________________________________________\n",
      "h2 (Dense)                   multiple                  264       \n",
      "_________________________________________________________________\n",
      "output (Dense)               multiple                  9         \n",
      "=================================================================\n",
      "Total params: 35,153\n",
      "Trainable params: 35,153\n",
      "Non-trainable params: 0\n",
      "_________________________________________________________________\n"
     ]
    }
   ],
   "source": [
    "# The summary() is a generic function used to produce result summaries of the results of various model fitting functions.\n",
    "model.summary()"
   ]
  },
  {
   "cell_type": "code",
   "execution_count": 16,
   "metadata": {},
   "outputs": [
    {
     "data": {
      "text/plain": [
       "<matplotlib.axes._subplots.AxesSubplot at 0x14e1e5150>"
      ]
     },
     "execution_count": 16,
     "metadata": {},
     "output_type": "execute_result"
    },
    {
     "data": {
      "image/png": "[encoded data removed]",
      "text/plain": [
       "<Figure size 432x288 with 1 Axes>"
      ]
     },
     "metadata": {
      "needs_background": "light"
     },
     "output_type": "display_data"
    }
   ],
   "source": [
    "RMSE_COLS = ['rmse', 'val_rmse']\n",
    "\n",
    "# The history object is returned from calls to the fit() function used to train the model.\n",
    "# Metrics are stored in a dictionary in the history member of the object returned.\n",
    "pd.DataFrame(history.history)[RMSE_COLS].plot()"
   ]
  },
  {
   "cell_type": "code",
   "execution_count": 17,
   "metadata": {},
   "outputs": [
    {
     "data": {
      "text/plain": [
       "<matplotlib.axes._subplots.AxesSubplot at 0x1506c4890>"
      ]
     },
     "execution_count": 17,
     "metadata": {},
     "output_type": "execute_result"
    },
    {
     "data": {
      "image/png": "[encoded data removed]",
      "text/plain": [
       "<Figure size 432x288 with 1 Axes>"
      ]
     },
     "metadata": {
      "needs_background": "light"
     },
     "output_type": "display_data"
    }
   ],
   "source": [
    "LOSS_COLS = ['loss', 'val_loss']\n",
    "\n",
    "# The history object is returned from calls to the fit() function used to train the model.\n",
    "# Metrics are stored in a dictionary in the history member of the object returned.\n",
    "pd.DataFrame(history.history)[LOSS_COLS].plot()"
   ]
  },
  {
   "cell_type": "code",
   "execution_count": 18,
   "metadata": {},
   "outputs": [
    {
     "name": "stdout",
     "output_type": "stream",
     "text": [
      "8/8 [==============================] - 0s 26ms/step - loss: 2.6650 - rmse: 1.6240 - mse: 2.6650\n"
     ]
    }
   ],
   "source": [
    "# Evaluation with data never seen by the model\n",
    "eval_model = model.evaluate(test)"
   ]
  },
  {
   "cell_type": "markdown",
   "metadata": {},
   "source": [
    "## Making predictions with our model\n",
    "\n",
    "To make predictions with our trained model, we can call the [predict method](https://www.tensorflow.org/api_docs/python/tf/keras/Model#predict), passing to it a dictionary of values. The `steps` parameter determines the total number of steps before declaring the prediction round finished. Here since we have just one example, we set `steps=1` (setting `steps=None` would also work). Note, however, that if x is a `tf.data` dataset or a dataset iterator, and steps is set to None, predict will run until the input dataset is exhausted."
   ]
  },
  {
   "cell_type": "code",
   "execution_count": 19,
   "metadata": {},
   "outputs": [
    {
     "data": {
      "text/plain": [
       "array([[24.720337]], dtype=float32)"
      ]
     },
     "execution_count": 19,
     "metadata": {},
     "output_type": "execute_result"
    }
   ],
   "source": [
    "# The predict() method will predict the response for model. \n",
    "# Using tf.convert_to_tensor() we will convert the given value to a Tensor. \n",
    "model.predict(x={\"epoque\": tf.convert_to_tensor(['Avant 1946']),\n",
    "                 \"piece\": tf.convert_to_tensor([2]),\n",
    "                 \"id_quartier\": tf.convert_to_tensor([77]),\n",
    "                 \"id_zone\": tf.convert_to_tensor([11]),\n",
    "                 \"meuble_txt\": tf.convert_to_tensor(['non meublé']),\n",
    "                 \"lat\": tf.convert_to_tensor([48.8715312006]),\n",
    "                 \"lon\": tf.convert_to_tensor([2.38754923985]),\n",
    "                 \"annee\": tf.convert_to_tensor([2020]),\n",
    "                 \"code_grand_quartier\": tf.convert_to_tensor([7512077]),\n",
    "                 \"max\": tf.convert_to_tensor([25.68]),\n",
    "                 \"min\": tf.convert_to_tensor([14.98]),\n",
    "                 \"nom_quartier\": tf.convert_to_tensor(['Belleville']),\n",
    "                 \"ville\": tf.convert_to_tensor(['PARIS'])}, \n",
    "              steps=1)"
   ]
  },
  {
   "cell_type": "markdown",
   "metadata": {},
   "source": [
    "# Export and deploy our model\n",
    "\n",
    "Of course, making individual predictions is not realistic, because we can't expect client code to have a model object in memory. For others to use our trained model, we'll have to export our model to a file, and expect client code to instantiate the model from that exported file. \n",
    "\n",
    "We'll export the model to a TensorFlow SavedModel format. Once we have a model in this format, we have lots of ways to \"serve\" the model, from a web application, from JavaScript, from mobile applications, etc."
   ]
  },
  {
   "cell_type": "code",
   "execution_count": 22,
   "metadata": {},
   "outputs": [
    {
     "name": "stdout",
     "output_type": "stream",
     "text": [
      "INFO:tensorflow:Assets written to: ./savedmodel/20201220214452/assets\n"
     ]
    }
   ],
   "source": [
    "import os\n",
    "import shutil\n",
    "import datetime as dt\n",
    "\n",
    "OUTPUT_DIR = \"./savedmodel\"\n",
    "\n",
    "# shutil.rmtree(OUTPUT_DIR, ignore_errors=True)\n",
    "\n",
    "# The join() method takes all items in an iterable and joins them into one string.\n",
    "EXPORT_PATH = os.path.join(OUTPUT_DIR,\n",
    "                           dt.datetime.now().strftime(\"%Y%m%d%H%M%S\"))\n",
    "\n",
    "tf.saved_model.save(model, EXPORT_PATH)  # with default serving function"
   ]
  },
  {
   "cell_type": "code",
   "execution_count": 25,
   "metadata": {},
   "outputs": [
    {
     "name": "stdout",
     "output_type": "stream",
     "text": [
      "The given SavedModel SignatureDef contains the following input(s):\n",
      "  inputs['annee'] tensor_info:\n",
      "      dtype: DT_INT32\n",
      "      shape: (-1, 1)\n",
      "      name: serving_default_annee:0\n",
      "  inputs['code_grand_quartier'] tensor_info:\n",
      "      dtype: DT_INT32\n",
      "      shape: (-1, 1)\n",
      "      name: serving_default_code_grand_quartier:0\n",
      "  inputs['epoque'] tensor_info:\n",
      "      dtype: DT_STRING\n",
      "      shape: (-1, 1)\n",
      "      name: serving_default_epoque:0\n",
      "  inputs['id_quartier'] tensor_info:\n",
      "      dtype: DT_INT32\n",
      "      shape: (-1, 1)\n",
      "      name: serving_default_id_quartier:0\n",
      "  inputs['id_zone'] tensor_info:\n",
      "      dtype: DT_INT32\n",
      "      shape: (-1, 1)\n",
      "      name: serving_default_id_zone:0\n",
      "  inputs['lat'] tensor_info:\n",
      "      dtype: DT_FLOAT\n",
      "      shape: (-1, 1)\n",
      "      name: serving_default_lat:0\n",
      "  inputs['lon'] tensor_info:\n",
      "      dtype: DT_FLOAT\n",
      "      shape: (-1, 1)\n",
      "      name: serving_default_lon:0\n",
      "  inputs['max'] tensor_info:\n",
      "      dtype: DT_FLOAT\n",
      "      shape: (-1, 1)\n",
      "      name: serving_default_max:0\n",
      "  inputs['meuble_txt'] tensor_info:\n",
      "      dtype: DT_STRING\n",
      "      shape: (-1, 1)\n",
      "      name: serving_default_meuble_txt:0\n",
      "  inputs['min'] tensor_info:\n",
      "      dtype: DT_FLOAT\n",
      "      shape: (-1, 1)\n",
      "      name: serving_default_min:0\n",
      "  inputs['nom_quartier'] tensor_info:\n",
      "      dtype: DT_STRING\n",
      "      shape: (-1, 1)\n",
      "      name: serving_default_nom_quartier:0\n",
      "  inputs['piece'] tensor_info:\n",
      "      dtype: DT_INT32\n",
      "      shape: (-1, 1)\n",
      "      name: serving_default_piece:0\n",
      "  inputs['ville'] tensor_info:\n",
      "      dtype: DT_STRING\n",
      "      shape: (-1, 1)\n",
      "      name: serving_default_ville:0\n",
      "The given SavedModel SignatureDef contains the following output(s):\n",
      "  outputs['output_1'] tensor_info:\n",
      "      dtype: DT_FLOAT\n",
      "      shape: (-1, 1)\n",
      "      name: StatefulPartitionedCall_48:0\n",
      "Method name is: tensorflow/serving/predict\n",
      "./savedmodel/20201220214452\n",
      "./savedmodel/20201220214452/variables\n",
      "./savedmodel/20201220214452/variables/variables.data-00000-of-00001\n",
      "./savedmodel/20201220214452/variables/variables.index\n",
      "./savedmodel/20201220214452/saved_model.pb\n",
      "./savedmodel/20201220214452/assets\n"
     ]
    }
   ],
   "source": [
    "!saved_model_cli show \\\n",
    " --tag_set serve \\\n",
    " --signature_def serving_default \\\n",
    " --dir {EXPORT_PATH}\n",
    "!find {EXPORT_PATH}\n",
    "os.environ['EXPORT_PATH'] = EXPORT_PATH"
   ]
  },
  {
   "cell_type": "markdown",
   "metadata": {},
   "source": [
    "# End"
   ]
  }
 ],
 "metadata": {
  "kernelspec": {
   "display_name": "Python 3",
   "language": "python",
   "name": "python3"
  },
  "language_info": {
   "codemirror_mode": {
    "name": "ipython",
    "version": 3
   },
   "file_extension": ".py",
   "mimetype": "text/x-python",
   "name": "python",
   "nbconvert_exporter": "python",
   "pygments_lexer": "ipython3",
   "version": "3.7.4"
  }
 },
 "nbformat": 4,
 "nbformat_minor": 4
}
